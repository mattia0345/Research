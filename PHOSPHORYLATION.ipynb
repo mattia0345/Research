{
 "cells": [
  {
   "cell_type": "code",
   "execution_count": 963,
   "id": "0b94097c",
   "metadata": {},
   "outputs": [
    {
     "name": "stdout",
     "output_type": "stream",
     "text": [
      "Valid single-step transitions:\n",
      "0 --> 1 (E), 0, 1\n",
      "1 --> 0 (F), 1, 0\n",
      "Valid E reactions are:  [['0', '1', 0, 1, 'E']] with total number of reactions =  1\n",
      "Valid F reactions are:  [['1', '0', 1, 0, 'F']] with total number of reactions =  1\n"
     ]
    }
   ],
   "source": [
    "import numpy as np\n",
    "\n",
    "def padded_binary(i: int, n: int) -> str:\n",
    "    return bin(i)[2:].zfill(n)\n",
    "\n",
    "def binary_string_to_array(string: str):\n",
    "    return np.array(list(string), dtype=int)\n",
    "\n",
    "def calculate_valid_transitions(n: int):\n",
    "    num_states = 2**n\n",
    "    all_states = [padded_binary(i, n) for i in range(num_states)]\n",
    "    \n",
    "    # print(f\"Total number of states: {num_states}\")\n",
    "    print(\"Valid single-step transitions:\")\n",
    "\n",
    "    valid_difference_vectors = set()\n",
    "    \n",
    "    valid_E_reactions = [] # distributively\n",
    "    valid_F_reactions = [] # distributively\n",
    "\n",
    "    for i in range(num_states):\n",
    "        for j in range(num_states):\n",
    "            # Do not consider transitions from a state to itself\n",
    "            if i == j:\n",
    "                continue\n",
    "\n",
    "            if np.sum(np.abs(binary_string_to_array(all_states[j]) - binary_string_to_array(all_states[i]))) == 1:\n",
    "                # Determine if it's a phosphorylation or dephosphorylation event\n",
    "                # A +1 indicates phosphorylation, a -1 indicates dephosphorylation\n",
    "                element = \"E\" if np.any(binary_string_to_array(all_states[j]) - binary_string_to_array(all_states[i]) == 1) else \"F\"\n",
    "                \n",
    "                if element == \"E\":\n",
    "                    print(f\"{all_states[i]} --> {all_states[j]} ({element}), {i}, {j}\")\n",
    "                    valid_E_reactions.append([all_states[i], all_states[j], i, j, element])\n",
    "                if element == \"F\":\n",
    "                    print(f\"{all_states[i]} --> {all_states[j]} ({element}), {i}, {j}\")\n",
    "                    valid_F_reactions.append([all_states[i], all_states[j], i, j, element])\n",
    "\n",
    "                # Add the difference vector to a set to find unique vectors\n",
    "                valid_difference_vectors.add(tuple(binary_string_to_array(all_states[j]) - binary_string_to_array(all_states[i])))\n",
    "                \n",
    "    # for vec in sorted(list(valid_difference_vectors)):\n",
    "    #     print(f\"{list(vec)}\")\n",
    "\n",
    "    return valid_E_reactions, valid_F_reactions\n",
    "# Run the function for a system of 3 proteins\n",
    "n = 1\n",
    "valid_E_reactions, valid_F_reactions = calculate_valid_transitions(n)\n",
    "print(\"Valid E reactions are: \", valid_E_reactions, \"with total number of reactions = \", len(valid_E_reactions))\n",
    "print(\"Valid F reactions are: \", valid_F_reactions, \"with total number of reactions = \", len(valid_F_reactions))\n"
   ]
  },
  {
   "cell_type": "code",
   "execution_count": null,
   "id": "d21d364f",
   "metadata": {},
   "outputs": [
    {
     "name": "stdout",
     "output_type": "stream",
     "text": [
      "\n",
      "Valid single-step transitions:\n",
      "0 --> 1 (E), 0, 1\n",
      "1 --> 0 (F), 1, 0\n",
      "cE_out_map: {0: [1]}\n",
      "cF_out_map: {1: [0]}\n",
      "cE_in_map: {1: [0]}\n",
      "cF_in_map: {0: [1]}\n",
      "S[0] -> -E.S[0]*a^E[0] + ES[0]*b^E[0] + FS[1]*c^F[1, 0]\n",
      "S[1] -> -E.S[1]*a^E[1] + ES[0]*c^E[0, 1] + ES[1]*b^E[1] - F.S[1]*a^F[1] + FS[1]*b^F[1]\n",
      "ES[0] -> -(b^E[0] + c^E[0, 1])*ES[0] + E.S[0]*a^E[0]\n",
      "FS[1] -> -(b^F[1] + c^F[1, 0])*FS[1] + F.S[1]*a^F[1]\n",
      "E -> (b^E[0] + c^E[0, 1])*ES[0] - E.S[0]*a^E[0]\n",
      "F -> (b^F[1] + c^F[1, 0])*FS[1] - F.S[1]*a^F[1]\n",
      "<class 'dict'>\n"
     ]
    }
   ],
   "source": [
    "import numpy as np\n",
    "import sympy as sp\n",
    "from typing import Dict\n",
    "\n",
    "def generate_odes(n: int) -> Dict[sp.Symbol, sp.Expr]:\n",
    "    if n <= 0:\n",
    "        raise ValueError(\"n must be a positive integer\")\n",
    "\n",
    "    valid_E_reactions, valid_F_reactions = calculate_valid_transitions(n)\n",
    "    num_states = 2**n  \n",
    "\n",
    "    # symbolic objects\n",
    "    E = sp.Symbol('E'); F = sp.Symbol('F')\n",
    "    S = sp.IndexedBase('S')\n",
    "    ES = sp.IndexedBase('ES'); EdotS = sp.IndexedBase('E.S')\n",
    "    FS = sp.IndexedBase('FS'); FdotS = sp.IndexedBase('F.S')\n",
    "\n",
    "    a_E = sp.IndexedBase('a^E'); a_F = sp.IndexedBase('a^F')\n",
    "    b_E = sp.IndexedBase('b^E'); b_F = sp.IndexedBase('b^F')\n",
    "    c_E = sp.IndexedBase('c^E'); c_F = sp.IndexedBase('c^F')\n",
    "\n",
    "    d_dt = {}\n",
    "\n",
    "    # Build maps:\n",
    "    # outgoing: k -> [j]\n",
    "    cE_out = {}\n",
    "    for _, _, k, j, _ in valid_E_reactions:\n",
    "        cE_out.setdefault(k, []).append(j)\n",
    "    cF_out = {}\n",
    "    for _, _, k, j, _ in valid_F_reactions:\n",
    "        cF_out.setdefault(k, []).append(j)\n",
    "\n",
    "    cE_in = {}\n",
    "    for _, _, k, j, _ in valid_E_reactions:\n",
    "        cE_in.setdefault(j, []).append(k)\n",
    "    cF_in = {}\n",
    "    for _, _, k, j, _ in valid_F_reactions:\n",
    "        cF_in.setdefault(j, []).append(k)\n",
    "\n",
    "    print(\"cE_out_map:\", cE_out)\n",
    "    print(\"cF_out_map:\", cF_out)\n",
    "    print(\"cE_in_map:\", cE_in)\n",
    "    print(\"cF_in_map:\", cF_in) \n",
    "\n",
    "    for i in range(num_states):\n",
    "\n",
    "        term_E = 0\n",
    "        if 0 <= i < N:\n",
    "            term_E += b_E[i] * ES[i]\n",
    "            term_E -= a_E[i] * EdotS[i]\n",
    "        else:\n",
    "            term_E += 0\n",
    "\n",
    "        term_F = 0\n",
    "        if 0 < i <= N:\n",
    "            term_F += b_F[i] * FS[i]\n",
    "            term_F -= a_F[i] * FdotS[i]\n",
    "\n",
    "        sum_cE = sum(c_E[k, i] * ES[k] for k in cE_in.get(i, [])) if i in cE_in else 0\n",
    "        sum_cF = sum(c_F[k, i] * FS[k] for k in cF_in.get(i, [])) if i in cF_in else 0\n",
    "\n",
    "        d_dt[S[i]] = term_E + term_F + sum_cE + sum_cF\n",
    "\n",
    "    for i in range(0, num_states - 1):\n",
    "        sum_c_E_ij = sum(c_E[i, j] for j in cE_out.get(i, [])) if i in cE_out else 0\n",
    "        d_dt[ES[i]] = a_E[i] * EdotS[i] - (b_E[i] + sum_c_E_ij) * ES[i]\n",
    "\n",
    "    for i in range(1, num_states):\n",
    "        sum_c_F_ij = sum(c_F[i, j] for j in cF_out.get(i, [])) if i in cF_out else 0\n",
    "        d_dt[FS[i]] = a_F[i] * FdotS[i] - (b_F[i] + sum_c_F_ij) * FS[i]\n",
    "\n",
    "    d_dt[E] = sum(\n",
    "        -a_E[j] * EdotS[j]\n",
    "        + (b_E[j] + (sum(c_E[j, k] for k in cE_out.get(j, [])) if j in cE_out else 0)) * ES[j]\n",
    "        for j in range(0, num_states - 1)  \n",
    "    )\n",
    "\n",
    "    d_dt[F] = sum(\n",
    "        -a_F[j] * FdotS[j]\n",
    "        + (b_F[j] + (sum(c_F[j, k] for k in cF_out.get(j, [])) if j in cF_out else 0)) * FS[j]\n",
    "        for j in range(1, num_states)  \n",
    "    )\n",
    "    # for i in len(d_dt[ES]):\n",
    "    #     print(i)\n",
    "    return d_dt\n",
    "\n",
    "n = 1\n",
    "# valid_E_reactions, valid_F_reactions = calculate_valid_transitions(n)\n",
    "# print(\"Valid E reactions are: \", valid_E_reactions, \"with total number of reactions = \", len(valid_E_reactions))\n",
    "# print(\"Valid F reactions are: \", valid_F_reactions, \"with total number of reactions = \", len(valid_F_reactions))\n",
    "print()\n",
    "odes = generate_odes(n)\n",
    "for k, v in odes.items():\n",
    "    print(k, \"->\", v)\n",
    "\n",
    "# print(type(odes))"
   ]
  },
  {
   "cell_type": "code",
   "execution_count": 977,
   "id": "480fd549",
   "metadata": {},
   "outputs": [
    {
     "data": {
      "text/latex": [
       "$\\displaystyle - \\left({b^{E}}_{0} + {c^{E}}_{0,1}\\right) {ES}_{0} - {E.S}_{1} {a^{E}}_{1} + {ES}_{0} {b^{E}}_{0} + {ES}_{0} {c^{E}}_{0,1} + {ES}_{1} {b^{E}}_{1} - {F.S}_{1} {a^{F}}_{1} + {FS}_{1} {b^{F}}_{1} + {FS}_{1} {c^{F}}_{1,0}$"
      ],
      "text/plain": [
       "-(b^E[0] + c^E[0, 1])*ES[0] - E.S[1]*a^E[1] + ES[0]*b^E[0] + ES[0]*c^E[0, 1] + ES[1]*b^E[1] - F.S[1]*a^F[1] + FS[1]*b^F[1] + FS[1]*c^F[1, 0]"
      ]
     },
     "execution_count": 977,
     "metadata": {},
     "output_type": "execute_result"
    }
   ],
   "source": [
    "odes[S[0]] + odes[S[1]] + odes[ES[0]]"
   ]
  },
  {
   "cell_type": "code",
   "execution_count": 978,
   "id": "04776f7c",
   "metadata": {},
   "outputs": [
    {
     "data": {
      "text/latex": [
       "$\\displaystyle 0$"
      ],
      "text/plain": [
       "0"
      ]
     },
     "execution_count": 978,
     "metadata": {},
     "output_type": "execute_result"
    }
   ],
   "source": [
    "odes[ES[0]]+ odes[E]"
   ]
  },
  {
   "cell_type": "code",
   "execution_count": 979,
   "id": "a1d06029",
   "metadata": {},
   "outputs": [
    {
     "data": {
      "text/latex": [
       "$\\displaystyle 0$"
      ],
      "text/plain": [
       "0"
      ]
     },
     "execution_count": 979,
     "metadata": {},
     "output_type": "execute_result"
    }
   ],
   "source": [
    "odes[FS[1]] + odes[F]"
   ]
  },
  {
   "cell_type": "code",
   "execution_count": null,
   "id": "3b91c1f9",
   "metadata": {},
   "outputs": [
    {
     "ename": "_IncompleteInputError",
     "evalue": "incomplete input (944706081.py, line 1)",
     "output_type": "error",
     "traceback": [
      "  \u001b[36mCell\u001b[39m\u001b[36m \u001b[39m\u001b[32mIn[980]\u001b[39m\u001b[32m, line 1\u001b[39m\n\u001b[31m    \u001b[39m\u001b[31mdef defining_phosphorylation_reactions(n: int, phosphorylation_dictionary: dict) -> list:\u001b[39m\n                                                                                             ^\n\u001b[31m_IncompleteInputError\u001b[39m\u001b[31m:\u001b[39m incomplete input\n"
     ]
    }
   ],
   "source": [
    "# def defining_phosphorylation_reactions(n: int, phosphorylation_dictionary: dict) -> list:"
   ]
  },
  {
   "cell_type": "code",
   "execution_count": null,
   "id": "520cd8f1",
   "metadata": {},
   "outputs": [],
   "source": []
  }
 ],
 "metadata": {
  "kernelspec": {
   "display_name": ".venv",
   "language": "python",
   "name": "python3"
  },
  "language_info": {
   "codemirror_mode": {
    "name": "ipython",
    "version": 3
   },
   "file_extension": ".py",
   "mimetype": "text/x-python",
   "name": "python",
   "nbconvert_exporter": "python",
   "pygments_lexer": "ipython3",
   "version": "3.13.7"
  }
 },
 "nbformat": 4,
 "nbformat_minor": 5
}
