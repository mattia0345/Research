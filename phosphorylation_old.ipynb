{
 "cells": [
  {
   "cell_type": "code",
   "execution_count": 2,
   "id": "3d33dd7b",
   "metadata": {},
   "outputs": [],
   "source": [
    "import numpy as np\n",
    "import sympy as sp\n",
    "from typing import List, Tuple, Dict, Any, Set\n",
    "from scipy.stats import levy\n",
    "import matplotlib.pyplot as plt\n",
    "from scipy.integrate import solve_ivp\n",
    "\n",
    "class all_parameter_generation:\n",
    "    \"\"\"\n",
    "    Generate state transitions and random parameters (a, b, c, enzyme) for an n-site phosphorylation model.\n",
    "\n",
    "    Args:\n",
    "        n: number of sites (int)\n",
    "        distribution: distribution name (\"gamma\" supported)\n",
    "        params: parameters for the distribution (for gamma: [shape, scale])\n",
    "        verbose: if True, prints transitions and matrices\n",
    "    \"\"\"\n",
    "    def __init__(self, n: int, reaction_types: str, distribution: str, distribution_paramaters: List[float], verbose: bool = False):\n",
    "        self.n = n\n",
    "        self.num_states = 2 ** n\n",
    "        self.distribution = distribution\n",
    "        self.params = distribution_paramaters\n",
    "        self.reaction_types = reaction_types\n",
    "        self.verbose = verbose\n",
    "        self.rng = np.random.default_rng()\n",
    "        \n",
    "    @staticmethod\n",
    "    def padded_binary(i: int, n: int) -> str:\n",
    "        return bin(i)[2:].zfill(n)\n",
    "\n",
    "    @staticmethod\n",
    "    def binary_string_to_array(string: str) -> np.ndarray:\n",
    "        return np.array([int(i) for i in string], dtype=int)\n",
    "\n",
    "    def calculate_valid_transitions(self) -> Tuple[List[List[Any]], List[List[Any]]]:\n",
    "        \"\"\"\n",
    "        Returns:\n",
    "            valid_X_reactions: list of [state_i_str, state_j_str, i, j, \"E\"]\n",
    "            valid_Y_reactions: list of [state_i_str, state_j_str, i, j, \"F\"]\n",
    "        \"\"\"\n",
    "        all_states = [self.padded_binary(i, self.n) for i in range(self.num_states)]\n",
    "\n",
    "        valid_difference_vectors: Set[Tuple[int, ...]] = set()\n",
    "        valid_X_reactions: List[List[Any]] = []\n",
    "        valid_Y_reactions: List[List[Any]] = []\n",
    "\n",
    "        for i in range(self.num_states):\n",
    "            arr_i = self.binary_string_to_array(all_states[i])\n",
    "            for j in range(self.num_states):\n",
    "                if i == j:\n",
    "                    continue\n",
    "                arr_j = self.binary_string_to_array(all_states[j])\n",
    "                diff = arr_j - arr_i\n",
    "                # if self.reaction_types == \"distributive\":\n",
    "                    \n",
    "                hamming_weight = np.sum(np.abs(diff))\n",
    "\n",
    "                if hamming_weight == 1:\n",
    "                    # +1 -> phosphorylation (E), -1 -> dephosphorylation (F)\n",
    "                    element = \"E\" if np.any(diff == 1) else \"F\"\n",
    "                    if element == \"E\":\n",
    "                        if self.verbose:\n",
    "                            print(f\"{all_states[i]} --> {all_states[j]} (E), {i}, {j}\")\n",
    "                        valid_X_reactions.append([all_states[i], all_states[j], i, j, element])\n",
    "                    else:\n",
    "                        if self.verbose:\n",
    "                            print(f\"{all_states[i]} --> {all_states[j]} (F), {i}, {j}\")\n",
    "                        valid_Y_reactions.append([all_states[i], all_states[j], i, j, element])\n",
    "                    valid_difference_vectors.add(tuple(diff))\n",
    "\n",
    "        return valid_X_reactions, valid_Y_reactions\n",
    "    \n",
    "    def alpha_parameter_generation(self) -> Tuple[np.ndarray, np.ndarray, np.ndarray, np.ndarray,\n",
    "                                            Dict[int, List[int]], Dict[int, List[int]],\n",
    "                                            Dict[int, List[int]], Dict[int, List[int]]]:\n",
    "        \n",
    "        valid_X_reactions, valid_Y_reactions = self.calculate_valid_transitions()\n",
    "\n",
    "        shape, scale = self.params\n",
    "\n",
    "        alpha_matrix = np.zeros((self.num_states, self.num_states))\n",
    "\n",
    "        for _, _, i, j, _ in valid_X_reactions:\n",
    "\n",
    "            alpha_matrix[i][j] = self.rng.gamma(shape, scale)\n",
    "\n",
    "        return alpha_matrix\n",
    "\n",
    "    def beta_parameter_generation(self) -> Tuple[np.ndarray, np.ndarray, np.ndarray, np.ndarray,\n",
    "                                            Dict[int, List[int]], Dict[int, List[int]],\n",
    "                                            Dict[int, List[int]], Dict[int, List[int]]]:\n",
    "        \n",
    "        valid_X_reactions, valid_Y_reactions = self.calculate_valid_transitions()\n",
    "\n",
    "        shape, scale = self.params\n",
    "        beta_matrix = np.zeros((self.num_states, self.num_states))\n",
    "        \n",
    "        for _, _, i, j, _ in valid_Y_reactions:\n",
    "\n",
    "            beta_matrix[i][j] = self.rng.gamma(shape, scale)\n",
    "\n",
    "        return beta_matrix\n",
    "    \n",
    "    def k_parameter_generation(self) -> Tuple[np.ndarray, np.ndarray]:\n",
    "        # if self.distribution != \"gamma\":\n",
    "        #     raise NotImplementedError(\"Only 'gamma' distribution implemented for a_parameter_generation\")\n",
    "        shape, scale = self.params\n",
    "        if self.distribution == \"gamma\":\n",
    "            k_positive_rates = self.rng.gamma(shape, scale, self.num_states - 1)\n",
    "            k_negative_rates = self.rng.gamma(shape, scale, self.num_states - 1)\n",
    "        if self.distribution == \"levy\":\n",
    "            k_positive_rates = levy.rvs(loc=shape, scale=scale, size=self.num_states - 1, random_state=self.rng)\n",
    "            k_negative_rates = levy.rvs(loc=shape, scale=scale, size=self.num_states - 1, random_state=self.rng)\n",
    "        # k_positive_rates[-1] = 0\n",
    "        # k_negative_rates[-1] = 0\n",
    "        \n",
    "        return k_positive_rates, k_negative_rates\n",
    "\n",
    "    def p_parameter_generation(self) -> Tuple[np.ndarray, np.ndarray]:\n",
    "        \n",
    "        # if self.distribution != \"gamma\":\n",
    "        #     raise NotImplementedError(\"Only 'gamma' distribution implemented for b_parameter_generation\")\n",
    "        shape, scale = self.params\n",
    "        if self.distribution == \"gamma\":\n",
    "            p_positive_rates = self.rng.gamma(shape, scale, self.num_states - 1)\n",
    "            p_negative_rates = self.rng.gamma(shape, scale, self.num_states - 1)\n",
    "        if self.distribution == \"levy\":\n",
    "            p_positive_rates = levy.rvs(loc=shape, scale=scale, size=self.num_states - 1, random_state=self.rng)\n",
    "            p_negative_rates = levy.rvs(loc=shape, scale=scale, size=self.num_states - 1, random_state=self.rng)\n",
    "        # p_positive_rates[0] = 0\n",
    "        # p_negative_rates[0] = 0\n",
    "\n",
    "        return p_positive_rates, p_negative_rates\n",
    "    "
   ]
  },
  {
   "cell_type": "code",
   "execution_count": 3,
   "id": "a068d42b",
   "metadata": {},
   "outputs": [
    {
     "data": {
      "text/latex": [
       "$\\displaystyle \\frac{Y {A}_{1}}{X}$"
      ],
      "text/plain": [
       "Y*A[1]/X"
      ]
     },
     "execution_count": 3,
     "metadata": {},
     "output_type": "execute_result"
    }
   ],
   "source": [
    "from sympy import solve\n",
    "# from sympy.abc import A0, A1, B0, C1, X, Y\n",
    "X = sp.Symbol('X'); Y = sp.Symbol('Y')\n",
    "A = sp.IndexedBase('A')\n",
    "B = sp.IndexedBase('B')\n",
    "C = sp.IndexedBase('C')\n",
    "solutions = solve([-X*A[0] + B[0] + C[1], -Y*A[1] + C[1] + B[0], X*A[0] - 2*B[0], Y*A[1] - 2*C[1], -X*A[0] + 2*B[0], -Y*A[1] + 2*C[1]], [A[0], A[1], B[0], C[1], X, Y], dict=True)\n",
    "solutions[0][A[0]]\n"
   ]
  },
  {
   "cell_type": "code",
   "execution_count": 4,
   "id": "92da032a",
   "metadata": {},
   "outputs": [
    {
     "data": {
      "text/latex": [
       "$\\displaystyle \\frac{Y {A}_{1}}{2}$"
      ],
      "text/plain": [
       "Y*A[1]/2"
      ]
     },
     "execution_count": 4,
     "metadata": {},
     "output_type": "execute_result"
    }
   ],
   "source": [
    "solutions[0][B[0]]"
   ]
  },
  {
   "cell_type": "code",
   "execution_count": 5,
   "id": "860b9be5",
   "metadata": {},
   "outputs": [
    {
     "data": {
      "text/latex": [
       "$\\displaystyle \\frac{Y {A}_{1}}{2}$"
      ],
      "text/plain": [
       "Y*A[1]/2"
      ]
     },
     "execution_count": 5,
     "metadata": {},
     "output_type": "execute_result"
    }
   ],
   "source": [
    "solutions[0][C[1]]"
   ]
  },
  {
   "cell_type": "code",
   "execution_count": 6,
   "id": "36260d1e",
   "metadata": {},
   "outputs": [
    {
     "name": "stdout",
     "output_type": "stream",
     "text": [
      "Matrix([[b_0], [0]])\n",
      "Matrix([[0], [c_1]])\n"
     ]
    },
    {
     "ename": "NameError",
     "evalue": "name 'calculate_valid_transitions' is not defined",
     "output_type": "error",
     "traceback": [
      "\u001b[31m---------------------------------------------------------------------------\u001b[39m",
      "\u001b[31mNameError\u001b[39m                                 Traceback (most recent call last)",
      "\u001b[36mCell\u001b[39m\u001b[36m \u001b[39m\u001b[32mIn[6]\u001b[39m\u001b[32m, line 99\u001b[39m\n\u001b[32m     97\u001b[39m \u001b[38;5;66;03m# Example: build symbolic ODEs for n=2 (N=4)\u001b[39;00m\n\u001b[32m     98\u001b[39m n = \u001b[32m1\u001b[39m\n\u001b[32m---> \u001b[39m\u001b[32m99\u001b[39m odes = \u001b[43mbuild_phos_odes\u001b[49m\u001b[43m(\u001b[49m\u001b[43mn\u001b[49m\u001b[43m)\u001b[49m\n\u001b[32m    100\u001b[39m odes[\u001b[33m\"\u001b[39m\u001b[33madot\u001b[39m\u001b[33m\"\u001b[39m][\u001b[32m0\u001b[39m]\n\u001b[32m    101\u001b[39m \u001b[38;5;66;03m# sp.pprint(odes[\"adot\"])\u001b[39;00m\n\u001b[32m    102\u001b[39m \u001b[38;5;66;03m# sp.pprint(odes[\"bdot\"])\u001b[39;00m\n\u001b[32m    103\u001b[39m \u001b[38;5;66;03m# sp.pprint(odes[\"cdot\"])\u001b[39;00m\n\u001b[32m    104\u001b[39m \u001b[38;5;66;03m# sp.pprint(odes[\"xdot\"])\u001b[39;00m\n\u001b[32m    105\u001b[39m \u001b[38;5;66;03m# sp.pprint(odes[\"ydot\"])\u001b[39;00m\n",
      "\u001b[36mCell\u001b[39m\u001b[36m \u001b[39m\u001b[32mIn[6]\u001b[39m\u001b[32m, line 40\u001b[39m, in \u001b[36mbuild_phos_odes\u001b[39m\u001b[34m(n, prefix)\u001b[39m\n\u001b[32m     37\u001b[39m Pp = sp.diag(*pplus)\n\u001b[32m     38\u001b[39m Pm = sp.diag(*pminus)\n\u001b[32m---> \u001b[39m\u001b[32m40\u001b[39m valid_X_reactions, valid_Y_reactions = \u001b[43mcalculate_valid_transitions\u001b[49m(n)\n\u001b[32m     42\u001b[39m \u001b[38;5;66;03m# compute allowed transitions\u001b[39;00m\n\u001b[32m     43\u001b[39m valid_X, valid_Y = calculate_valid_transitions(n)\n",
      "\u001b[31mNameError\u001b[39m: name 'calculate_valid_transitions' is not defined"
     ]
    }
   ],
   "source": [
    "import sympy as sp\n",
    "\n",
    "def build_phos_odes(n, prefix=\"\"):\n",
    "    \"\"\"\n",
    "    Build symbolic ODEs for the phosphorylation system for given n (N = 2**n).\n",
    "    Returns a dict with keys:\n",
    "      N, a, b, c, x, y,\n",
    "      Kp, Km, Pp, Pm, Alpha, Beta, DAlpha, DBeta,\n",
    "      adot, bdot, cdot, xdot, ydot,\n",
    "      ones (vector of ones)\n",
    "    \"\"\"\n",
    "    N = 2**n\n",
    "    a_syms = sp.symbols([f\"{prefix}a_{i}\" for i in range(N)])\n",
    "    b_syms = sp.symbols([f\"{prefix}b_{i}\" for i in range(N)])\n",
    "    c_syms = sp.symbols([f\"{prefix}c_{i}\" for i in range(N)])\n",
    "    x_sym, y_sym = sp.symbols(f\"{prefix}x {prefix}y\")\n",
    "\n",
    "    a = sp.Matrix(N, 1, lambda i,j: a_syms[i])\n",
    "    b = sp.Matrix(N, 1, lambda i,j: b_syms[i])\n",
    "    b[-1] = 0\n",
    "    print(b)\n",
    "    c = sp.Matrix(N, 1, lambda i,j: c_syms[i])\n",
    "    c[0] = 0\n",
    "\n",
    "    print(c)\n",
    "\n",
    "    x = x_sym\n",
    "    y = y_sym\n",
    "\n",
    "    kplus = sp.symbols([f\"{prefix}k^+_{i}\" for i in range(N)])\n",
    "    kminus = sp.symbols([f\"{prefix}k^-_{i}\" for i in range(N)])\n",
    "    pplus = sp.symbols([f\"{prefix}p^+_{i}\" for i in range(N)])\n",
    "    pminus = sp.symbols([f\"{prefix}p^-_{i}\" for i in range(N)])\n",
    "\n",
    "    Kp = sp.diag(*kplus)\n",
    "    Km = sp.diag(*kminus)\n",
    "    Pp = sp.diag(*pplus)\n",
    "    Pm = sp.diag(*pminus)\n",
    "\n",
    "    valid_X_reactions, valid_Y_reactions = calculate_valid_transitions(n)\n",
    "\n",
    "    # compute allowed transitions\n",
    "    valid_X, valid_Y = calculate_valid_transitions(n)\n",
    "    \n",
    "    # Build Alpha and Beta with symbols only at allowed (j,k)\n",
    "    Alpha = sp.zeros(N, N)\n",
    "    Beta  = sp.zeros(N, N)\n",
    "    # create symbols for allowed entries\n",
    "    for (_, _, j,k, _) in valid_X:\n",
    "        Alpha[j,k] = sp.symbols(f\"{prefix}alpha_{j}_{k}\")\n",
    "    for (_, _, j,k, _) in valid_Y:\n",
    "        Beta[j,k] = sp.symbols(f\"{prefix}beta_{j}_{k}\")\n",
    "      \n",
    "    # Set last column and row of Alpha to zero (no transitions from or to fully phosphorylated state)\n",
    "    # Alpha[:, N-1] = sp.zeros(N, 1)\n",
    "    # Alpha[N-1, :] = sp.zeros(1, N)\n",
    "    # # Set first column and row of Beta to zero (no transitions from or to fully de\n",
    "    # Beta[:, 0] = sp.zeros(N, 1)\n",
    "    # Beta[0, :] = sp.zeros(1, N)\n",
    "    print(\"Alpha matrix:\")\n",
    "    sp.pprint(Alpha)\n",
    "    print(\"Beta matrix:\")\n",
    "    sp.pprint(Beta)\n",
    "    ones = sp.Matrix([1]*N)\n",
    "    Alpha_row_sums = Alpha * ones\n",
    "    Beta_row_sums = Beta * ones\n",
    "    DAlpha = sp.diag(*[Alpha_row_sums[i,0] for i in range(N)])\n",
    "    DBeta  = sp.diag(*[Beta_row_sums[i,0]  for i in range(N)])\n",
    "\n",
    "    # a_adjusted_for_b_dot = a.copy(); a_adjusted_for_b_dot[-1] = 0\n",
    "    # a_adjusted_for_c_dot = a.copy(); a_adjusted_for_c_dot[0] = 0\n",
    "\n",
    "    # a_adjusted_for_x_dot = a.copy(); a_adjusted_for_x_dot[-1] = 0\n",
    "    # a_adjusted_for_y_dot = a.copy(); a_adjusted_for_y_dot[0] = 0\n",
    "\n",
    "    adot = Km * b + Pm * c + Alpha.T * b + Beta.T * c - x * (Kp * a) - y * (Pp * a)\n",
    "    bdot = x * (Kp * a) - Km * b - DAlpha * b\n",
    "    cdot = y * (Pp * a) - Pm * c - DBeta * c\n",
    "\n",
    "    kplus_vec = sp.Matrix(kplus)\n",
    "    pplus_vec = sp.Matrix(pplus)\n",
    "\n",
    "    xdot = - x * (kplus_vec.T * a)[0] + (ones.T * (Km + DAlpha) * b)[0]\n",
    "    ydot = - y * (pplus_vec.T * a)[0] + (ones.T * (Pm + DBeta) * c)[0]\n",
    "    \n",
    "    return {\n",
    "        \"N\": N,\n",
    "        \"a\": a, \"b\": b, \"c\": c, \"x\": x, \"y\": y,\n",
    "        \"Kp\": Kp, \"Km\": Km, \"Pp\": Pp, \"Pm\": Pm,\n",
    "        \"Alpha\": Alpha, \"Beta\": Beta,\n",
    "        \"DAlpha\": DAlpha, \"DBeta\": DBeta,\n",
    "        \"ones\": ones,\n",
    "        \"adot\": sp.simplify(adot), \"bdot\": sp.simplify(bdot), \"cdot\": sp.simplify(cdot),\n",
    "        \"xdot\": sp.simplify(xdot), \"ydot\": sp.simplify(ydot)\n",
    "    }\n",
    "\n",
    "# Example: build symbolic ODEs for n=2 (N=4)\n",
    "n = 1\n",
    "odes = build_phos_odes(n)\n",
    "odes[\"adot\"][0]\n",
    "# sp.pprint(odes[\"adot\"])\n",
    "# sp.pprint(odes[\"bdot\"])\n",
    "# sp.pprint(odes[\"cdot\"])\n",
    "# sp.pprint(odes[\"xdot\"])\n",
    "# sp.pprint(odes[\"ydot\"])\n"
   ]
  },
  {
   "cell_type": "code",
   "execution_count": null,
   "id": "7247e439",
   "metadata": {},
   "outputs": [
    {
     "data": {
      "text/latex": [
       "$\\displaystyle a_{0} k^{+}_{0} x - \\alpha_{0 1} b_{0} - b_{0} k^{-}_{0}$"
      ],
      "text/plain": [
       "a_0*k^+_0*x - alpha_0_1*b_0 - b_0*k^-_0"
      ]
     },
     "execution_count": 404,
     "metadata": {},
     "output_type": "execute_result"
    }
   ],
   "source": [
    "odes[\"bdot\"][0]\n"
   ]
  },
  {
   "cell_type": "code",
   "execution_count": 7,
   "id": "b45c75d6",
   "metadata": {},
   "outputs": [
    {
     "ename": "NameError",
     "evalue": "name 'odes' is not defined",
     "output_type": "error",
     "traceback": [
      "\u001b[31m---------------------------------------------------------------------------\u001b[39m",
      "\u001b[31mNameError\u001b[39m                                 Traceback (most recent call last)",
      "\u001b[36mCell\u001b[39m\u001b[36m \u001b[39m\u001b[32mIn[7]\u001b[39m\u001b[32m, line 1\u001b[39m\n\u001b[32m----> \u001b[39m\u001b[32m1\u001b[39m \u001b[43modes\u001b[49m[\u001b[33m\"\u001b[39m\u001b[33mbdot\u001b[39m\u001b[33m\"\u001b[39m][\u001b[32m1\u001b[39m]\n",
      "\u001b[31mNameError\u001b[39m: name 'odes' is not defined"
     ]
    }
   ],
   "source": [
    "odes[\"bdot\"][1]\n"
   ]
  },
  {
   "cell_type": "code",
   "execution_count": 8,
   "id": "664db7c1",
   "metadata": {},
   "outputs": [
    {
     "ename": "NameError",
     "evalue": "name 'odes' is not defined",
     "output_type": "error",
     "traceback": [
      "\u001b[31m---------------------------------------------------------------------------\u001b[39m",
      "\u001b[31mNameError\u001b[39m                                 Traceback (most recent call last)",
      "\u001b[36mCell\u001b[39m\u001b[36m \u001b[39m\u001b[32mIn[8]\u001b[39m\u001b[32m, line 1\u001b[39m\n\u001b[32m----> \u001b[39m\u001b[32m1\u001b[39m \u001b[43modes\u001b[49m[\u001b[33m\"\u001b[39m\u001b[33mcdot\u001b[39m\u001b[33m\"\u001b[39m][\u001b[32m1\u001b[39m]\n",
      "\u001b[31mNameError\u001b[39m: name 'odes' is not defined"
     ]
    }
   ],
   "source": [
    "odes[\"cdot\"][1]"
   ]
  },
  {
   "cell_type": "code",
   "execution_count": 9,
   "id": "ddfcd868",
   "metadata": {},
   "outputs": [
    {
     "ename": "NameError",
     "evalue": "name 'odes' is not defined",
     "output_type": "error",
     "traceback": [
      "\u001b[31m---------------------------------------------------------------------------\u001b[39m",
      "\u001b[31mNameError\u001b[39m                                 Traceback (most recent call last)",
      "\u001b[36mCell\u001b[39m\u001b[36m \u001b[39m\u001b[32mIn[9]\u001b[39m\u001b[32m, line 1\u001b[39m\n\u001b[32m----> \u001b[39m\u001b[32m1\u001b[39m \u001b[43modes\u001b[49m[\u001b[33m\"\u001b[39m\u001b[33mxdot\u001b[39m\u001b[33m\"\u001b[39m]\n",
      "\u001b[31mNameError\u001b[39m: name 'odes' is not defined"
     ]
    }
   ],
   "source": [
    "odes[\"xdot\"]"
   ]
  },
  {
   "cell_type": "code",
   "execution_count": 10,
   "id": "dabfd716",
   "metadata": {},
   "outputs": [
    {
     "ename": "NameError",
     "evalue": "name 'odes' is not defined",
     "output_type": "error",
     "traceback": [
      "\u001b[31m---------------------------------------------------------------------------\u001b[39m",
      "\u001b[31mNameError\u001b[39m                                 Traceback (most recent call last)",
      "\u001b[36mCell\u001b[39m\u001b[36m \u001b[39m\u001b[32mIn[10]\u001b[39m\u001b[32m, line 1\u001b[39m\n\u001b[32m----> \u001b[39m\u001b[32m1\u001b[39m \u001b[43modes\u001b[49m[\u001b[33m\"\u001b[39m\u001b[33mydot\u001b[39m\u001b[33m\"\u001b[39m]\n",
      "\u001b[31mNameError\u001b[39m: name 'odes' is not defined"
     ]
    }
   ],
   "source": [
    "odes[\"ydot\"]"
   ]
  },
  {
   "cell_type": "markdown",
   "id": "d92bed8d",
   "metadata": {},
   "source": [
    "# BEST SYMBOLIC ODE GENERATOR:"
   ]
  },
  {
   "cell_type": "code",
   "execution_count": 11,
   "id": "8b4796a3",
   "metadata": {},
   "outputs": [
    {
     "name": "stdout",
     "output_type": "stream",
     "text": [
      "00 --> 01 (X), 0 -> 1\n",
      "00 --> 10 (X), 0 -> 2\n",
      "01 --> 00 (Y), 1 -> 0\n",
      "01 --> 11 (X), 1 -> 3\n",
      "10 --> 00 (Y), 2 -> 0\n",
      "10 --> 11 (X), 2 -> 3\n",
      "11 --> 01 (Y), 3 -> 1\n",
      "11 --> 10 (Y), 3 -> 2\n",
      "Matrix([[alpha_0_1 + alpha_0_2, 0, 0, 0], [0, alpha_1_3, 0, 0], [0, 0, alpha_2_3, 0], [0, 0, 0, 0]])\n",
      "Matrix([[0, 0, 0, 0], [0, beta_1_0, 0, 0], [0, 0, beta_2_0, 0], [0, 0, 0, beta_3_1 + beta_3_2]])\n"
     ]
    },
    {
     "data": {
      "text/latex": [
       "$\\displaystyle a_{1} p^{+}_{1} y - \\beta_{1 0} c_{1} - c_{1} p^{-}_{1}$"
      ],
      "text/plain": [
       "a_1*p^+_1*y - beta_1_0*c_1 - c_1*p^-_1"
      ]
     },
     "execution_count": 11,
     "metadata": {},
     "output_type": "execute_result"
    }
   ],
   "source": [
    "import sympy as sp\n",
    "def padded_binary(i: int, n: int) -> str:\n",
    "    return bin(i)[2:].zfill(n)\n",
    "\n",
    "# Replace this method in your class\n",
    "@staticmethod\n",
    "def binary_string_to_array(string: str) -> np.ndarray:\n",
    "    # use a comprehension so we don't rely on the builtin `list` name being callable\n",
    "    return np.array([int(ch) for ch in string], dtype=int)\n",
    "\n",
    "def calculate_valid_transitions(n: int):\n",
    "    num_states = 2**n\n",
    "    all_states = [padded_binary(i, n) for i in range(num_states)]\n",
    "    \n",
    "    # print(f\"Total number of states: {num_states}\")\n",
    "    # print(\"Valid single-step transitions:\")\n",
    "\n",
    "    valid_difference_vectors = set()\n",
    "    \n",
    "    valid_X_reactions = [] # distributively\n",
    "    valid_Y_reactions = [] # distributively\n",
    "\n",
    "    for i in range(num_states):\n",
    "        for j in range(num_states):\n",
    "            # Do not consider transitions from a state to itself\n",
    "            if i == j:\n",
    "                continue\n",
    "\n",
    "            if np.sum(np.abs(binary_string_to_array(all_states[j]) - binary_string_to_array(all_states[i]))) == 1:\n",
    "                # Determine if it's a phosphorylation or dephosphorylation event\n",
    "                # A +1 indicates phosphorylation, a -1 indicates dephosphorylation\n",
    "                element = \"X\" if np.any(binary_string_to_array(all_states[j]) - binary_string_to_array(all_states[i]) == 1) else \"Y\"\n",
    "                \n",
    "                if element == \"X\":\n",
    "                    print(f\"{all_states[i]} --> {all_states[j]} ({element}), {i} -> {j}\")\n",
    "                    valid_X_reactions.append([all_states[i], all_states[j], i, j, element])\n",
    "                if element == \"Y\":\n",
    "                    print(f\"{all_states[i]} --> {all_states[j]} ({element}), {i} -> {j}\")\n",
    "                    valid_Y_reactions.append([all_states[i], all_states[j], i, j, element])\n",
    "\n",
    "                valid_difference_vectors.add(tuple(binary_string_to_array(all_states[j]) - binary_string_to_array(all_states[i])))\n",
    "\n",
    "    return valid_X_reactions, valid_Y_reactions\n",
    "\n",
    "def build_phos_odes(n, prefix=\"\"):\n",
    "    \"\"\"\n",
    "    Build symbolic ODEs for the phosphorylation system for given n (N = 2**n).\n",
    "    Returns a dict with keys:\n",
    "      adot, bdot, cdot, xdot, ydot,\n",
    "    \"\"\"\n",
    "    N = 2**n\n",
    "    a_syms = sp.symbols([f\"{prefix}a_{i}\" for i in range(N)])\n",
    "    b_syms = sp.symbols([f\"{prefix}b_{i}\" for i in range(N)])\n",
    "    c_syms = sp.symbols([f\"{prefix}c_{i}\" for i in range(N)])\n",
    "    x_sym, y_sym = sp.symbols(f\"{prefix}x {prefix}y\")\n",
    "\n",
    "    a = sp.Matrix(N, 1, lambda i,j: a_syms[i])\n",
    "    b = sp.Matrix(N, 1, lambda i,j: b_syms[i])\n",
    "    c = sp.Matrix(N, 1, lambda i,j: c_syms[i])\n",
    "    \n",
    "    x = x_sym\n",
    "    y = y_sym\n",
    "\n",
    "    kplus = sp.symbols([f\"{prefix}k^+_{i}\" for i in range(N)]); kplus[-1] = sp.Integer(0)\n",
    "    kminus = sp.symbols([f\"{prefix}k^-_{i}\" for i in range(N)]); kminus[-1] = sp.Integer(0)\n",
    "    pplus = sp.symbols([f\"{prefix}p^+_{i}\" for i in range(N)]); pplus[0] = sp.Integer(0)\n",
    "    pminus = sp.symbols([f\"{prefix}p^-_{i}\" for i in range(N)]); pminus[0] = sp.Integer(0)\n",
    "\n",
    "    Kp = sp.diag(*kplus)\n",
    "    Km = sp.diag(*kminus)\n",
    "    Pp = sp.diag(*pplus)\n",
    "    Pm = sp.diag(*pminus)\n",
    "\n",
    "    # compute allowed transitions\n",
    "    valid_X_reactions, valid_Y_reactions = calculate_valid_transitions(n)\n",
    "    \n",
    "    # Build Alpha and Beta with symbols only at allowed (j,k)\n",
    "    Alpha = sp.zeros(N, N)\n",
    "    Beta  = sp.zeros(N, N)\n",
    "    # create symbols for allowed entries\n",
    "    for (_, _, j,k, _) in valid_X_reactions:\n",
    "        Alpha[j,k] = sp.symbols(f\"{prefix}alpha_{j}_{k}\")\n",
    "    for (_, _, j,k, _) in valid_Y_reactions:\n",
    "        Beta[j,k] = sp.symbols(f\"{prefix}beta_{j}_{k}\")\n",
    "\n",
    "    ones = sp.Matrix([1]*N)\n",
    "    Alpha_row_sums = Alpha * ones\n",
    "    Beta_row_sums = Beta * ones\n",
    "    DAlpha = sp.diag(*[Alpha_row_sums[i, 0] for i in range(N)])\n",
    "    DBeta  = sp.diag(*[Beta_row_sums[i, 0] for i in range(N)])\n",
    "    print(DAlpha)\n",
    "    print(DBeta)\n",
    "    adot = Km * b + Pm * c + Alpha.T * b + Beta.T * c - x * (Kp * a) - y * (Pp * a)\n",
    "    bdot = x * (Kp * a) - Km * b - DAlpha * b\n",
    "    cdot = y * (Pp * a) - Pm * c - DBeta * c\n",
    "    bdot[-1] = sp.Integer(0)\n",
    "    cdot[0] = sp.Integer(0)\n",
    "    kplus_vec = sp.Matrix(kplus)\n",
    "    pplus_vec = sp.Matrix(pplus)\n",
    "\n",
    "    xdot = - x * (kplus_vec.T * a)[0] + (ones.T * (Km + DAlpha) * b)[0]\n",
    "    ydot = - y * (pplus_vec.T * a)[0] + (ones.T * (Pm + DBeta) * c)[0]\n",
    "    # print(type(adot[0]))\n",
    "\n",
    "    return {\n",
    "        \"adot\": sp.expand(adot), \"bdot\": sp.expand(bdot), \"cdot\": sp.expand(cdot),\n",
    "        \"xdot\": sp.expand(xdot), \"ydot\": sp.expand(ydot),\n",
    "    }\n",
    "\n",
    "# Example: build symbolic ODEs for n=2 (N=4)\n",
    "n = 2\n",
    "odes = build_phos_odes(n)\n",
    "odes[\"cdot\"][1]\n",
    "# sp.pprint(odes[\"adot\"])\n",
    "# sp.pprint(odes[\"bdot\"])\n",
    "# sp.pprint(odes[\"cdot\"])\n",
    "# sp.pprint(odes[\"xdot\"])\n",
    "# sp.pprint(odes[\"ydot\"])"
   ]
  },
  {
   "cell_type": "code",
   "execution_count": 12,
   "id": "978ba2af",
   "metadata": {},
   "outputs": [
    {
     "data": {
      "text/latex": [
       "$\\displaystyle a_{2} p^{+}_{2} y - \\beta_{2 0} c_{2} - c_{2} p^{-}_{2}$"
      ],
      "text/plain": [
       "a_2*p^+_2*y - beta_2_0*c_2 - c_2*p^-_2"
      ]
     },
     "execution_count": 12,
     "metadata": {},
     "output_type": "execute_result"
    }
   ],
   "source": [
    "odes[\"cdot\"][2]\n"
   ]
  },
  {
   "cell_type": "code",
   "execution_count": 13,
   "id": "a9fe6a55",
   "metadata": {},
   "outputs": [
    {
     "data": {
      "text/latex": [
       "$\\displaystyle a_{3} p^{+}_{3} y - \\beta_{3 1} c_{3} - \\beta_{3 2} c_{3} - c_{3} p^{-}_{3}$"
      ],
      "text/plain": [
       "a_3*p^+_3*y - beta_3_1*c_3 - beta_3_2*c_3 - c_3*p^-_3"
      ]
     },
     "execution_count": 13,
     "metadata": {},
     "output_type": "execute_result"
    }
   ],
   "source": [
    "odes[\"cdot\"][3]\n"
   ]
  },
  {
   "cell_type": "code",
   "execution_count": 14,
   "id": "1712b765",
   "metadata": {},
   "outputs": [
    {
     "data": {
      "text/latex": [
       "$\\displaystyle - a_{0} k^{+}_{0} x - a_{1} k^{+}_{1} x - a_{2} k^{+}_{2} x + \\alpha_{0 1} b_{0} + \\alpha_{0 2} b_{0} + \\alpha_{1 3} b_{1} + \\alpha_{2 3} b_{2} + b_{0} k^{-}_{0} + b_{1} k^{-}_{1} + b_{2} k^{-}_{2}$"
      ],
      "text/plain": [
       "-a_0*k^+_0*x - a_1*k^+_1*x - a_2*k^+_2*x + alpha_0_1*b_0 + alpha_0_2*b_0 + alpha_1_3*b_1 + alpha_2_3*b_2 + b_0*k^-_0 + b_1*k^-_1 + b_2*k^-_2"
      ]
     },
     "execution_count": 14,
     "metadata": {},
     "output_type": "execute_result"
    }
   ],
   "source": [
    "odes[\"xdot\"]\n"
   ]
  },
  {
   "cell_type": "code",
   "execution_count": null,
   "id": "bb8f1280",
   "metadata": {},
   "outputs": [],
   "source": []
  },
  {
   "cell_type": "code",
   "execution_count": null,
   "id": "1d1393e3",
   "metadata": {},
   "outputs": [],
   "source": []
  },
  {
   "cell_type": "code",
   "execution_count": null,
   "id": "52dad420",
   "metadata": {},
   "outputs": [],
   "source": []
  },
  {
   "cell_type": "code",
   "execution_count": null,
   "id": "b2069b70",
   "metadata": {},
   "outputs": [],
   "source": []
  },
  {
   "cell_type": "markdown",
   "id": "6169b7e2",
   "metadata": {},
   "source": [
    "# PURELY SYMBOLIC:"
   ]
  },
  {
   "cell_type": "code",
   "execution_count": 15,
   "id": "8fb9eac4",
   "metadata": {},
   "outputs": [
    {
     "ename": "NameError",
     "evalue": "name 'k_negative_rates' is not defined",
     "output_type": "error",
     "traceback": [
      "\u001b[31m---------------------------------------------------------------------------\u001b[39m",
      "\u001b[31mNameError\u001b[39m                                 Traceback (most recent call last)",
      "\u001b[36mCell\u001b[39m\u001b[36m \u001b[39m\u001b[32mIn[15]\u001b[39m\u001b[32m, line 32\u001b[39m\n\u001b[32m     29\u001b[39m Kp = sp.diag(*kplus, \u001b[32m0\u001b[39m)\n\u001b[32m     30\u001b[39m \u001b[38;5;66;03m# Kp = sp.diag(*[sp.Float(i) for i in k_positive_rates], sp.Float(0))\u001b[39;00m\n\u001b[32m---> \u001b[39m\u001b[32m32\u001b[39m Km = sp.diag(*[sp.Float(i) \u001b[38;5;28;01mfor\u001b[39;00m i \u001b[38;5;129;01min\u001b[39;00m k_negative_rates]); Km = Km.row_insert(\u001b[38;5;28mlen\u001b[39m(k_negative_rates), sp.zeros(\u001b[32m1\u001b[39m, \u001b[38;5;28mlen\u001b[39m(k_negative_rates)))\n\u001b[32m     33\u001b[39m \u001b[38;5;66;03m# Km_small = sp.diag(*[sp.Float(i) for i in k_negative_rates])\u001b[39;00m\n\u001b[32m     34\u001b[39m \u001b[38;5;66;03m# Km = Km_small.row_insert(len(k_negative_rates), sp.zeros(1, len(k_negative_rates)))  # becomes N x (N-1)\u001b[39;00m\n\u001b[32m     36\u001b[39m Pp = sp.diag(*pplus, \u001b[32m0\u001b[39m)\n",
      "\u001b[31mNameError\u001b[39m: name 'k_negative_rates' is not defined"
     ]
    }
   ],
   "source": [
    "prefix=\"\"\n",
    "n = 1\n",
    "N = 2**n\n",
    "a_syms = sp.symbols([f\"{prefix}a_{i}\" for i in range(N)])\n",
    "\n",
    "# gen = all_parameter_generation(n, \"distributive\", \"gamma\", (1, 2), verbose = False)\n",
    "# alpha_matrix = gen.alpha_parameter_generation()\n",
    "# beta_matrix = gen.beta_parameter_generation()\n",
    "# k_positive_rates, k_negative_rates = gen.k_parameter_generation()\n",
    "# p_positive_rates, p_negative_rates = gen.p_parameter_generation()\n",
    "# k_positive_rates = np.ones(N - 1); k_negative_rates = np.ones(N - 1)\n",
    "# p_positive_rates = np.ones(N - 1); p_negative_rates = np.ones(N - 1)\n",
    "\n",
    "# print(k_positive_rates)\n",
    "\n",
    "x_tot_value = 5\n",
    "y_tot_value = 4\n",
    "x_tot = sp.Float(x_tot_value); y_tot = sp.Float(y_tot_value)\n",
    "\n",
    "a = sp.Matrix(N, 1, lambda i,j: a_syms[i])\n",
    "\n",
    "ones_vec = sp.ones(1, N - 1)\n",
    "\n",
    "kplus = sp.symbols([f\"{prefix}k^+_{i}\" for i in range(N - 1)])\n",
    "kminus = sp.symbols([f\"{prefix}k^-_{i}\" for i in range(N - 1)])\n",
    "pplus = sp.symbols([f\"{prefix}p^+_{i}\" for i in range(1, N)])\n",
    "pminus = sp.symbols([f\"{prefix}p^-_{i}\" for i in range(1, N)])\n",
    "\n",
    "Kp = sp.diag(*kplus, 0)\n",
    "# Kp = sp.diag(*[sp.Float(i) for i in k_positive_rates], sp.Float(0))\n",
    "\n",
    "Km = sp.diag(*[sp.Float(i) for i in k_negative_rates]); Km = Km.row_insert(len(k_negative_rates), sp.zeros(1, len(k_negative_rates)))\n",
    "# Km_small = sp.diag(*[sp.Float(i) for i in k_negative_rates])\n",
    "# Km = Km_small.row_insert(len(k_negative_rates), sp.zeros(1, len(k_negative_rates)))  # becomes N x (N-1)\n",
    "\n",
    "Pp = sp.diag(*pplus, 0)\n",
    "# Pp = sp.diag(*[sp.Float(i) for i in p_positive_rates], sp.Float(0))\n",
    "\n",
    "Pm = sp.diag(*[sp.Float(i) for i in p_negative_rates]); Pm = Pm.row_insert(len(p_negative_rates), sp.zeros(1, len(p_negative_rates)))\n",
    "\n",
    "# Pm_small = sp.diag(*[sp.Float(i) for i in p_negative_rates])\n",
    "# Pm = Pm_small.row_insert(len(p_negative_rates), sp.zeros(1, len(p_negative_rates)))  # becomes N x (N-1)\n",
    "\n",
    "valid_X_reactions, valid_Y_reactions = calculate_valid_transitions(n)\n",
    "\n",
    "Alpha_adjusted = np.delete(alpha_matrix, -1, axis = 0)\n",
    "Beta_adjusted  = np.delete(beta_matrix, 0, axis = 0)\n",
    "\n",
    "ones = sp.Matrix([1]*N)\n",
    "Alpha_row_sums = alpha_matrix * ones\n",
    "Beta_row_sums = beta_matrix * ones\n",
    "DAlpha = sp.diag(*[Alpha_row_sums[i, 0] for i in range(N - 1)])\n",
    "DBeta  = sp.diag(*[Beta_row_sums[i, 0] for i in range(N - 1)])\n",
    "U = sp.diag(*[sp.Float(i) for i in k_negative_rates])\n",
    "I = sp.diag(*[sp.Float(i) for i in p_negative_rates])\n",
    "Q = sp.diag(*[sp.Float(i) for i in k_positive_rates]); Q = Q.col_insert(len(k_positive_rates), sp.zeros(len(k_positive_rates), 1))\n",
    "D = sp.diag(*[sp.Float(i) for i in p_positive_rates]); D = D.col_insert(0, sp.zeros(len(p_positive_rates), 1))\n",
    "\n",
    "M = U + DAlpha\n",
    "N = I + DBeta\n",
    "G = Km + Alpha_adjusted.T\n",
    "H = Pm + Beta_adjusted.T\n",
    "M_inv = M.inv(); N_inv = N.inv()\n",
    "\n",
    "L1 = G * M_inv * Q - Kp; L2 = H * N_inv * D - Pp\n",
    "W1 = M_inv * Q; W2 = N_inv * D\n",
    "a_dot = x_tot * L1 * (1 / (1 + (ones_vec * W1 * a)[0])) * a + y_tot * L2 * (1 / (1 + (ones_vec * W2 * a)[0])) * a\n",
    "polynomials = sp.simplify(a_dot * (1 + (ones_vec * W1 * a)[0]) * (1 + (ones_vec * W2 * a)[0]))\n",
    "polynomials\n",
    "# from sympy import solve_triangulated\n",
    "# solve_triangulated(polynomials, *a_syms)\n",
    "\n",
    "# 'lex' or 'grevlex' or 'grlex'\n",
    "groebner_basis = sp.groebner(polynomials, *a_syms, order = 'lex')\n",
    "groebner_basis\n",
    "# roots = sp.solve(groebner_basis, *a_syms, dict = True)\n",
    "# roots"
   ]
  },
  {
   "cell_type": "markdown",
   "id": "52c360b3",
   "metadata": {},
   "source": [
    "# Computing adjusted matrices from piece of paper:"
   ]
  },
  {
   "cell_type": "code",
   "execution_count": 37,
   "id": "9d9b0379",
   "metadata": {},
   "outputs": [
    {
     "name": "stdout",
     "output_type": "stream",
     "text": [
      "a_0\n"
     ]
    }
   ],
   "source": [
    "a_syms = sp.symbols([f\"{prefix}a_{i}\" for i in range(N)])\n",
    "print(a_syms[0])"
   ]
  },
  {
   "cell_type": "code",
   "execution_count": null,
   "id": "2c496486",
   "metadata": {},
   "outputs": [
    {
     "name": "stdout",
     "output_type": "stream",
     "text": [
      "[]\n",
      "[]\n",
      "[]\n",
      "[]\n",
      "[]\n",
      "[]\n",
      "[]\n",
      "[]\n",
      "[]\n",
      "[]\n",
      "[]\n",
      "[]\n",
      "[]\n",
      "[]\n",
      "[]\n",
      "[]\n",
      "[]\n",
      "[]\n",
      "[]\n",
      "[]\n",
      "[]\n",
      "[]\n",
      "[]\n",
      "[]\n",
      "[]\n",
      "[]\n",
      "[]\n",
      "[]\n",
      "[]\n",
      "[]\n",
      "[]\n",
      "[]\n",
      "[]\n",
      "[]\n",
      "[]\n",
      "[]\n",
      "[]\n",
      "[]\n",
      "[]\n",
      "[]\n",
      "[]\n",
      "[]\n",
      "[]\n",
      "[]\n",
      "[]\n",
      "[]\n",
      "[]\n",
      "[]\n",
      "[]\n",
      "[]\n",
      "[]\n",
      "[]\n",
      "[]\n",
      "[]\n",
      "[]\n",
      "[]\n",
      "[]\n",
      "[]\n",
      "[]\n",
      "[]\n",
      "[]\n",
      "[]\n",
      "[]\n",
      "[]\n",
      "[]\n",
      "[]\n",
      "[]\n",
      "[]\n",
      "[]\n",
      "[]\n",
      "[]\n",
      "[]\n",
      "[]\n",
      "[]\n",
      "[]\n",
      "[]\n",
      "[]\n",
      "[]\n",
      "[]\n",
      "[]\n",
      "[]\n",
      "[]\n",
      "[]\n",
      "[]\n",
      "[]\n",
      "[]\n",
      "[]\n"
     ]
    },
    {
     "ename": "KeyboardInterrupt",
     "evalue": "",
     "output_type": "error",
     "traceback": [
      "\u001b[31m---------------------------------------------------------------------------\u001b[39m",
      "\u001b[31mKeyboardInterrupt\u001b[39m                         Traceback (most recent call last)",
      "\u001b[36mCell\u001b[39m\u001b[36m \u001b[39m\u001b[32mIn[83]\u001b[39m\u001b[32m, line 229\u001b[39m\n\u001b[32m    226\u001b[39m         np.savetxt(filename, (array), delimiter=\u001b[33m\"\u001b[39m\u001b[33m,\u001b[39m\u001b[33m\"\u001b[39m, header=header_string, comments=\u001b[33m'\u001b[39m\u001b[33m'\u001b[39m)\n\u001b[32m    227\u001b[39m         \u001b[38;5;66;03m# print(alpha_matrix)\u001b[39;00m\n\u001b[32m    228\u001b[39m         \u001b[38;5;66;03m# print(k_positive_rates)\u001b[39;00m\n\u001b[32m--> \u001b[39m\u001b[32m229\u001b[39m \u001b[43msimulation\u001b[49m\u001b[43m(\u001b[49m\u001b[32;43m100\u001b[39;49m\u001b[43m)\u001b[49m\n\u001b[32m    231\u001b[39m \u001b[38;5;66;03m# n = 2\u001b[39;00m\n\u001b[32m    232\u001b[39m \u001b[38;5;66;03m# gen = all_parameter_generation(n, \"distributive\", \"gamma\", (1, 2), verbose = False)\u001b[39;00m\n\u001b[32m    233\u001b[39m \u001b[38;5;66;03m# alpha_matrix = gen.alpha_parameter_generation()\u001b[39;00m\n\u001b[32m   (...)\u001b[39m\u001b[32m    237\u001b[39m \u001b[38;5;66;03m# p_positive_rates, p_negative_rates = gen.p_parameter_generation()\u001b[39;00m\n\u001b[32m    238\u001b[39m \u001b[38;5;66;03m# polynomial_finder(n, a_tot_value, x_tot_value, y_tot_value, alpha_matrix, beta_matrix, k_positive_rates, k_negative_rates, p_positive_rates, p_negative_rates)\u001b[39;00m\n",
      "\u001b[36mCell\u001b[39m\u001b[36m \u001b[39m\u001b[32mIn[83]\u001b[39m\u001b[32m, line 223\u001b[39m, in \u001b[36msimulation\u001b[39m\u001b[34m(simulation_size)\u001b[39m\n\u001b[32m    220\u001b[39m p_positive_rates = p_positive_parameter_array[i]\n\u001b[32m    221\u001b[39m p_negative_rates = p_negative_parameter_array[i]\n\u001b[32m--> \u001b[39m\u001b[32m223\u001b[39m stable_fp_array = \u001b[43mstable_fp_checker\u001b[49m\u001b[43m(\u001b[49m\u001b[43ma_tot_value\u001b[49m\u001b[43m,\u001b[49m\u001b[43m \u001b[49m\u001b[43mx_tot_value\u001b[49m\u001b[43m,\u001b[49m\u001b[43m \u001b[49m\u001b[43my_tot_value\u001b[49m\u001b[43m,\u001b[49m\u001b[43m \u001b[49m\u001b[43malpha_matrix\u001b[49m\u001b[43m,\u001b[49m\u001b[43m \u001b[49m\u001b[43mbeta_matrix\u001b[49m\u001b[43m,\u001b[49m\u001b[43m \u001b[49m\u001b[43mk_positive_rates\u001b[49m\u001b[43m,\u001b[49m\u001b[43m \u001b[49m\u001b[43mk_negative_rates\u001b[49m\u001b[43m,\u001b[49m\u001b[43m \u001b[49m\u001b[43mp_positive_rates\u001b[49m\u001b[43m,\u001b[49m\u001b[43m \u001b[49m\u001b[43mp_negative_rates\u001b[49m\u001b[43m)\u001b[49m\n\u001b[32m    225\u001b[39m array = np.concatenate([stable_fp_array, alpha_matrix_parameter_array[i], beta_matrix_parameter_array[i], k_positive_parameter_array[i], k_negative_parameter_array[i], p_positive_parameter_array[i], p_negative_parameter_array[i]])\n\u001b[32m    226\u001b[39m np.savetxt(filename, (array), delimiter=\u001b[33m\"\u001b[39m\u001b[33m,\u001b[39m\u001b[33m\"\u001b[39m, header=header_string, comments=\u001b[33m'\u001b[39m\u001b[33m'\u001b[39m)\n",
      "\u001b[36mCell\u001b[39m\u001b[36m \u001b[39m\u001b[32mIn[83]\u001b[39m\u001b[32m, line 151\u001b[39m, in \u001b[36mstable_fp_checker\u001b[39m\u001b[34m(a_tot_value, x_tot_value, y_tot_value, alpha_matrix, beta_matrix, k_positive_rates, k_negative_rates, p_positive_rates, p_negative_rates)\u001b[39m\n\u001b[32m    150\u001b[39m \u001b[38;5;28;01mdef\u001b[39;00m\u001b[38;5;250m \u001b[39m\u001b[34mstable_fp_checker\u001b[39m(a_tot_value, x_tot_value, y_tot_value, alpha_matrix, beta_matrix, k_positive_rates, k_negative_rates, p_positive_rates, p_negative_rates):\n\u001b[32m--> \u001b[39m\u001b[32m151\u001b[39m     polynomials, L1, L2, W1, W2, a_syms = \u001b[43mpolynomial_finder\u001b[49m\u001b[43m(\u001b[49m\u001b[32;43m2\u001b[39;49m\u001b[43m,\u001b[49m\u001b[43m \u001b[49m\u001b[43ma_tot_value\u001b[49m\u001b[43m,\u001b[49m\u001b[43m \u001b[49m\u001b[43mx_tot_value\u001b[49m\u001b[43m,\u001b[49m\u001b[43m \u001b[49m\u001b[43my_tot_value\u001b[49m\u001b[43m,\u001b[49m\u001b[43m \u001b[49m\u001b[43malpha_matrix\u001b[49m\u001b[43m,\u001b[49m\u001b[43m \u001b[49m\u001b[43mbeta_matrix\u001b[49m\u001b[43m,\u001b[49m\u001b[43m \u001b[49m\u001b[43mk_positive_rates\u001b[49m\u001b[43m,\u001b[49m\u001b[43m \u001b[49m\u001b[43mk_negative_rates\u001b[49m\u001b[43m,\u001b[49m\u001b[43m \u001b[49m\u001b[43mp_positive_rates\u001b[49m\u001b[43m,\u001b[49m\u001b[43m \u001b[49m\u001b[43mp_negative_rates\u001b[49m\u001b[43m)\u001b[49m\n\u001b[32m    152\u001b[39m     groebner_basis = sp.groebner(polynomials, *a_syms, order = \u001b[33m'\u001b[39m\u001b[33mgrevlex\u001b[39m\u001b[33m'\u001b[39m)\n\u001b[32m    153\u001b[39m     roots = sp.solve(groebner_basis, *a_syms, \u001b[38;5;28mdict\u001b[39m = \u001b[38;5;28;01mTrue\u001b[39;00m)\n",
      "\u001b[36mCell\u001b[39m\u001b[36m \u001b[39m\u001b[32mIn[83]\u001b[39m\u001b[32m, line 97\u001b[39m, in \u001b[36mpolynomial_finder\u001b[39m\u001b[34m(n, a_tot_value, x_tot_value, y_tot_value, alpha_matrix, beta_matrix, k_positive_rates, k_negative_rates, p_positive_rates, p_negative_rates)\u001b[39m\n\u001b[32m     93\u001b[39m p = x_tot / y_tot\n\u001b[32m     94\u001b[39m \u001b[38;5;66;03m#######\u001b[39;00m\n\u001b[32m     95\u001b[39m \n\u001b[32m     96\u001b[39m \u001b[38;5;66;03m# a_dot = x_tot * L1 * (1 / (1 + (ones_vec * W1 * a)[0])) * a + y_tot * L2 * (1 / (1 + (ones_vec * W2 * a)[0])) * a\u001b[39;00m\n\u001b[32m---> \u001b[39m\u001b[32m97\u001b[39m polynomials = \u001b[43msp\u001b[49m\u001b[43m.\u001b[49m\u001b[43msimplify\u001b[49m\u001b[43m(\u001b[49m\u001b[43mp\u001b[49m\u001b[43m \u001b[49m\u001b[43m*\u001b[49m\u001b[43m \u001b[49m\u001b[43m(\u001b[49m\u001b[43m(\u001b[49m\u001b[32;43m1\u001b[39;49m\u001b[43m \u001b[49m\u001b[43m+\u001b[49m\u001b[43m \u001b[49m\u001b[43m(\u001b[49m\u001b[43mones_vec\u001b[49m\u001b[43m \u001b[49m\u001b[43m*\u001b[49m\u001b[43m \u001b[49m\u001b[43mW2\u001b[49m\u001b[43m \u001b[49m\u001b[43m*\u001b[49m\u001b[43m \u001b[49m\u001b[43ma\u001b[49m\u001b[43m)\u001b[49m\u001b[43m[\u001b[49m\u001b[32;43m0\u001b[39;49m\u001b[43m]\u001b[49m\u001b[43m)\u001b[49m\u001b[43m)\u001b[49m\u001b[43m \u001b[49m\u001b[43m*\u001b[49m\u001b[43m \u001b[49m\u001b[43mL1\u001b[49m\u001b[43m \u001b[49m\u001b[43m*\u001b[49m\u001b[43m \u001b[49m\u001b[43ma\u001b[49m\u001b[43m \u001b[49m\u001b[43m+\u001b[49m\u001b[43m \u001b[49m\u001b[43m(\u001b[49m\u001b[43m(\u001b[49m\u001b[32;43m1\u001b[39;49m\u001b[43m \u001b[49m\u001b[43m+\u001b[49m\u001b[43m \u001b[49m\u001b[43m(\u001b[49m\u001b[43mones_vec\u001b[49m\u001b[43m \u001b[49m\u001b[43m*\u001b[49m\u001b[43m \u001b[49m\u001b[43mW1\u001b[49m\u001b[43m \u001b[49m\u001b[43m*\u001b[49m\u001b[43m \u001b[49m\u001b[43ma\u001b[49m\u001b[43m)\u001b[49m\u001b[43m[\u001b[49m\u001b[32;43m0\u001b[39;49m\u001b[43m]\u001b[49m\u001b[43m)\u001b[49m\u001b[43m)\u001b[49m\u001b[43m \u001b[49m\u001b[43m*\u001b[49m\u001b[43m \u001b[49m\u001b[43mL1\u001b[49m\u001b[43m \u001b[49m\u001b[43m*\u001b[49m\u001b[43m \u001b[49m\u001b[43ma\u001b[49m\u001b[43m)\u001b[49m\n\u001b[32m     99\u001b[39m \u001b[38;5;28;01mreturn\u001b[39;00m polynomials, L1, L2, W1, W2, a_syms\n",
      "\u001b[36mFile \u001b[39m\u001b[32m~/research/initial_code/.venv/lib/python3.13/site-packages/sympy/simplify/simplify.py:616\u001b[39m, in \u001b[36msimplify\u001b[39m\u001b[34m(expr, ratio, measure, rational, inverse, doit, **kwargs)\u001b[39m\n\u001b[32m    614\u001b[39m _eval_simplify = \u001b[38;5;28mgetattr\u001b[39m(expr, \u001b[33m'\u001b[39m\u001b[33m_eval_simplify\u001b[39m\u001b[33m'\u001b[39m, \u001b[38;5;28;01mNone\u001b[39;00m)\n\u001b[32m    615\u001b[39m \u001b[38;5;28;01mif\u001b[39;00m _eval_simplify \u001b[38;5;129;01mis\u001b[39;00m \u001b[38;5;129;01mnot\u001b[39;00m \u001b[38;5;28;01mNone\u001b[39;00m:\n\u001b[32m--> \u001b[39m\u001b[32m616\u001b[39m     \u001b[38;5;28;01mreturn\u001b[39;00m \u001b[43m_eval_simplify\u001b[49m\u001b[43m(\u001b[49m\u001b[43m*\u001b[49m\u001b[43m*\u001b[49m\u001b[43mkwargs\u001b[49m\u001b[43m)\u001b[49m\n\u001b[32m    618\u001b[39m original_expr = expr = collect_abs(signsimp(expr))\n\u001b[32m    620\u001b[39m \u001b[38;5;28;01mif\u001b[39;00m \u001b[38;5;129;01mnot\u001b[39;00m \u001b[38;5;28misinstance\u001b[39m(expr, Basic) \u001b[38;5;129;01mor\u001b[39;00m \u001b[38;5;129;01mnot\u001b[39;00m expr.args:  \u001b[38;5;66;03m# XXX: temporary hack\u001b[39;00m\n",
      "\u001b[36mFile \u001b[39m\u001b[32m~/research/initial_code/.venv/lib/python3.13/site-packages/sympy/matrices/matrixbase.py:2578\u001b[39m, in \u001b[36mMatrixBase._eval_simplify\u001b[39m\u001b[34m(self, **kwargs)\u001b[39m\n\u001b[32m   2575\u001b[39m \u001b[38;5;28;01mdef\u001b[39;00m\u001b[38;5;250m \u001b[39m\u001b[34m_eval_simplify\u001b[39m(\u001b[38;5;28mself\u001b[39m, **kwargs):\n\u001b[32m   2576\u001b[39m     \u001b[38;5;66;03m# XXX: We can't use self.simplify here as mutable subclasses will\u001b[39;00m\n\u001b[32m   2577\u001b[39m     \u001b[38;5;66;03m# override simplify and have it return None\u001b[39;00m\n\u001b[32m-> \u001b[39m\u001b[32m2578\u001b[39m     \u001b[38;5;28;01mreturn\u001b[39;00m \u001b[38;5;28;43mself\u001b[39;49m\u001b[43m.\u001b[49m\u001b[43mapplyfunc\u001b[49m\u001b[43m(\u001b[49m\u001b[38;5;28;43;01mlambda\u001b[39;49;00m\u001b[43m \u001b[49m\u001b[43mx\u001b[49m\u001b[43m:\u001b[49m\u001b[43m \u001b[49m\u001b[43mx\u001b[49m\u001b[43m.\u001b[49m\u001b[43msimplify\u001b[49m\u001b[43m(\u001b[49m\u001b[43m*\u001b[49m\u001b[43m*\u001b[49m\u001b[43mkwargs\u001b[49m\u001b[43m)\u001b[49m\u001b[43m)\u001b[49m\n",
      "\u001b[36mFile \u001b[39m\u001b[32m~/research/initial_code/.venv/lib/python3.13/site-packages/sympy/matrices/matrixbase.py:2108\u001b[39m, in \u001b[36mMatrixBase.applyfunc\u001b[39m\u001b[34m(self, f)\u001b[39m\n\u001b[32m   2105\u001b[39m \u001b[38;5;28;01mif\u001b[39;00m \u001b[38;5;129;01mnot\u001b[39;00m \u001b[38;5;28mcallable\u001b[39m(f):\n\u001b[32m   2106\u001b[39m     \u001b[38;5;28;01mraise\u001b[39;00m \u001b[38;5;167;01mTypeError\u001b[39;00m(\u001b[33m\"\u001b[39m\u001b[33m`f` must be callable.\u001b[39m\u001b[33m\"\u001b[39m)\n\u001b[32m-> \u001b[39m\u001b[32m2108\u001b[39m \u001b[38;5;28;01mreturn\u001b[39;00m \u001b[38;5;28;43mself\u001b[39;49m\u001b[43m.\u001b[49m\u001b[43m_eval_applyfunc\u001b[49m\u001b[43m(\u001b[49m\u001b[43mf\u001b[49m\u001b[43m)\u001b[49m\n",
      "\u001b[36mFile \u001b[39m\u001b[32m~/research/initial_code/.venv/lib/python3.13/site-packages/sympy/matrices/matrixbase.py:2040\u001b[39m, in \u001b[36mMatrixBase._eval_applyfunc\u001b[39m\u001b[34m(self, f)\u001b[39m\n\u001b[32m   2037\u001b[39m size = \u001b[38;5;28mself\u001b[39m.rows*\u001b[38;5;28mself\u001b[39m.cols\n\u001b[32m   2039\u001b[39m dok = \u001b[38;5;28mself\u001b[39m.todok()\n\u001b[32m-> \u001b[39m\u001b[32m2040\u001b[39m valmap = {v: \u001b[43mf\u001b[49m\u001b[43m(\u001b[49m\u001b[43mv\u001b[49m\u001b[43m)\u001b[49m \u001b[38;5;28;01mfor\u001b[39;00m v \u001b[38;5;129;01min\u001b[39;00m dok.values()}\n\u001b[32m   2042\u001b[39m \u001b[38;5;28;01mif\u001b[39;00m \u001b[38;5;28mlen\u001b[39m(dok) < size \u001b[38;5;129;01mand\u001b[39;00m ((fzero := f(S.Zero)) \u001b[38;5;129;01mis\u001b[39;00m \u001b[38;5;129;01mnot\u001b[39;00m S.Zero):\n\u001b[32m   2043\u001b[39m     out_flat = [fzero]*size\n",
      "\u001b[36mFile \u001b[39m\u001b[32m~/research/initial_code/.venv/lib/python3.13/site-packages/sympy/matrices/matrixbase.py:2578\u001b[39m, in \u001b[36mMatrixBase._eval_simplify.<locals>.<lambda>\u001b[39m\u001b[34m(x)\u001b[39m\n\u001b[32m   2575\u001b[39m \u001b[38;5;28;01mdef\u001b[39;00m\u001b[38;5;250m \u001b[39m\u001b[34m_eval_simplify\u001b[39m(\u001b[38;5;28mself\u001b[39m, **kwargs):\n\u001b[32m   2576\u001b[39m     \u001b[38;5;66;03m# XXX: We can't use self.simplify here as mutable subclasses will\u001b[39;00m\n\u001b[32m   2577\u001b[39m     \u001b[38;5;66;03m# override simplify and have it return None\u001b[39;00m\n\u001b[32m-> \u001b[39m\u001b[32m2578\u001b[39m     \u001b[38;5;28;01mreturn\u001b[39;00m \u001b[38;5;28mself\u001b[39m.applyfunc(\u001b[38;5;28;01mlambda\u001b[39;00m x: \u001b[43mx\u001b[49m\u001b[43m.\u001b[49m\u001b[43msimplify\u001b[49m\u001b[43m(\u001b[49m\u001b[43m*\u001b[49m\u001b[43m*\u001b[49m\u001b[43mkwargs\u001b[49m\u001b[43m)\u001b[49m)\n",
      "\u001b[36mFile \u001b[39m\u001b[32m~/research/initial_code/.venv/lib/python3.13/site-packages/sympy/core/basic.py:1956\u001b[39m, in \u001b[36mBasic.simplify\u001b[39m\u001b[34m(self, **kwargs)\u001b[39m\n\u001b[32m   1954\u001b[39m \u001b[38;5;250m\u001b[39m\u001b[33;03m\"\"\"See the simplify function in sympy.simplify\"\"\"\u001b[39;00m\n\u001b[32m   1955\u001b[39m \u001b[38;5;28;01mfrom\u001b[39;00m\u001b[38;5;250m \u001b[39m\u001b[34;01msympy\u001b[39;00m\u001b[34;01m.\u001b[39;00m\u001b[34;01msimplify\u001b[39;00m\u001b[34;01m.\u001b[39;00m\u001b[34;01msimplify\u001b[39;00m\u001b[38;5;250m \u001b[39m\u001b[38;5;28;01mimport\u001b[39;00m simplify\n\u001b[32m-> \u001b[39m\u001b[32m1956\u001b[39m \u001b[38;5;28;01mreturn\u001b[39;00m \u001b[43msimplify\u001b[49m\u001b[43m(\u001b[49m\u001b[38;5;28;43mself\u001b[39;49m\u001b[43m,\u001b[49m\u001b[43m \u001b[49m\u001b[43m*\u001b[49m\u001b[43m*\u001b[49m\u001b[43mkwargs\u001b[49m\u001b[43m)\u001b[49m\n",
      "\u001b[36mFile \u001b[39m\u001b[32m~/research/initial_code/.venv/lib/python3.13/site-packages/sympy/simplify/simplify.py:658\u001b[39m, in \u001b[36msimplify\u001b[39m\u001b[34m(expr, ratio, measure, rational, inverse, doit, **kwargs)\u001b[39m\n\u001b[32m    656\u001b[39m expr = _bottom_up(expr, \u001b[38;5;28;01mlambda\u001b[39;00m w: \u001b[38;5;28mgetattr\u001b[39m(w, \u001b[33m'\u001b[39m\u001b[33mnormal\u001b[39m\u001b[33m'\u001b[39m, \u001b[38;5;28;01mlambda\u001b[39;00m: w)())\n\u001b[32m    657\u001b[39m expr = Mul(*powsimp(expr).as_content_primitive())\n\u001b[32m--> \u001b[39m\u001b[32m658\u001b[39m _e = \u001b[43mcancel\u001b[49m\u001b[43m(\u001b[49m\u001b[43mexpr\u001b[49m\u001b[43m)\u001b[49m\n\u001b[32m    659\u001b[39m expr1 = shorter(_e, _mexpand(_e).cancel())  \u001b[38;5;66;03m# issue 6829\u001b[39;00m\n\u001b[32m    660\u001b[39m expr2 = shorter(together(expr, deep=\u001b[38;5;28;01mTrue\u001b[39;00m), together(expr1, deep=\u001b[38;5;28;01mTrue\u001b[39;00m))\n",
      "\u001b[36mFile \u001b[39m\u001b[32m~/research/initial_code/.venv/lib/python3.13/site-packages/sympy/polys/polytools.py:7380\u001b[39m, in \u001b[36mcancel\u001b[39m\u001b[34m(f, _signsimp, *gens, **args)\u001b[39m\n\u001b[32m   7378\u001b[39m \u001b[38;5;28;01mif\u001b[39;00m f.has(Piecewise):\n\u001b[32m   7379\u001b[39m     \u001b[38;5;28;01mraise\u001b[39;00m PolynomialError()\n\u001b[32m-> \u001b[39m\u001b[32m7380\u001b[39m R, (F, G) = \u001b[43msring\u001b[49m\u001b[43m(\u001b[49m\u001b[43m(\u001b[49m\u001b[43mp\u001b[49m\u001b[43m,\u001b[49m\u001b[43m \u001b[49m\u001b[43mq\u001b[49m\u001b[43m)\u001b[49m\u001b[43m,\u001b[49m\u001b[43m \u001b[49m\u001b[43m*\u001b[49m\u001b[43mgens\u001b[49m\u001b[43m,\u001b[49m\u001b[43m \u001b[49m\u001b[43m*\u001b[49m\u001b[43m*\u001b[49m\u001b[43margs\u001b[49m\u001b[43m)\u001b[49m\n\u001b[32m   7381\u001b[39m \u001b[38;5;28;01mif\u001b[39;00m \u001b[38;5;129;01mnot\u001b[39;00m R.ngens:\n\u001b[32m   7382\u001b[39m     \u001b[38;5;28;01mif\u001b[39;00m \u001b[38;5;129;01mnot\u001b[39;00m \u001b[38;5;28misinstance\u001b[39m(f, Tuple):\n",
      "\u001b[36mFile \u001b[39m\u001b[32m~/research/initial_code/.venv/lib/python3.13/site-packages/sympy/polys/rings.py:169\u001b[39m, in \u001b[36msring\u001b[39m\u001b[34m(exprs, *symbols, **options)\u001b[39m\n\u001b[32m    166\u001b[39m \u001b[38;5;28;01mif\u001b[39;00m opt.domain \u001b[38;5;129;01mis\u001b[39;00m \u001b[38;5;28;01mNone\u001b[39;00m:\n\u001b[32m    167\u001b[39m     coeffs = \u001b[38;5;28msum\u001b[39m([ \u001b[38;5;28mlist\u001b[39m(rep.values()) \u001b[38;5;28;01mfor\u001b[39;00m rep \u001b[38;5;129;01min\u001b[39;00m reps ], [])\n\u001b[32m--> \u001b[39m\u001b[32m169\u001b[39m     opt.domain, coeffs_dom = \u001b[43mconstruct_domain\u001b[49m\u001b[43m(\u001b[49m\u001b[43mcoeffs\u001b[49m\u001b[43m,\u001b[49m\u001b[43m \u001b[49m\u001b[43mopt\u001b[49m\u001b[43m=\u001b[49m\u001b[43mopt\u001b[49m\u001b[43m)\u001b[49m\n\u001b[32m    171\u001b[39m     coeff_map = \u001b[38;5;28mdict\u001b[39m(\u001b[38;5;28mzip\u001b[39m(coeffs, coeffs_dom))\n\u001b[32m    172\u001b[39m     reps = [{m: coeff_map[c] \u001b[38;5;28;01mfor\u001b[39;00m m, c \u001b[38;5;129;01min\u001b[39;00m rep.items()} \u001b[38;5;28;01mfor\u001b[39;00m rep \u001b[38;5;129;01min\u001b[39;00m reps]\n",
      "\u001b[36mFile \u001b[39m\u001b[32m~/research/initial_code/.venv/lib/python3.13/site-packages/sympy/polys/constructor.py:363\u001b[39m, in \u001b[36mconstruct_domain\u001b[39m\u001b[34m(obj, **args)\u001b[39m\n\u001b[32m    360\u001b[39m     coeffs = [obj]\n\u001b[32m    362\u001b[39m coeffs = \u001b[38;5;28mlist\u001b[39m(\u001b[38;5;28mmap\u001b[39m(sympify, coeffs))\n\u001b[32m--> \u001b[39m\u001b[32m363\u001b[39m result = \u001b[43m_construct_simple\u001b[49m\u001b[43m(\u001b[49m\u001b[43mcoeffs\u001b[49m\u001b[43m,\u001b[49m\u001b[43m \u001b[49m\u001b[43mopt\u001b[49m\u001b[43m)\u001b[49m\n\u001b[32m    365\u001b[39m \u001b[38;5;28;01mif\u001b[39;00m result \u001b[38;5;129;01mis\u001b[39;00m \u001b[38;5;129;01mnot\u001b[39;00m \u001b[38;5;28;01mNone\u001b[39;00m:\n\u001b[32m    366\u001b[39m     \u001b[38;5;28;01mif\u001b[39;00m result \u001b[38;5;129;01mis\u001b[39;00m \u001b[38;5;129;01mnot\u001b[39;00m \u001b[38;5;28;01mFalse\u001b[39;00m:\n",
      "\u001b[36mFile \u001b[39m\u001b[32m~/research/initial_code/.venv/lib/python3.13/site-packages/sympy/polys/constructor.py:70\u001b[39m, in \u001b[36m_construct_simple\u001b[39m\u001b[34m(coeffs, opt)\u001b[39m\n\u001b[32m     68\u001b[39m     domain = ComplexField(prec=max_prec)\n\u001b[32m     69\u001b[39m \u001b[38;5;28;01melif\u001b[39;00m floats:\n\u001b[32m---> \u001b[39m\u001b[32m70\u001b[39m     domain = \u001b[43mRealField\u001b[49m\u001b[43m(\u001b[49m\u001b[43mprec\u001b[49m\u001b[43m=\u001b[49m\u001b[43mmax_prec\u001b[49m\u001b[43m)\u001b[49m\n\u001b[32m     71\u001b[39m \u001b[38;5;28;01melif\u001b[39;00m rationals \u001b[38;5;129;01mor\u001b[39;00m opt.field:\n\u001b[32m     72\u001b[39m     domain = QQ_I \u001b[38;5;28;01mif\u001b[39;00m complexes \u001b[38;5;28;01melse\u001b[39;00m QQ\n",
      "\u001b[36mFile \u001b[39m\u001b[32m~/research/initial_code/.venv/lib/python3.13/site-packages/sympy/polys/domains/realfield.py:91\u001b[39m, in \u001b[36mRealField.__init__\u001b[39m\u001b[34m(self, prec, dps, tol)\u001b[39m\n\u001b[32m     87\u001b[39m \u001b[38;5;28;01mdef\u001b[39;00m\u001b[38;5;250m \u001b[39m\u001b[34m__init__\u001b[39m(\u001b[38;5;28mself\u001b[39m, prec=\u001b[38;5;28;01mNone\u001b[39;00m, dps=\u001b[38;5;28;01mNone\u001b[39;00m, tol=\u001b[38;5;28;01mNone\u001b[39;00m):\n\u001b[32m     88\u001b[39m     \u001b[38;5;66;03m# XXX: The tol parameter is ignored but is kept for now for backwards\u001b[39;00m\n\u001b[32m     89\u001b[39m     \u001b[38;5;66;03m# compatibility.\u001b[39;00m\n\u001b[32m---> \u001b[39m\u001b[32m91\u001b[39m     context = \u001b[43mMPContext\u001b[49m\u001b[43m(\u001b[49m\u001b[43m)\u001b[49m\n\u001b[32m     93\u001b[39m     \u001b[38;5;28;01mif\u001b[39;00m prec \u001b[38;5;129;01mis\u001b[39;00m \u001b[38;5;28;01mNone\u001b[39;00m \u001b[38;5;129;01mand\u001b[39;00m dps \u001b[38;5;129;01mis\u001b[39;00m \u001b[38;5;28;01mNone\u001b[39;00m:\n\u001b[32m     94\u001b[39m         context.prec = \u001b[38;5;28mself\u001b[39m._default_precision\n",
      "\u001b[36mFile \u001b[39m\u001b[32m~/research/initial_code/.venv/lib/python3.13/site-packages/mpmath/ctx_mp.py:70\u001b[39m, in \u001b[36mMPContext.__init__\u001b[39m\u001b[34m(ctx)\u001b[39m\n\u001b[32m     68\u001b[39m ctx._mpq = rational.mpq\n\u001b[32m     69\u001b[39m ctx.default()\n\u001b[32m---> \u001b[39m\u001b[32m70\u001b[39m \u001b[43mStandardBaseContext\u001b[49m\u001b[43m.\u001b[49m\u001b[34;43m__init__\u001b[39;49m\u001b[43m(\u001b[49m\u001b[43mctx\u001b[49m\u001b[43m)\u001b[49m\n\u001b[32m     72\u001b[39m ctx.mpq = rational.mpq\n\u001b[32m     73\u001b[39m ctx.init_builtins()\n",
      "\u001b[36mFile \u001b[39m\u001b[32m~/research/initial_code/.venv/lib/python3.13/site-packages/mpmath/ctx_base.py:45\u001b[39m, in \u001b[36mStandardBaseContext.__init__\u001b[39m\u001b[34m(ctx)\u001b[39m\n\u001b[32m     43\u001b[39m ctx._aliases = {}\n\u001b[32m     44\u001b[39m \u001b[38;5;66;03m# Call those that need preinitialization (e.g. for wrappers)\u001b[39;00m\n\u001b[32m---> \u001b[39m\u001b[32m45\u001b[39m \u001b[43mSpecialFunctions\u001b[49m\u001b[43m.\u001b[49m\u001b[34;43m__init__\u001b[39;49m\u001b[43m(\u001b[49m\u001b[43mctx\u001b[49m\u001b[43m)\u001b[49m\n\u001b[32m     46\u001b[39m RSCache.\u001b[34m__init__\u001b[39m(ctx)\n\u001b[32m     47\u001b[39m QuadratureMethods.\u001b[34m__init__\u001b[39m(ctx)\n",
      "\u001b[36mFile \u001b[39m\u001b[32m~/research/initial_code/.venv/lib/python3.13/site-packages/mpmath/functions/functions.py:22\u001b[39m, in \u001b[36mSpecialFunctions.__init__\u001b[39m\u001b[34m(self)\u001b[39m\n\u001b[32m     20\u001b[39m \u001b[38;5;28;01mfor\u001b[39;00m name \u001b[38;5;129;01min\u001b[39;00m \u001b[38;5;28mcls\u001b[39m.defined_functions:\n\u001b[32m     21\u001b[39m     f, wrap = \u001b[38;5;28mcls\u001b[39m.defined_functions[name]\n\u001b[32m---> \u001b[39m\u001b[32m22\u001b[39m     \u001b[38;5;28;43mcls\u001b[39;49m\u001b[43m.\u001b[49m\u001b[43m_wrap_specfun\u001b[49m\u001b[43m(\u001b[49m\u001b[43mname\u001b[49m\u001b[43m,\u001b[49m\u001b[43m \u001b[49m\u001b[43mf\u001b[49m\u001b[43m,\u001b[49m\u001b[43m \u001b[49m\u001b[43mwrap\u001b[49m\u001b[43m)\u001b[49m\n\u001b[32m     24\u001b[39m \u001b[38;5;28mself\u001b[39m.mpq_1 = \u001b[38;5;28mself\u001b[39m._mpq((\u001b[32m1\u001b[39m,\u001b[32m1\u001b[39m))\n\u001b[32m     25\u001b[39m \u001b[38;5;28mself\u001b[39m.mpq_0 = \u001b[38;5;28mself\u001b[39m._mpq((\u001b[32m0\u001b[39m,\u001b[32m1\u001b[39m))\n",
      "\u001b[36mFile \u001b[39m\u001b[32m~/research/initial_code/.venv/lib/python3.13/site-packages/mpmath/ctx_mp_python.py:1030\u001b[39m, in \u001b[36mPythonMPContext._wrap_specfun\u001b[39m\u001b[34m(cls, name, f, wrap)\u001b[39m\n\u001b[32m   1028\u001b[39m     f_wrapped = f\n\u001b[32m   1029\u001b[39m f_wrapped.\u001b[34m__doc__\u001b[39m = function_docs.\u001b[34m__dict__\u001b[39m.get(name, f.\u001b[34m__doc__\u001b[39m)\n\u001b[32m-> \u001b[39m\u001b[32m1030\u001b[39m \u001b[38;5;28;43msetattr\u001b[39;49m\u001b[43m(\u001b[49m\u001b[38;5;28;43mcls\u001b[39;49m\u001b[43m,\u001b[49m\u001b[43m \u001b[49m\u001b[43mname\u001b[49m\u001b[43m,\u001b[49m\u001b[43m \u001b[49m\u001b[43mf_wrapped\u001b[49m\u001b[43m)\u001b[49m\n",
      "\u001b[31mKeyboardInterrupt\u001b[39m: "
     ]
    }
   ],
   "source": [
    "from numpy import linalg as LA\n",
    "n = 2\n",
    "def stability_calculator(a_fixed_points, p, L1, L2, W1, W2):\n",
    "    \n",
    "    # computing jacobian\n",
    "    ones_vec = sp.ones(1, 2**n - 1)\n",
    "    p = x_tot_value / y_tot_value\n",
    "    # Ensure a_fixed_points is a sympy Matrix\n",
    "    if not isinstance(a_fixed_points, sp.Matrix):\n",
    "        a_fixed_points = sp.Matrix(a_fixed_points)\n",
    "    denom1 = 1 + (ones_vec * W1 * a_fixed_points)[0]\n",
    "    denom2 = 1 + (ones_vec * W2 * a_fixed_points)[0]\n",
    "    term1 = L1 / denom1 - ((L1 * a_fixed_points * ones_vec * W1) / denom1**2)\n",
    "    term2 = L2 / denom2 - ((L2 * a_fixed_points * ones_vec * W2) / denom2**2)\n",
    "    J = p * term1 - term2\n",
    "\n",
    "    # checking stability\n",
    "    eigenvalues = LA(J)\n",
    "    real_parts = np.real(eigenvalues)\n",
    "    if all(real_parts[i] < 0 for i in real_parts):\n",
    "        return a_fixed_points, True\n",
    "    else: \n",
    "        return a_fixed_points, False\n",
    "\n",
    "def polynomial_finder(n, a_tot_value, x_tot_value, y_tot_value, alpha_matrix, beta_matrix, k_positive_rates, k_negative_rates, p_positive_rates, p_negative_rates):\n",
    "    # prefix=\"\"\n",
    "    # print(len(k_positive_rates))\n",
    "    N = 2**n\n",
    "    # print(N)\n",
    "    a_syms = sp.symbols([f\"{prefix}a_{i}\" for i in range(N)])\n",
    "\n",
    "    # k_positive_rates = np.ones(N - 1); k_negative_rates = np.ones(N - 1)\n",
    "    # p_positive_rates = np.ones(N - 1); p_negative_rates = np.ones(N - 1)\n",
    "\n",
    "    # print(k_positive_rates)\n",
    "    k_positive_rates = sp.Matrix(k_positive_rates)\n",
    "    k_negative_rates = sp.Matrix(k_negative_rates)\n",
    "    p_positive_rates = sp.Matrix(p_positive_rates)\n",
    "    p_negative_rates = sp.Matrix(p_negative_rates)\n",
    "    # x_tot_value = 5\n",
    "    # y_tot_value = 4\n",
    "    x_tot = sp.Float(x_tot_value); y_tot = sp.Float(y_tot_value); a_tot = sp.Float(a_tot_value)\n",
    "\n",
    "    a = sp.Matrix(N, 1, lambda i,j: a_syms[i])\n",
    "\n",
    "    ones_vec = sp.ones(1, N - 1)\n",
    "\n",
    "    # kplus = sp.symbols([f\"{prefix}k^+_{i}\" for i in range(N - 1)])\n",
    "    # kminus = sp.symbols([f\"{prefix}k^-_{i}\" for i in range(N - 1)])\n",
    "    # pplus = sp.symbols([f\"{prefix}p^+_{i}\" for i in range(1, N)])\n",
    "    # pminus = sp.symbols([f\"{prefix}p^-_{i}\" for i in range(1, N)])\n",
    "\n",
    "    # Kp = sp.diag(*kplus, 0)\n",
    "    Kp = sp.diag(*[sp.Float(i) for i in k_positive_rates], sp.Float(0))\n",
    "\n",
    "    Km_small = sp.diag(*[sp.Float(i) for i in k_negative_rates])\n",
    "    Km = Km_small.row_insert(len(k_negative_rates), sp.zeros(1, len(k_negative_rates)))  # becomes N x (N-1)\n",
    "\n",
    "    Pp = sp.diag(*[sp.Float(i) for i in p_positive_rates], sp.Float(0))\n",
    "\n",
    "    Pm_small = sp.diag(*[sp.Float(i) for i in p_negative_rates])\n",
    "    Pm = Pm_small.row_insert(len(p_negative_rates), sp.zeros(1, len(p_negative_rates)))  # becomes N x (N-1)\n",
    "\n",
    "    # valid_X_reactions, valid_Y_reactions = calculate_valid_transitions(n)\n",
    "\n",
    "    Alpha_adjusted = sp.Matrix(np.delete(alpha_matrix, -1, axis = 0))\n",
    "    Beta_adjusted  = sp.Matrix(np.delete(beta_matrix, 0, axis = 0))\n",
    "\n",
    "    ones = sp.Matrix([1]*N)\n",
    "    Alpha_row_sums = sp.Matrix(alpha_matrix * ones)\n",
    "    Beta_row_sums = sp.Matrix(beta_matrix * ones)\n",
    "    DAlpha = sp.diag(*[Alpha_row_sums[i, 0] for i in range(N - 1)])\n",
    "    DBeta  = sp.diag(*[Beta_row_sums[i, 0] for i in range(N - 1)])\n",
    "    U = sp.diag(*[sp.Float(i) for i in k_negative_rates])\n",
    "    I = sp.diag(*[sp.Float(i) for i in p_negative_rates])\n",
    "    Q = sp.diag(*[sp.Float(i) for i in k_positive_rates]); Q = Q.col_insert(len(k_positive_rates), sp.zeros(len(k_positive_rates), 1))\n",
    "    D = sp.diag(*[sp.Float(i) for i in p_positive_rates]); D = D.col_insert(0, sp.zeros(len(p_positive_rates), 1))\n",
    "\n",
    "    M = U + DAlpha\n",
    "    N = I + DBeta\n",
    "    G = Km + Alpha_adjusted.T\n",
    "    H = Pm + Beta_adjusted.T\n",
    "    M_inv = M.inv(); N_inv = N.inv()\n",
    "\n",
    "    L1 = G * M_inv * Q - Kp; L2 = H * N_inv * D - Pp\n",
    "    W1 = M_inv * Q; W2 = N_inv * D\n",
    "\n",
    "    ####### RESCALING #######\n",
    "    k_neg_0 = k_negative_rates[0]\n",
    "    # t --> t * k0 * y_tot / a_tot\n",
    "    L1 = L1 * k_neg_0 / a_tot; L2 = L2 * k_neg_0 / a_tot\n",
    "    W1 = W1 / a_tot; W2 = W2 / a_tot\n",
    "    p = x_tot / y_tot\n",
    "    #######\n",
    "\n",
    "    # a_dot = x_tot * L1 * (1 / (1 + (ones_vec * W1 * a)[0])) * a + y_tot * L2 * (1 / (1 + (ones_vec * W2 * a)[0])) * a\n",
    "    polynomials = sp.simplify(p * ((1 + (ones_vec * W2 * a)[0])) * L1 * a + ((1 + (ones_vec * W1 * a)[0])) * L1 * a)\n",
    "\n",
    "    return polynomials, L1, L2, W1, W2, a_syms\n",
    "\n",
    "def sample_log_uniform(number, a, b, size=1, rng=None):\n",
    "    \"\"\"\n",
    "    Sample points uniformly in log-space from an n-dimensional hypercube.\n",
    "\n",
    "    Parameters\n",
    "    ----------\n",
    "    n : int\n",
    "        Number of dimensions (hypercube dimensionality).\n",
    "    a, b : float or array-like of length n\n",
    "        Lower and upper bounds for each coordinate. Must be > 0.\n",
    "        If scalar, the same range (a,b) is used for all dimensions.\n",
    "    size : int\n",
    "        Number of samples to draw (returns array of shape (size, n)).\n",
    "    rng : None or np.random.Generator\n",
    "        Optional numpy random Generator for reproducible draws.\n",
    "\n",
    "    Returns\n",
    "    -------\n",
    "    samples : ndarray, shape (size, n)\n",
    "        Samples drawn so that log(samples) is uniformly distributed\n",
    "        in the n-dimensional box [log(a), log(b)]^n.\n",
    "    \"\"\"\n",
    "    if rng is None:\n",
    "        rng = np.random.default_rng()\n",
    "\n",
    "    a = np.asarray(a)\n",
    "    b = np.asarray(b)\n",
    "\n",
    "    # allow scalar bounds or per-dimension bounds\n",
    "    if a.shape == () and b.shape == ():\n",
    "        log_a = np.log(a)\n",
    "        log_b = np.log(b)\n",
    "        low = log_a\n",
    "        high = log_b\n",
    "    else:\n",
    "        a = a.reshape(-1)\n",
    "        b = b.reshape(-1)\n",
    "        if a.size != number or b.size != number:\n",
    "            raise ValueError(\"If a or b are arrays they must have length n.\")\n",
    "        low = np.log(a)\n",
    "        high = np.log(b)\n",
    "\n",
    "    if np.any(high <= low):\n",
    "        raise ValueError(\"Require b > a (elementwise) and both > 0.\")\n",
    "\n",
    "    # draw uniformly in log-space then exponentiate\n",
    "    u = rng.uniform(low=low, high=high, size=(size, number))\n",
    "    return np.exp(u)\n",
    "\n",
    "def stable_fp_checker(a_tot_value, x_tot_value, y_tot_value, alpha_matrix, beta_matrix, k_positive_rates, k_negative_rates, p_positive_rates, p_negative_rates):\n",
    "    polynomials, L1, L2, W1, W2, a_syms = polynomial_finder(2, a_tot_value, x_tot_value, y_tot_value, alpha_matrix, beta_matrix, k_positive_rates, k_negative_rates, p_positive_rates, p_negative_rates)\n",
    "    groebner_basis = sp.groebner(polynomials, *a_syms, order = 'grevlex')\n",
    "    roots = sp.solve(groebner_basis, *a_syms, dict = True)\n",
    "    # root_array = np.empty((0, 4), dtype=float) \n",
    "    root_array = np.empty((0, 4), dtype=float) \n",
    "\n",
    "    for i in range(len(roots)):\n",
    "        if len(roots) != 4:\n",
    "            break\n",
    "\n",
    "        print(roots[i])\n",
    "        root_array = np.append(root_array, np.array([[roots[i][a_syms[0]], roots[i][a_syms[1]], roots[i][a_syms[2]]]]), axis = 0)\n",
    "\n",
    "        # root_array = np.append(root_array, np.array([[roots[i][a_syms[0]], roots[i][a_syms[1]], roots[i][a_syms[2]], roots[i][a_syms[3]]]]), axis = 0)\n",
    "\n",
    "    print(root_array)\n",
    "    stable_fp_array = []\n",
    "    # conservation_check = lambda root_array: np.sum(root_array)\n",
    "    for i in range(len(root_array)):\n",
    "        if np.all(root_array[i] > 0):\n",
    "            print(\"Positivity confirmed\")\n",
    "            continue\n",
    "        if np.sum(root_array[i]) - 1 <= 1e-5: \n",
    "            print(\"Conservation confirmed\")\n",
    "            continue\n",
    "        if stability_calculator(root_array[i], x_tot_value / y_tot_value, L1, L2, W1, W2):\n",
    "            print(\"Stability confirmed\")\n",
    "            stable_fp_array.append(root_array[i])\n",
    "\n",
    "    return stable_fp_array\n",
    "\n",
    "def simulation(simulation_size):\n",
    "    a_tot_value = 25\n",
    "    x_tot_value_parameter_array = sample_log_uniform(number=1, a=10e-4, b=10e-1, size=simulation_size, rng=None)\n",
    "    y_tot_value_parameter_array = sample_log_uniform(number=1, a=10e-4, b=10e-1, size=simulation_size, rng=None)\n",
    "    alpha_matrix_parameter_array = sample_log_uniform(number=4, a=10e-1, b=10e7, size=simulation_size, rng=None)\n",
    "    beta_matrix_parameter_array = sample_log_uniform(number=4, a=10e-1, b=10e7, size=simulation_size, rng=None)\n",
    "    k_positive_parameter_array = sample_log_uniform(number=3, a=10e-1, b=10e7, size=simulation_size, rng=None)\n",
    "    k_negative_parameter_array = sample_log_uniform(number=3, a=10e-1, b=10e7, size=simulation_size, rng=None)\n",
    "    p_positive_parameter_array = sample_log_uniform(number=3, a=10e-1, b=10e7, size=simulation_size, rng=None)\n",
    "    p_negative_parameter_array = sample_log_uniform(number=3, a=10e-1, b=10e7, size=simulation_size, rng=None)\n",
    "\n",
    "    header_string = \"a_0_stable_fp, a_1_stable_fp, a_2_stable_fp, x_tot, y_tot, alpha_matrix_parameters, beta_matrix_parameters, k_+_parameters, k_-_parameters, p_+_parameters, p_-_parameters\"\n",
    "    filename = f\"test_{simulation_size}.txt\"\n",
    "\n",
    "    final_array = np.empty((0, 22), dtype=float) \n",
    "\n",
    "    for i in range(simulation_size):\n",
    "    \n",
    "        x_tot_value = x_tot_value_parameter_array[i][0]\n",
    "        y_tot_value = y_tot_value_parameter_array[i][0]\n",
    "\n",
    "        alpha_matrix = np.array([\n",
    "            [0, alpha_matrix_parameter_array[i][0], alpha_matrix_parameter_array[i][1], 0],\n",
    "            [0, 0, 0, alpha_matrix_parameter_array[i][2]],\n",
    "            [0, 0, 0, alpha_matrix_parameter_array[i][3]],\n",
    "            [0, 0, 0, 0]\n",
    "        ])\n",
    "\n",
    "        beta_matrix = np.array([\n",
    "            [0, 0, 0, 0],\n",
    "            [beta_matrix_parameter_array[i][0], 0, 0, 0],\n",
    "            [beta_matrix_parameter_array[i][1], 0, 0, 0],\n",
    "            [0, beta_matrix_parameter_array[i][2], beta_matrix_parameter_array[i][3], 0]\n",
    "        ])\n",
    "        k_positive_rates = k_positive_parameter_array[i]\n",
    "        k_negative_rates = k_negative_parameter_array[i]\n",
    "        p_positive_rates = p_positive_parameter_array[i]\n",
    "        p_negative_rates = p_negative_parameter_array[i]\n",
    "\n",
    "        stable_fp_array = stable_fp_checker(a_tot_value, x_tot_value, y_tot_value, alpha_matrix, beta_matrix, k_positive_rates, k_negative_rates, p_positive_rates, p_negative_rates)\n",
    "        \n",
    "        array = np.concatenate([stable_fp_array, alpha_matrix_parameter_array[i], beta_matrix_parameter_array[i], k_positive_parameter_array[i], k_negative_parameter_array[i], p_positive_parameter_array[i], p_negative_parameter_array[i]])\n",
    "        final_array = np.append(final_array, array, axis = 0)\n",
    "    np.savetxt(filename, final_array, delimiter=\",\", header=header_string, comments='')\n",
    "        # print(alpha_matrix)\n",
    "        # print(k_positive_rates)\n",
    "simulation(10)\n",
    "\n",
    "# n = 2\n",
    "# gen = all_parameter_generation(n, \"distributive\", \"gamma\", (1, 2), verbose = False)\n",
    "# alpha_matrix = gen.alpha_parameter_generation()\n",
    "# beta_matrix = gen.beta_parameter_generation()\n",
    "# x_tot_value = 0.1; y_tot_value = 0.1; a_tot_value = 20\n",
    "# k_positive_rates, k_negative_rates = gen.k_parameter_generation()\n",
    "# p_positive_rates, p_negative_rates = gen.p_parameter_generation()\n",
    "# polynomial_finder(n, a_tot_value, x_tot_value, y_tot_value, alpha_matrix, beta_matrix, k_positive_rates, k_negative_rates, p_positive_rates, p_negative_rates)"
   ]
  },
  {
   "cell_type": "code",
   "execution_count": 84,
   "id": "29e38992",
   "metadata": {},
   "outputs": [],
   "source": [
    "import numpy as np\n",
    "\n",
    "# Create a sample NumPy array\n",
    "data = np.array([[1, 2, 3],\n",
    "                 [4, 5, 6],\n",
    "                 [7, 8, 9]])\n",
    "\n",
    "# Save the array to a text file, row-wise\n",
    "# 'my_array.txt' is the filename\n",
    "# data is the array to save\n",
    "# fmt='%d' specifies integer format for the values\n",
    "# delimiter=' ' sets space as the separator between values in a row\n",
    "np.savetxt('my_array.txt', data, fmt='%d', delimiter=' ')"
   ]
  },
  {
   "cell_type": "code",
   "execution_count": null,
   "id": "135997d6",
   "metadata": {},
   "outputs": [],
   "source": []
  },
  {
   "cell_type": "code",
   "execution_count": null,
   "id": "62f71ffc",
   "metadata": {},
   "outputs": [],
   "source": []
  },
  {
   "cell_type": "code",
   "execution_count": null,
   "id": "a7b84bfa",
   "metadata": {},
   "outputs": [],
   "source": []
  },
  {
   "cell_type": "code",
   "execution_count": null,
   "id": "a6461abb",
   "metadata": {},
   "outputs": [
    {
     "data": {
      "text/latex": [
       "$\\displaystyle \\operatorname{GroebnerBasis}\\left(\\left( 1.0 a_{0}, \\  1.0 a_{1}\\right), \\left( a_{0}, \\  a_{1}\\right)\\right)$"
      ],
      "text/plain": [
       "GroebnerBasis([1.0*a_0, 1.0*a_1], a_0, a_1, domain='RR', order='lex')"
      ]
     },
     "execution_count": 266,
     "metadata": {},
     "output_type": "execute_result"
    }
   ],
   "source": [
    "groebner_basis = sp.groebner(polynomials, *a_syms)\n",
    "groebner_basis"
   ]
  },
  {
   "cell_type": "code",
   "execution_count": null,
   "id": "9959d602",
   "metadata": {},
   "outputs": [
    {
     "data": {
      "text/plain": [
       "[{a_0: 0.0, a_1: 0.0}]"
      ]
     },
     "execution_count": 264,
     "metadata": {},
     "output_type": "execute_result"
    }
   ],
   "source": [
    "roots = sp.solve(groebner_basis, *a_syms, dict = True, simplify=False)\n",
    "roots"
   ]
  },
  {
   "cell_type": "code",
   "execution_count": 69,
   "id": "182b1598",
   "metadata": {},
   "outputs": [
    {
     "name": "stdout",
     "output_type": "stream",
     "text": [
      "[]\n",
      "[[10 20 30]\n",
      " [40 50 60]]\n",
      "[10 20 30]\n",
      "Positivity confirmed\n",
      "[40 50 60]\n",
      "Positivity confirmed\n"
     ]
    }
   ],
   "source": [
    "import numpy as np\n",
    "\n",
    "# Initialize an empty 2D array with 0 rows and 3 columns\n",
    "empty_array = np.empty((0, 3), dtype=int) \n",
    "print(empty_array)\n",
    "# Create the array to append\n",
    "new_row = np.array([[10, 20, 30]])\n",
    "\n",
    "# Append the new row\n",
    "empty_array = np.append(empty_array, new_row, axis=0)\n",
    "\n",
    "# Append another row\n",
    "another_row = np.array([[40, 50, 60]])\n",
    "empty_array = np.append(empty_array, another_row, axis=0)\n",
    "\n",
    "print(empty_array)\n",
    "\n",
    "for i in range(len(empty_array)):\n",
    "    print(empty_array[i])\n",
    "    if np.all(empty_array[i] > 0):\n",
    "        print(\"Positivity confirmed\")"
   ]
  },
  {
   "cell_type": "code",
   "execution_count": null,
   "id": "42f04e25",
   "metadata": {},
   "outputs": [
    {
     "name": "stdout",
     "output_type": "stream",
     "text": [
      "[[5.78304517e+01 1.82956144e+02 2.71619238e+07]\n",
      " [2.04273050e+00 1.16511733e+06 1.36519063e+05]\n",
      " [1.68285696e+06 2.83459746e+03 3.62775105e+06]\n",
      " [6.67450880e+02 9.40138456e+03 5.84308078e+01]\n",
      " [1.21057522e+00 1.74155583e+01 5.89683717e+03]\n",
      " [2.57308998e+05 1.95258514e+05 2.50466426e+01]\n",
      " [2.30474971e+01 3.41773373e+05 1.25218651e+06]\n",
      " [5.55052535e+04 1.92117067e+02 3.31439272e+07]\n",
      " [8.00624336e+01 2.00289200e+02 5.03063927e+01]\n",
      " [3.78813091e+06 7.92873229e+02 1.01604200e+05]]\n"
     ]
    }
   ],
   "source": [
    "import numpy as np\n",
    "\n",
    "def sample_log_uniform(n, a, b, size=1, rng=None):\n",
    "    \"\"\"\n",
    "    Sample points uniformly in log-space from an n-dimensional hypercube.\n",
    "\n",
    "    Parameters\n",
    "    ----------\n",
    "    n : int\n",
    "        Number of dimensions (hypercube dimensionality).\n",
    "    a, b : float or array-like of length n\n",
    "        Lower and upper bounds for each coordinate. Must be > 0.\n",
    "        If scalar, the same range (a,b) is used for all dimensions.\n",
    "    size : int\n",
    "        Number of samples to draw (returns array of shape (size, n)).\n",
    "    rng : None or np.random.Generator\n",
    "        Optional numpy random Generator for reproducible draws.\n",
    "\n",
    "    Returns\n",
    "    -------\n",
    "    samples : ndarray, shape (size, n)\n",
    "        Samples drawn so that log(samples) is uniformly distributed\n",
    "        in the n-dimensional box [log(a), log(b)]^n.\n",
    "    \"\"\"\n",
    "    if rng is None:\n",
    "        rng = np.random.default_rng()\n",
    "\n",
    "    a = np.asarray(a)\n",
    "    b = np.asarray(b)\n",
    "\n",
    "    # allow scalar bounds or per-dimension bounds\n",
    "    if a.shape == () and b.shape == ():\n",
    "        log_a = np.log(a)\n",
    "        log_b = np.log(b)\n",
    "        low = log_a\n",
    "        high = log_b\n",
    "    else:\n",
    "        a = a.reshape(-1)\n",
    "        b = b.reshape(-1)\n",
    "        if a.size != n or b.size != n:\n",
    "            raise ValueError(\"If a or b are arrays they must have length n.\")\n",
    "        low = np.log(a)\n",
    "        high = np.log(b)\n",
    "\n",
    "    if np.any(high <= low):\n",
    "        raise ValueError(\"Require b > a (elementwise) and both > 0.\")\n",
    "\n",
    "    # draw uniformly in log-space then exponentiate\n",
    "    u = rng.uniform(low=low, high=high, size=(size, n))\n",
    "    return np.exp(u)\n",
    "\n",
    "# Example 3: reproducible draws\n",
    "rng = np.random.default_rng(42)\n",
    "samples = sample_log_uniform(n=3, a=10e-1, b=10e7, size=10, rng=None)\n",
    "print(samples)"
   ]
  },
  {
   "cell_type": "code",
   "execution_count": null,
   "id": "6f70580a",
   "metadata": {},
   "outputs": [],
   "source": []
  }
 ],
 "metadata": {
  "kernelspec": {
   "display_name": ".venv",
   "language": "python",
   "name": "python3"
  },
  "language_info": {
   "codemirror_mode": {
    "name": "ipython",
    "version": 3
   },
   "file_extension": ".py",
   "mimetype": "text/x-python",
   "name": "python",
   "nbconvert_exporter": "python",
   "pygments_lexer": "ipython3",
   "version": "3.13.7"
  }
 },
 "nbformat": 4,
 "nbformat_minor": 5
}
