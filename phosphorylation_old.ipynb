{
 "cells": [
  {
   "cell_type": "code",
   "execution_count": 1,
   "id": "3d33dd7b",
   "metadata": {},
   "outputs": [],
   "source": [
    "import numpy as np\n",
    "import sympy as sp\n",
    "from typing import List, Tuple, Dict, Any, Set\n",
    "from scipy.stats import levy\n",
    "import matplotlib.pyplot as plt\n",
    "from scipy.integrate import solve_ivp\n",
    "\n",
    "class all_parameter_generation:\n",
    "    \"\"\"\n",
    "    Generate state transitions and random parameters (a, b, c, enzyme) for an n-site phosphorylation model.\n",
    "\n",
    "    Args:\n",
    "        n: number of sites (int)\n",
    "        distribution: distribution name (\"gamma\" supported)\n",
    "        params: parameters for the distribution (for gamma: [shape, scale])\n",
    "        verbose: if True, prints transitions and matrices\n",
    "    \"\"\"\n",
    "    def __init__(self, n: int, reaction_types: str, distribution: str, distribution_paramaters: List[float], verbose: bool = False):\n",
    "        self.n = n\n",
    "        self.num_states = 2 ** n\n",
    "        self.distribution = distribution\n",
    "        self.params = distribution_paramaters\n",
    "        self.reaction_types = reaction_types\n",
    "        self.verbose = verbose\n",
    "        self.rng = np.random.default_rng()\n",
    "        \n",
    "    @staticmethod\n",
    "    def padded_binary(i: int, n: int) -> str:\n",
    "        return bin(i)[2:].zfill(n)\n",
    "\n",
    "    @staticmethod\n",
    "    def binary_string_to_array(string: str) -> np.ndarray:\n",
    "        return np.array([int(i) for i in string], dtype=int)\n",
    "\n",
    "    def calculate_valid_transitions(self) -> Tuple[List[List[Any]], List[List[Any]]]:\n",
    "        \"\"\"\n",
    "        Returns:\n",
    "            valid_X_reactions: list of [state_i_str, state_j_str, i, j, \"E\"]\n",
    "            valid_Y_reactions: list of [state_i_str, state_j_str, i, j, \"F\"]\n",
    "        \"\"\"\n",
    "        all_states = [self.padded_binary(i, self.n) for i in range(self.num_states)]\n",
    "\n",
    "        valid_difference_vectors: Set[Tuple[int, ...]] = set()\n",
    "        valid_X_reactions: List[List[Any]] = []\n",
    "        valid_Y_reactions: List[List[Any]] = []\n",
    "\n",
    "        for i in range(self.num_states):\n",
    "            arr_i = self.binary_string_to_array(all_states[i])\n",
    "            for j in range(self.num_states):\n",
    "                if i == j:\n",
    "                    continue\n",
    "                arr_j = self.binary_string_to_array(all_states[j])\n",
    "                diff = arr_j - arr_i\n",
    "                # if self.reaction_types == \"distributive\":\n",
    "                    \n",
    "                hamming_weight = np.sum(np.abs(diff))\n",
    "\n",
    "                if hamming_weight == 1:\n",
    "                    # +1 -> phosphorylation (E), -1 -> dephosphorylation (F)\n",
    "                    element = \"E\" if np.any(diff == 1) else \"F\"\n",
    "                    if element == \"E\":\n",
    "                        if self.verbose:\n",
    "                            print(f\"{all_states[i]} --> {all_states[j]} (E), {i}, {j}\")\n",
    "                        valid_X_reactions.append([all_states[i], all_states[j], i, j, element])\n",
    "                    else:\n",
    "                        if self.verbose:\n",
    "                            print(f\"{all_states[i]} --> {all_states[j]} (F), {i}, {j}\")\n",
    "                        valid_Y_reactions.append([all_states[i], all_states[j], i, j, element])\n",
    "                    valid_difference_vectors.add(tuple(diff))\n",
    "\n",
    "        return valid_X_reactions, valid_Y_reactions\n",
    "    \n",
    "    def alpha_parameter_generation(self) -> Tuple[np.ndarray, np.ndarray, np.ndarray, np.ndarray,\n",
    "                                            Dict[int, List[int]], Dict[int, List[int]],\n",
    "                                            Dict[int, List[int]], Dict[int, List[int]]]:\n",
    "        \n",
    "        valid_X_reactions, valid_Y_reactions = self.calculate_valid_transitions()\n",
    "\n",
    "        shape, scale = self.params\n",
    "\n",
    "        alpha_matrix = np.zeros((self.num_states, self.num_states))\n",
    "\n",
    "        for _, _, i, j, _ in valid_X_reactions:\n",
    "\n",
    "            alpha_matrix[i][j] = self.rng.gamma(shape, scale)\n",
    "\n",
    "        return alpha_matrix\n",
    "\n",
    "    def beta_parameter_generation(self) -> Tuple[np.ndarray, np.ndarray, np.ndarray, np.ndarray,\n",
    "                                            Dict[int, List[int]], Dict[int, List[int]],\n",
    "                                            Dict[int, List[int]], Dict[int, List[int]]]:\n",
    "        \n",
    "        valid_X_reactions, valid_Y_reactions = self.calculate_valid_transitions()\n",
    "\n",
    "        shape, scale = self.params\n",
    "        beta_matrix = np.zeros((self.num_states, self.num_states))\n",
    "        \n",
    "        for _, _, i, j, _ in valid_Y_reactions:\n",
    "\n",
    "            beta_matrix[i][j] = self.rng.gamma(shape, scale)\n",
    "\n",
    "        return beta_matrix\n",
    "    \n",
    "    def k_parameter_generation(self) -> Tuple[np.ndarray, np.ndarray]:\n",
    "        # if self.distribution != \"gamma\":\n",
    "        #     raise NotImplementedError(\"Only 'gamma' distribution implemented for a_parameter_generation\")\n",
    "        shape, scale = self.params\n",
    "        if self.distribution == \"gamma\":\n",
    "            k_positive_rates = self.rng.gamma(shape, scale, self.num_states - 1)\n",
    "            k_negative_rates = self.rng.gamma(shape, scale, self.num_states - 1)\n",
    "        if self.distribution == \"levy\":\n",
    "            k_positive_rates = levy.rvs(loc=shape, scale=scale, size=self.num_states - 1, random_state=self.rng)\n",
    "            k_negative_rates = levy.rvs(loc=shape, scale=scale, size=self.num_states - 1, random_state=self.rng)\n",
    "        # k_positive_rates[-1] = 0\n",
    "        # k_negative_rates[-1] = 0\n",
    "        \n",
    "        return k_positive_rates, k_negative_rates\n",
    "\n",
    "    def p_parameter_generation(self) -> Tuple[np.ndarray, np.ndarray]:\n",
    "        \n",
    "        # if self.distribution != \"gamma\":\n",
    "        #     raise NotImplementedError(\"Only 'gamma' distribution implemented for b_parameter_generation\")\n",
    "        shape, scale = self.params\n",
    "        if self.distribution == \"gamma\":\n",
    "            p_positive_rates = self.rng.gamma(shape, scale, self.num_states - 1)\n",
    "            p_negative_rates = self.rng.gamma(shape, scale, self.num_states - 1)\n",
    "        if self.distribution == \"levy\":\n",
    "            p_positive_rates = levy.rvs(loc=shape, scale=scale, size=self.num_states - 1, random_state=self.rng)\n",
    "            p_negative_rates = levy.rvs(loc=shape, scale=scale, size=self.num_states - 1, random_state=self.rng)\n",
    "        # p_positive_rates[0] = 0\n",
    "        # p_negative_rates[0] = 0\n",
    "\n",
    "        return p_positive_rates, p_negative_rates\n",
    "    "
   ]
  },
  {
   "cell_type": "code",
   "execution_count": 2,
   "id": "a068d42b",
   "metadata": {},
   "outputs": [
    {
     "data": {
      "text/latex": [
       "$\\displaystyle \\frac{Y {A}_{1}}{X}$"
      ],
      "text/plain": [
       "Y*A[1]/X"
      ]
     },
     "execution_count": 2,
     "metadata": {},
     "output_type": "execute_result"
    }
   ],
   "source": [
    "from sympy import solve\n",
    "# from sympy.abc import A0, A1, B0, C1, X, Y\n",
    "X = sp.Symbol('X'); Y = sp.Symbol('Y')\n",
    "A = sp.IndexedBase('A')\n",
    "B = sp.IndexedBase('B')\n",
    "C = sp.IndexedBase('C')\n",
    "solutions = solve([-X*A[0] + B[0] + C[1], -Y*A[1] + C[1] + B[0], X*A[0] - 2*B[0], Y*A[1] - 2*C[1], -X*A[0] + 2*B[0], -Y*A[1] + 2*C[1]], [A[0], A[1], B[0], C[1], X, Y], dict=True)\n",
    "solutions[0][A[0]]\n"
   ]
  },
  {
   "cell_type": "code",
   "execution_count": 3,
   "id": "92da032a",
   "metadata": {},
   "outputs": [
    {
     "data": {
      "text/latex": [
       "$\\displaystyle \\frac{Y {A}_{1}}{2}$"
      ],
      "text/plain": [
       "Y*A[1]/2"
      ]
     },
     "execution_count": 3,
     "metadata": {},
     "output_type": "execute_result"
    }
   ],
   "source": [
    "solutions[0][B[0]]"
   ]
  },
  {
   "cell_type": "code",
   "execution_count": 4,
   "id": "860b9be5",
   "metadata": {},
   "outputs": [
    {
     "data": {
      "text/latex": [
       "$\\displaystyle \\frac{Y {A}_{1}}{2}$"
      ],
      "text/plain": [
       "Y*A[1]/2"
      ]
     },
     "execution_count": 4,
     "metadata": {},
     "output_type": "execute_result"
    }
   ],
   "source": [
    "solutions[0][C[1]]"
   ]
  },
  {
   "cell_type": "code",
   "execution_count": 5,
   "id": "36260d1e",
   "metadata": {},
   "outputs": [
    {
     "name": "stdout",
     "output_type": "stream",
     "text": [
      "Matrix([[b_0], [0]])\n",
      "Matrix([[0], [c_1]])\n"
     ]
    },
    {
     "ename": "NameError",
     "evalue": "name 'calculate_valid_transitions' is not defined",
     "output_type": "error",
     "traceback": [
      "\u001b[31m---------------------------------------------------------------------------\u001b[39m",
      "\u001b[31mNameError\u001b[39m                                 Traceback (most recent call last)",
      "\u001b[36mCell\u001b[39m\u001b[36m \u001b[39m\u001b[32mIn[5]\u001b[39m\u001b[32m, line 99\u001b[39m\n\u001b[32m     97\u001b[39m \u001b[38;5;66;03m# Example: build symbolic ODEs for n=2 (N=4)\u001b[39;00m\n\u001b[32m     98\u001b[39m n = \u001b[32m1\u001b[39m\n\u001b[32m---> \u001b[39m\u001b[32m99\u001b[39m odes = \u001b[43mbuild_phos_odes\u001b[49m\u001b[43m(\u001b[49m\u001b[43mn\u001b[49m\u001b[43m)\u001b[49m\n\u001b[32m    100\u001b[39m odes[\u001b[33m\"\u001b[39m\u001b[33madot\u001b[39m\u001b[33m\"\u001b[39m][\u001b[32m0\u001b[39m]\n\u001b[32m    101\u001b[39m \u001b[38;5;66;03m# sp.pprint(odes[\"adot\"])\u001b[39;00m\n\u001b[32m    102\u001b[39m \u001b[38;5;66;03m# sp.pprint(odes[\"bdot\"])\u001b[39;00m\n\u001b[32m    103\u001b[39m \u001b[38;5;66;03m# sp.pprint(odes[\"cdot\"])\u001b[39;00m\n\u001b[32m    104\u001b[39m \u001b[38;5;66;03m# sp.pprint(odes[\"xdot\"])\u001b[39;00m\n\u001b[32m    105\u001b[39m \u001b[38;5;66;03m# sp.pprint(odes[\"ydot\"])\u001b[39;00m\n",
      "\u001b[36mCell\u001b[39m\u001b[36m \u001b[39m\u001b[32mIn[5]\u001b[39m\u001b[32m, line 40\u001b[39m, in \u001b[36mbuild_phos_odes\u001b[39m\u001b[34m(n, prefix)\u001b[39m\n\u001b[32m     37\u001b[39m Pp = sp.diag(*pplus)\n\u001b[32m     38\u001b[39m Pm = sp.diag(*pminus)\n\u001b[32m---> \u001b[39m\u001b[32m40\u001b[39m valid_X_reactions, valid_Y_reactions = \u001b[43mcalculate_valid_transitions\u001b[49m(n)\n\u001b[32m     42\u001b[39m \u001b[38;5;66;03m# compute allowed transitions\u001b[39;00m\n\u001b[32m     43\u001b[39m valid_X, valid_Y = calculate_valid_transitions(n)\n",
      "\u001b[31mNameError\u001b[39m: name 'calculate_valid_transitions' is not defined"
     ]
    }
   ],
   "source": [
    "import sympy as sp\n",
    "\n",
    "def build_phos_odes(n, prefix=\"\"):\n",
    "    \"\"\"\n",
    "    Build symbolic ODEs for the phosphorylation system for given n (N = 2**n).\n",
    "    Returns a dict with keys:\n",
    "      N, a, b, c, x, y,\n",
    "      Kp, Km, Pp, Pm, Alpha, Beta, DAlpha, DBeta,\n",
    "      adot, bdot, cdot, xdot, ydot,\n",
    "      ones (vector of ones)\n",
    "    \"\"\"\n",
    "    N = 2**n\n",
    "    a_syms = sp.symbols([f\"{prefix}a_{i}\" for i in range(N)])\n",
    "    b_syms = sp.symbols([f\"{prefix}b_{i}\" for i in range(N)])\n",
    "    c_syms = sp.symbols([f\"{prefix}c_{i}\" for i in range(N)])\n",
    "    x_sym, y_sym = sp.symbols(f\"{prefix}x {prefix}y\")\n",
    "\n",
    "    a = sp.Matrix(N, 1, lambda i,j: a_syms[i])\n",
    "    b = sp.Matrix(N, 1, lambda i,j: b_syms[i])\n",
    "    b[-1] = 0\n",
    "    print(b)\n",
    "    c = sp.Matrix(N, 1, lambda i,j: c_syms[i])\n",
    "    c[0] = 0\n",
    "\n",
    "    print(c)\n",
    "\n",
    "    x = x_sym\n",
    "    y = y_sym\n",
    "\n",
    "    kplus = sp.symbols([f\"{prefix}k^+_{i}\" for i in range(N)])\n",
    "    kminus = sp.symbols([f\"{prefix}k^-_{i}\" for i in range(N)])\n",
    "    pplus = sp.symbols([f\"{prefix}p^+_{i}\" for i in range(N)])\n",
    "    pminus = sp.symbols([f\"{prefix}p^-_{i}\" for i in range(N)])\n",
    "\n",
    "    Kp = sp.diag(*kplus)\n",
    "    Km = sp.diag(*kminus)\n",
    "    Pp = sp.diag(*pplus)\n",
    "    Pm = sp.diag(*pminus)\n",
    "\n",
    "    valid_X_reactions, valid_Y_reactions = calculate_valid_transitions(n)\n",
    "\n",
    "    # compute allowed transitions\n",
    "    valid_X, valid_Y = calculate_valid_transitions(n)\n",
    "    \n",
    "    # Build Alpha and Beta with symbols only at allowed (j,k)\n",
    "    Alpha = sp.zeros(N, N)\n",
    "    Beta  = sp.zeros(N, N)\n",
    "    # create symbols for allowed entries\n",
    "    for (_, _, j,k, _) in valid_X:\n",
    "        Alpha[j,k] = sp.symbols(f\"{prefix}alpha_{j}_{k}\")\n",
    "    for (_, _, j,k, _) in valid_Y:\n",
    "        Beta[j,k] = sp.symbols(f\"{prefix}beta_{j}_{k}\")\n",
    "      \n",
    "    # Set last column and row of Alpha to zero (no transitions from or to fully phosphorylated state)\n",
    "    # Alpha[:, N-1] = sp.zeros(N, 1)\n",
    "    # Alpha[N-1, :] = sp.zeros(1, N)\n",
    "    # # Set first column and row of Beta to zero (no transitions from or to fully de\n",
    "    # Beta[:, 0] = sp.zeros(N, 1)\n",
    "    # Beta[0, :] = sp.zeros(1, N)\n",
    "    print(\"Alpha matrix:\")\n",
    "    sp.pprint(Alpha)\n",
    "    print(\"Beta matrix:\")\n",
    "    sp.pprint(Beta)\n",
    "    ones = sp.Matrix([1]*N)\n",
    "    Alpha_row_sums = Alpha * ones\n",
    "    Beta_row_sums = Beta * ones\n",
    "    DAlpha = sp.diag(*[Alpha_row_sums[i,0] for i in range(N)])\n",
    "    DBeta  = sp.diag(*[Beta_row_sums[i,0]  for i in range(N)])\n",
    "\n",
    "    # a_adjusted_for_b_dot = a.copy(); a_adjusted_for_b_dot[-1] = 0\n",
    "    # a_adjusted_for_c_dot = a.copy(); a_adjusted_for_c_dot[0] = 0\n",
    "\n",
    "    # a_adjusted_for_x_dot = a.copy(); a_adjusted_for_x_dot[-1] = 0\n",
    "    # a_adjusted_for_y_dot = a.copy(); a_adjusted_for_y_dot[0] = 0\n",
    "\n",
    "    adot = Km * b + Pm * c + Alpha.T * b + Beta.T * c - x * (Kp * a) - y * (Pp * a)\n",
    "    bdot = x * (Kp * a) - Km * b - DAlpha * b\n",
    "    cdot = y * (Pp * a) - Pm * c - DBeta * c\n",
    "\n",
    "    kplus_vec = sp.Matrix(kplus)\n",
    "    pplus_vec = sp.Matrix(pplus)\n",
    "\n",
    "    xdot = - x * (kplus_vec.T * a)[0] + (ones.T * (Km + DAlpha) * b)[0]\n",
    "    ydot = - y * (pplus_vec.T * a)[0] + (ones.T * (Pm + DBeta) * c)[0]\n",
    "    \n",
    "    return {\n",
    "        \"N\": N,\n",
    "        \"a\": a, \"b\": b, \"c\": c, \"x\": x, \"y\": y,\n",
    "        \"Kp\": Kp, \"Km\": Km, \"Pp\": Pp, \"Pm\": Pm,\n",
    "        \"Alpha\": Alpha, \"Beta\": Beta,\n",
    "        \"DAlpha\": DAlpha, \"DBeta\": DBeta,\n",
    "        \"ones\": ones,\n",
    "        \"adot\": sp.simplify(adot), \"bdot\": sp.simplify(bdot), \"cdot\": sp.simplify(cdot),\n",
    "        \"xdot\": sp.simplify(xdot), \"ydot\": sp.simplify(ydot)\n",
    "    }\n",
    "\n",
    "# Example: build symbolic ODEs for n=2 (N=4)\n",
    "n = 1\n",
    "odes = build_phos_odes(n)\n",
    "odes[\"adot\"][0]\n",
    "# sp.pprint(odes[\"adot\"])\n",
    "# sp.pprint(odes[\"bdot\"])\n",
    "# sp.pprint(odes[\"cdot\"])\n",
    "# sp.pprint(odes[\"xdot\"])\n",
    "# sp.pprint(odes[\"ydot\"])\n"
   ]
  },
  {
   "cell_type": "code",
   "execution_count": null,
   "id": "7247e439",
   "metadata": {},
   "outputs": [
    {
     "data": {
      "text/latex": [
       "$\\displaystyle a_{0} k^{+}_{0} x - \\alpha_{0 1} b_{0} - b_{0} k^{-}_{0}$"
      ],
      "text/plain": [
       "a_0*k^+_0*x - alpha_0_1*b_0 - b_0*k^-_0"
      ]
     },
     "execution_count": 404,
     "metadata": {},
     "output_type": "execute_result"
    }
   ],
   "source": [
    "odes[\"bdot\"][0]\n"
   ]
  },
  {
   "cell_type": "code",
   "execution_count": null,
   "id": "b45c75d6",
   "metadata": {},
   "outputs": [
    {
     "ename": "NameError",
     "evalue": "name 'odes' is not defined",
     "output_type": "error",
     "traceback": [
      "\u001b[31m---------------------------------------------------------------------------\u001b[39m",
      "\u001b[31mNameError\u001b[39m                                 Traceback (most recent call last)",
      "\u001b[36mCell\u001b[39m\u001b[36m \u001b[39m\u001b[32mIn[7]\u001b[39m\u001b[32m, line 1\u001b[39m\n\u001b[32m----> \u001b[39m\u001b[32m1\u001b[39m \u001b[43modes\u001b[49m[\u001b[33m\"\u001b[39m\u001b[33mbdot\u001b[39m\u001b[33m\"\u001b[39m][\u001b[32m1\u001b[39m]\n",
      "\u001b[31mNameError\u001b[39m: name 'odes' is not defined"
     ]
    }
   ],
   "source": [
    "odes[\"bdot\"][1]\n"
   ]
  },
  {
   "cell_type": "code",
   "execution_count": 6,
   "id": "664db7c1",
   "metadata": {},
   "outputs": [
    {
     "ename": "NameError",
     "evalue": "name 'odes' is not defined",
     "output_type": "error",
     "traceback": [
      "\u001b[31m---------------------------------------------------------------------------\u001b[39m",
      "\u001b[31mNameError\u001b[39m                                 Traceback (most recent call last)",
      "\u001b[36mCell\u001b[39m\u001b[36m \u001b[39m\u001b[32mIn[6]\u001b[39m\u001b[32m, line 1\u001b[39m\n\u001b[32m----> \u001b[39m\u001b[32m1\u001b[39m \u001b[43modes\u001b[49m[\u001b[33m\"\u001b[39m\u001b[33mcdot\u001b[39m\u001b[33m\"\u001b[39m][\u001b[32m1\u001b[39m]\n",
      "\u001b[31mNameError\u001b[39m: name 'odes' is not defined"
     ]
    }
   ],
   "source": [
    "odes[\"cdot\"][1]"
   ]
  },
  {
   "cell_type": "code",
   "execution_count": 7,
   "id": "ddfcd868",
   "metadata": {},
   "outputs": [
    {
     "ename": "NameError",
     "evalue": "name 'odes' is not defined",
     "output_type": "error",
     "traceback": [
      "\u001b[31m---------------------------------------------------------------------------\u001b[39m",
      "\u001b[31mNameError\u001b[39m                                 Traceback (most recent call last)",
      "\u001b[36mCell\u001b[39m\u001b[36m \u001b[39m\u001b[32mIn[7]\u001b[39m\u001b[32m, line 1\u001b[39m\n\u001b[32m----> \u001b[39m\u001b[32m1\u001b[39m \u001b[43modes\u001b[49m[\u001b[33m\"\u001b[39m\u001b[33mxdot\u001b[39m\u001b[33m\"\u001b[39m]\n",
      "\u001b[31mNameError\u001b[39m: name 'odes' is not defined"
     ]
    }
   ],
   "source": [
    "odes[\"xdot\"]"
   ]
  },
  {
   "cell_type": "code",
   "execution_count": 8,
   "id": "dabfd716",
   "metadata": {},
   "outputs": [
    {
     "ename": "NameError",
     "evalue": "name 'odes' is not defined",
     "output_type": "error",
     "traceback": [
      "\u001b[31m---------------------------------------------------------------------------\u001b[39m",
      "\u001b[31mNameError\u001b[39m                                 Traceback (most recent call last)",
      "\u001b[36mCell\u001b[39m\u001b[36m \u001b[39m\u001b[32mIn[8]\u001b[39m\u001b[32m, line 1\u001b[39m\n\u001b[32m----> \u001b[39m\u001b[32m1\u001b[39m \u001b[43modes\u001b[49m[\u001b[33m\"\u001b[39m\u001b[33mydot\u001b[39m\u001b[33m\"\u001b[39m]\n",
      "\u001b[31mNameError\u001b[39m: name 'odes' is not defined"
     ]
    }
   ],
   "source": [
    "odes[\"ydot\"]"
   ]
  },
  {
   "cell_type": "markdown",
   "id": "d92bed8d",
   "metadata": {},
   "source": [
    "# BEST SYMBOLIC ODE GENERATOR:"
   ]
  },
  {
   "cell_type": "code",
   "execution_count": 9,
   "id": "8b4796a3",
   "metadata": {},
   "outputs": [
    {
     "name": "stdout",
     "output_type": "stream",
     "text": [
      "00 --> 01 (X), 0 -> 1\n",
      "00 --> 10 (X), 0 -> 2\n",
      "01 --> 00 (Y), 1 -> 0\n",
      "01 --> 11 (X), 1 -> 3\n",
      "10 --> 00 (Y), 2 -> 0\n",
      "10 --> 11 (X), 2 -> 3\n",
      "11 --> 01 (Y), 3 -> 1\n",
      "11 --> 10 (Y), 3 -> 2\n",
      "Matrix([[alpha_0_1 + alpha_0_2, 0, 0, 0], [0, alpha_1_3, 0, 0], [0, 0, alpha_2_3, 0], [0, 0, 0, 0]])\n",
      "Matrix([[0, 0, 0, 0], [0, beta_1_0, 0, 0], [0, 0, beta_2_0, 0], [0, 0, 0, beta_3_1 + beta_3_2]])\n"
     ]
    },
    {
     "data": {
      "text/latex": [
       "$\\displaystyle a_{1} p^{+}_{1} y - \\beta_{1 0} c_{1} - c_{1} p^{-}_{1}$"
      ],
      "text/plain": [
       "a_1*p^+_1*y - beta_1_0*c_1 - c_1*p^-_1"
      ]
     },
     "execution_count": 9,
     "metadata": {},
     "output_type": "execute_result"
    }
   ],
   "source": [
    "import sympy as sp\n",
    "def padded_binary(i: int, n: int) -> str:\n",
    "    return bin(i)[2:].zfill(n)\n",
    "\n",
    "# Replace this method in your class\n",
    "@staticmethod\n",
    "def binary_string_to_array(string: str) -> np.ndarray:\n",
    "    # use a comprehension so we don't rely on the builtin `list` name being callable\n",
    "    return np.array([int(ch) for ch in string], dtype=int)\n",
    "\n",
    "def calculate_valid_transitions(n: int):\n",
    "    num_states = 2**n\n",
    "    all_states = [padded_binary(i, n) for i in range(num_states)]\n",
    "    \n",
    "    # print(f\"Total number of states: {num_states}\")\n",
    "    # print(\"Valid single-step transitions:\")\n",
    "\n",
    "    valid_difference_vectors = set()\n",
    "    \n",
    "    valid_X_reactions = [] # distributively\n",
    "    valid_Y_reactions = [] # distributively\n",
    "\n",
    "    for i in range(num_states):\n",
    "        for j in range(num_states):\n",
    "            # Do not consider transitions from a state to itself\n",
    "            if i == j:\n",
    "                continue\n",
    "\n",
    "            if np.sum(np.abs(binary_string_to_array(all_states[j]) - binary_string_to_array(all_states[i]))) == 1:\n",
    "                # Determine if it's a phosphorylation or dephosphorylation event\n",
    "                # A +1 indicates phosphorylation, a -1 indicates dephosphorylation\n",
    "                element = \"X\" if np.any(binary_string_to_array(all_states[j]) - binary_string_to_array(all_states[i]) == 1) else \"Y\"\n",
    "                \n",
    "                if element == \"X\":\n",
    "                    print(f\"{all_states[i]} --> {all_states[j]} ({element}), {i} -> {j}\")\n",
    "                    valid_X_reactions.append([all_states[i], all_states[j], i, j, element])\n",
    "                if element == \"Y\":\n",
    "                    print(f\"{all_states[i]} --> {all_states[j]} ({element}), {i} -> {j}\")\n",
    "                    valid_Y_reactions.append([all_states[i], all_states[j], i, j, element])\n",
    "\n",
    "                valid_difference_vectors.add(tuple(binary_string_to_array(all_states[j]) - binary_string_to_array(all_states[i])))\n",
    "\n",
    "    return valid_X_reactions, valid_Y_reactions\n",
    "\n",
    "def build_phos_odes(n, prefix=\"\"):\n",
    "    \"\"\"\n",
    "    Build symbolic ODEs for the phosphorylation system for given n (N = 2**n).\n",
    "    Returns a dict with keys:\n",
    "      adot, bdot, cdot, xdot, ydot,\n",
    "    \"\"\"\n",
    "    N = 2**n\n",
    "    a_syms = sp.symbols([f\"{prefix}a_{i}\" for i in range(N)])\n",
    "    b_syms = sp.symbols([f\"{prefix}b_{i}\" for i in range(N)])\n",
    "    c_syms = sp.symbols([f\"{prefix}c_{i}\" for i in range(N)])\n",
    "    x_sym, y_sym = sp.symbols(f\"{prefix}x {prefix}y\")\n",
    "\n",
    "    a = sp.Matrix(N, 1, lambda i,j: a_syms[i])\n",
    "    b = sp.Matrix(N, 1, lambda i,j: b_syms[i])\n",
    "    c = sp.Matrix(N, 1, lambda i,j: c_syms[i])\n",
    "    \n",
    "    x = x_sym\n",
    "    y = y_sym\n",
    "\n",
    "    kplus = sp.symbols([f\"{prefix}k^+_{i}\" for i in range(N)]); kplus[-1] = sp.Integer(0)\n",
    "    kminus = sp.symbols([f\"{prefix}k^-_{i}\" for i in range(N)]); kminus[-1] = sp.Integer(0)\n",
    "    pplus = sp.symbols([f\"{prefix}p^+_{i}\" for i in range(N)]); pplus[0] = sp.Integer(0)\n",
    "    pminus = sp.symbols([f\"{prefix}p^-_{i}\" for i in range(N)]); pminus[0] = sp.Integer(0)\n",
    "\n",
    "    Kp = sp.diag(*kplus)\n",
    "    Km = sp.diag(*kminus)\n",
    "    Pp = sp.diag(*pplus)\n",
    "    Pm = sp.diag(*pminus)\n",
    "\n",
    "    # compute allowed transitions\n",
    "    valid_X_reactions, valid_Y_reactions = calculate_valid_transitions(n)\n",
    "    \n",
    "    # Build Alpha and Beta with symbols only at allowed (j,k)\n",
    "    Alpha = sp.zeros(N, N)\n",
    "    Beta  = sp.zeros(N, N)\n",
    "    # create symbols for allowed entries\n",
    "    for (_, _, j,k, _) in valid_X_reactions:\n",
    "        Alpha[j,k] = sp.symbols(f\"{prefix}alpha_{j}_{k}\")\n",
    "    for (_, _, j,k, _) in valid_Y_reactions:\n",
    "        Beta[j,k] = sp.symbols(f\"{prefix}beta_{j}_{k}\")\n",
    "\n",
    "    ones = sp.Matrix([1]*N)\n",
    "    Alpha_row_sums = Alpha * ones\n",
    "    Beta_row_sums = Beta * ones\n",
    "    DAlpha = sp.diag(*[Alpha_row_sums[i, 0] for i in range(N)])\n",
    "    DBeta  = sp.diag(*[Beta_row_sums[i, 0] for i in range(N)])\n",
    "    print(DAlpha)\n",
    "    print(DBeta)\n",
    "    adot = Km * b + Pm * c + Alpha.T * b + Beta.T * c - x * (Kp * a) - y * (Pp * a)\n",
    "    bdot = x * (Kp * a) - Km * b - DAlpha * b\n",
    "    cdot = y * (Pp * a) - Pm * c - DBeta * c\n",
    "    bdot[-1] = sp.Integer(0)\n",
    "    cdot[0] = sp.Integer(0)\n",
    "    kplus_vec = sp.Matrix(kplus)\n",
    "    pplus_vec = sp.Matrix(pplus)\n",
    "\n",
    "    xdot = - x * (kplus_vec.T * a)[0] + (ones.T * (Km + DAlpha) * b)[0]\n",
    "    ydot = - y * (pplus_vec.T * a)[0] + (ones.T * (Pm + DBeta) * c)[0]\n",
    "    # print(type(adot[0]))\n",
    "\n",
    "    return {\n",
    "        \"adot\": sp.expand(adot), \"bdot\": sp.expand(bdot), \"cdot\": sp.expand(cdot),\n",
    "        \"xdot\": sp.expand(xdot), \"ydot\": sp.expand(ydot),\n",
    "    }\n",
    "\n",
    "# Example: build symbolic ODEs for n=2 (N=4)\n",
    "n = 2\n",
    "odes = build_phos_odes(n)\n",
    "odes[\"cdot\"][1]\n",
    "# sp.pprint(odes[\"adot\"])\n",
    "# sp.pprint(odes[\"bdot\"])\n",
    "# sp.pprint(odes[\"cdot\"])\n",
    "# sp.pprint(odes[\"xdot\"])\n",
    "# sp.pprint(odes[\"ydot\"])"
   ]
  },
  {
   "cell_type": "code",
   "execution_count": 10,
   "id": "978ba2af",
   "metadata": {},
   "outputs": [
    {
     "data": {
      "text/latex": [
       "$\\displaystyle a_{2} p^{+}_{2} y - \\beta_{2 0} c_{2} - c_{2} p^{-}_{2}$"
      ],
      "text/plain": [
       "a_2*p^+_2*y - beta_2_0*c_2 - c_2*p^-_2"
      ]
     },
     "execution_count": 10,
     "metadata": {},
     "output_type": "execute_result"
    }
   ],
   "source": [
    "odes[\"cdot\"][2]\n"
   ]
  },
  {
   "cell_type": "code",
   "execution_count": 11,
   "id": "a9fe6a55",
   "metadata": {},
   "outputs": [
    {
     "data": {
      "text/latex": [
       "$\\displaystyle a_{3} p^{+}_{3} y - \\beta_{3 1} c_{3} - \\beta_{3 2} c_{3} - c_{3} p^{-}_{3}$"
      ],
      "text/plain": [
       "a_3*p^+_3*y - beta_3_1*c_3 - beta_3_2*c_3 - c_3*p^-_3"
      ]
     },
     "execution_count": 11,
     "metadata": {},
     "output_type": "execute_result"
    }
   ],
   "source": [
    "odes[\"cdot\"][3]\n"
   ]
  },
  {
   "cell_type": "code",
   "execution_count": 12,
   "id": "1712b765",
   "metadata": {},
   "outputs": [
    {
     "data": {
      "text/latex": [
       "$\\displaystyle - a_{0} k^{+}_{0} x - a_{1} k^{+}_{1} x - a_{2} k^{+}_{2} x + \\alpha_{0 1} b_{0} + \\alpha_{0 2} b_{0} + \\alpha_{1 3} b_{1} + \\alpha_{2 3} b_{2} + b_{0} k^{-}_{0} + b_{1} k^{-}_{1} + b_{2} k^{-}_{2}$"
      ],
      "text/plain": [
       "-a_0*k^+_0*x - a_1*k^+_1*x - a_2*k^+_2*x + alpha_0_1*b_0 + alpha_0_2*b_0 + alpha_1_3*b_1 + alpha_2_3*b_2 + b_0*k^-_0 + b_1*k^-_1 + b_2*k^-_2"
      ]
     },
     "execution_count": 12,
     "metadata": {},
     "output_type": "execute_result"
    }
   ],
   "source": [
    "odes[\"xdot\"]\n"
   ]
  },
  {
   "cell_type": "code",
   "execution_count": null,
   "id": "bb8f1280",
   "metadata": {},
   "outputs": [],
   "source": []
  },
  {
   "cell_type": "code",
   "execution_count": null,
   "id": "1d1393e3",
   "metadata": {},
   "outputs": [],
   "source": []
  },
  {
   "cell_type": "code",
   "execution_count": null,
   "id": "52dad420",
   "metadata": {},
   "outputs": [],
   "source": []
  },
  {
   "cell_type": "code",
   "execution_count": null,
   "id": "b2069b70",
   "metadata": {},
   "outputs": [],
   "source": []
  },
  {
   "cell_type": "markdown",
   "id": "6169b7e2",
   "metadata": {},
   "source": [
    "# PURELY SYMBOLIC:"
   ]
  },
  {
   "cell_type": "code",
   "execution_count": 13,
   "id": "8fb9eac4",
   "metadata": {},
   "outputs": [
    {
     "ename": "NameError",
     "evalue": "name 'k_negative_rates' is not defined",
     "output_type": "error",
     "traceback": [
      "\u001b[31m---------------------------------------------------------------------------\u001b[39m",
      "\u001b[31mNameError\u001b[39m                                 Traceback (most recent call last)",
      "\u001b[36mCell\u001b[39m\u001b[36m \u001b[39m\u001b[32mIn[13]\u001b[39m\u001b[32m, line 32\u001b[39m\n\u001b[32m     29\u001b[39m Kp = sp.diag(*kplus, \u001b[32m0\u001b[39m)\n\u001b[32m     30\u001b[39m \u001b[38;5;66;03m# Kp = sp.diag(*[sp.Float(i) for i in k_positive_rates], sp.Float(0))\u001b[39;00m\n\u001b[32m---> \u001b[39m\u001b[32m32\u001b[39m Km = sp.diag(*[sp.Float(i) \u001b[38;5;28;01mfor\u001b[39;00m i \u001b[38;5;129;01min\u001b[39;00m k_negative_rates]); Km = Km.row_insert(\u001b[38;5;28mlen\u001b[39m(k_negative_rates), sp.zeros(\u001b[32m1\u001b[39m, \u001b[38;5;28mlen\u001b[39m(k_negative_rates)))\n\u001b[32m     33\u001b[39m \u001b[38;5;66;03m# Km_small = sp.diag(*[sp.Float(i) for i in k_negative_rates])\u001b[39;00m\n\u001b[32m     34\u001b[39m \u001b[38;5;66;03m# Km = Km_small.row_insert(len(k_negative_rates), sp.zeros(1, len(k_negative_rates)))  # becomes N x (N-1)\u001b[39;00m\n\u001b[32m     36\u001b[39m Pp = sp.diag(*pplus, \u001b[32m0\u001b[39m)\n",
      "\u001b[31mNameError\u001b[39m: name 'k_negative_rates' is not defined"
     ]
    }
   ],
   "source": [
    "prefix=\"\"\n",
    "n = 1\n",
    "N = 2**n\n",
    "a_syms = sp.symbols([f\"{prefix}a_{i}\" for i in range(N)])\n",
    "\n",
    "# gen = all_parameter_generation(n, \"distributive\", \"gamma\", (1, 2), verbose = False)\n",
    "# alpha_matrix = gen.alpha_parameter_generation()\n",
    "# beta_matrix = gen.beta_parameter_generation()\n",
    "# k_positive_rates, k_negative_rates = gen.k_parameter_generation()\n",
    "# p_positive_rates, p_negative_rates = gen.p_parameter_generation()\n",
    "# k_positive_rates = np.ones(N - 1); k_negative_rates = np.ones(N - 1)\n",
    "# p_positive_rates = np.ones(N - 1); p_negative_rates = np.ones(N - 1)\n",
    "\n",
    "# print(k_positive_rates)\n",
    "\n",
    "x_tot_value = 5\n",
    "y_tot_value = 4\n",
    "x_tot = sp.Float(x_tot_value); y_tot = sp.Float(y_tot_value)\n",
    "\n",
    "a = sp.Matrix(N, 1, lambda i,j: a_syms[i])\n",
    "\n",
    "ones_vec = sp.ones(1, N - 1)\n",
    "\n",
    "kplus = sp.symbols([f\"{prefix}k^+_{i}\" for i in range(N - 1)])\n",
    "kminus = sp.symbols([f\"{prefix}k^-_{i}\" for i in range(N - 1)])\n",
    "pplus = sp.symbols([f\"{prefix}p^+_{i}\" for i in range(1, N)])\n",
    "pminus = sp.symbols([f\"{prefix}p^-_{i}\" for i in range(1, N)])\n",
    "\n",
    "Kp = sp.diag(*kplus, 0)\n",
    "# Kp = sp.diag(*[sp.Float(i) for i in k_positive_rates], sp.Float(0))\n",
    "\n",
    "Km = sp.diag(*[sp.Float(i) for i in k_negative_rates]); Km = Km.row_insert(len(k_negative_rates), sp.zeros(1, len(k_negative_rates)))\n",
    "# Km_small = sp.diag(*[sp.Float(i) for i in k_negative_rates])\n",
    "# Km = Km_small.row_insert(len(k_negative_rates), sp.zeros(1, len(k_negative_rates)))  # becomes N x (N-1)\n",
    "\n",
    "Pp = sp.diag(*pplus, 0)\n",
    "# Pp = sp.diag(*[sp.Float(i) for i in p_positive_rates], sp.Float(0))\n",
    "\n",
    "Pm = sp.diag(*[sp.Float(i) for i in p_negative_rates]); Pm = Pm.row_insert(len(p_negative_rates), sp.zeros(1, len(p_negative_rates)))\n",
    "\n",
    "# Pm_small = sp.diag(*[sp.Float(i) for i in p_negative_rates])\n",
    "# Pm = Pm_small.row_insert(len(p_negative_rates), sp.zeros(1, len(p_negative_rates)))  # becomes N x (N-1)\n",
    "\n",
    "valid_X_reactions, valid_Y_reactions = calculate_valid_transitions(n)\n",
    "\n",
    "Alpha_adjusted = np.delete(alpha_matrix, -1, axis = 0)\n",
    "Beta_adjusted  = np.delete(beta_matrix, 0, axis = 0)\n",
    "\n",
    "ones = sp.Matrix([1]*N)\n",
    "Alpha_row_sums = alpha_matrix * ones\n",
    "Beta_row_sums = beta_matrix * ones\n",
    "DAlpha = sp.diag(*[Alpha_row_sums[i, 0] for i in range(N - 1)])\n",
    "DBeta  = sp.diag(*[Beta_row_sums[i, 0] for i in range(N - 1)])\n",
    "U = sp.diag(*[sp.Float(i) for i in k_negative_rates])\n",
    "I = sp.diag(*[sp.Float(i) for i in p_negative_rates])\n",
    "Q = sp.diag(*[sp.Float(i) for i in k_positive_rates]); Q = Q.col_insert(len(k_positive_rates), sp.zeros(len(k_positive_rates), 1))\n",
    "D = sp.diag(*[sp.Float(i) for i in p_positive_rates]); D = D.col_insert(0, sp.zeros(len(p_positive_rates), 1))\n",
    "\n",
    "M = U + DAlpha\n",
    "N = I + DBeta\n",
    "G = Km + Alpha_adjusted.T\n",
    "H = Pm + Beta_adjusted.T\n",
    "M_inv = M.inv(); N_inv = N.inv()\n",
    "\n",
    "L1 = G * M_inv * Q - Kp; L2 = H * N_inv * D - Pp\n",
    "W1 = M_inv * Q; W2 = N_inv * D\n",
    "a_dot = x_tot * L1 * (1 / (1 + (ones_vec * W1 * a)[0])) * a + y_tot * L2 * (1 / (1 + (ones_vec * W2 * a)[0])) * a\n",
    "polynomials = sp.simplify(a_dot * (1 + (ones_vec * W1 * a)[0]) * (1 + (ones_vec * W2 * a)[0]))\n",
    "polynomials\n",
    "# from sympy import solve_triangulated\n",
    "# solve_triangulated(polynomials, *a_syms)\n",
    "\n",
    "# 'lex' or 'grevlex' or 'grlex'\n",
    "groebner_basis = sp.groebner(polynomials, *a_syms, order = 'lex')\n",
    "groebner_basis\n",
    "# roots = sp.solve(groebner_basis, *a_syms, dict = True)\n",
    "# roots"
   ]
  },
  {
   "cell_type": "code",
   "execution_count": null,
   "id": "b43b6a90",
   "metadata": {},
   "outputs": [],
   "source": []
  },
  {
   "cell_type": "code",
   "execution_count": null,
   "id": "75cfb99b",
   "metadata": {},
   "outputs": [],
   "source": []
  },
  {
   "cell_type": "markdown",
   "id": "52c360b3",
   "metadata": {},
   "source": [
    "# Computing adjusted matrices from piece of paper:"
   ]
  },
  {
   "cell_type": "code",
   "execution_count": 49,
   "id": "2c496486",
   "metadata": {},
   "outputs": [
    {
     "name": "stdout",
     "output_type": "stream",
     "text": [
      "\\left[\\begin{matrix}- 3.74396629410017 \\cdot 10^{-8} a_{0} a_{1} - 537908.899566539 a_{0} a_{2} - 0.0180307190808977 a_{0} a_{3} - 1.85870638621337 a_{0} + 0.000709364858480732 a_{1}^{2} + 477494945.534052 a_{1} a_{2} + 5.22162751607615 \\cdot 10^{-5} a_{1} + 1159059.6883588 a_{2}^{2} + 35148354.4269144 a_{2}\\\\1.79780687392642 \\cdot 10^{-8} a_{0} a_{1} + 258384.175772569 a_{0} a_{2} + 0.0117829432616234 a_{0} a_{3} + 0.892815891003205 a_{0} - 0.178169000015274 a_{1}^{2} - 2548901571630.81 a_{1} a_{2} + 113090.090381785 a_{1} a_{3} - 8807427.23877798 a_{1} + 481.902405316337 a_{2} a_{3} + 14613.6361322557 a_{3}\\\\1.94615942017375 \\cdot 10^{-8} a_{0} a_{1} + 279524.72379397 a_{0} a_{2} + 0.00937050958870477 a_{0} a_{3} + 0.965890495210165 a_{0} - 477494945.53405 a_{1} a_{2} + 45.3590775712292 a_{1} a_{3} - 1334163.46857194 a_{2}^{2} + 0.104234127502367 a_{2} a_{3} - 35148355.0319648 a_{2} + 3.33887709150165 a_{3}\\\\- 0.00312273376943049 a_{0} a_{3} + 0.177459635156793 a_{1}^{2} + 2548901571630.81 a_{1} a_{2} - 113135.449459356 a_{1} a_{3} + 8807427.23872577 a_{1} + 175103.780212806 a_{2}^{2} - 482.006639443839 a_{2} a_{3} + 0.605050356049409 a_{2} - 14616.9750093472 a_{3}\\end{matrix}\\right]\n",
      "[{a_0: 0.0, a_1: 0.0, a_2: 0.0, a_3: 0.0}]\n",
      "\\left[\\begin{matrix}- 42205321721.1094 a_{0} a_{1} - 7155.52011201666 a_{0} a_{2} - 617259836771.771 a_{0} a_{3} - 1267642945598.27 a_{0} + 0.339526542245128 a_{1}^{2} + 67791.9551308653 a_{1} a_{2} + 286729.366294575 a_{1} + 7292.71319597984 a_{2}^{2} + 30844.9012248012 a_{2}\\\\143710.376509751 a_{0} a_{1} + 0.0248352592646813 a_{0} a_{2} + 2128768.6832162 a_{0} a_{3} + 4342625.51225577 a_{0} - 54.796876822659 a_{1}^{2} - 67791.9186156707 a_{1} a_{2} - 790.937289390997 a_{1} a_{3} - 288365.000657134 a_{1} + 1100256.20320605 a_{2} a_{3} + 4653589.54861596 a_{3}\\\\42205178010.7329 a_{0} a_{1} + 7155.4952767574 a_{0} a_{2} + 617257990128.98 a_{0} a_{3} + 1267638602972.75 a_{0} - 240909833.998322 a_{1} a_{2} + 104.03421879935 a_{1} a_{3} - 7334.09415646437 a_{2}^{2} - 3502574142.6626 a_{2} a_{3} - 7235792421.07727 a_{2} + 87856653.0676498 a_{3}\\\\- 282125.892666976 a_{0} a_{3} + 54.4573502795477 a_{1}^{2} + 240909833.961807 a_{1} a_{2} + 686.903070578978 a_{1} a_{3} + 1635.63436250425 a_{1} + 41.3809604845261 a_{2}^{2} + 3501473886.4594 a_{2} a_{3} + 7235761576.17604 a_{2} - 92510242.6162658 a_{3}\\end{matrix}\\right]\n",
      "[{a_0: 0.0, a_1: 0.0, a_2: 0.0, a_3: 0.0}]\n",
      "\\left[\\begin{matrix}1397467.72552037 a_{0} a_{1} + 6659.63750061646 a_{0} a_{2} - 10773.7410232834 a_{0} a_{3} - 325215.726600665 a_{0} + 0.188863349229376 a_{1}^{2} + 0.132033981299529 a_{1} a_{2} + 21300.5100756575 a_{1} + 0.000172160143773789 a_{2}^{2} + 27.8258981994287 a_{2}\\\\- 3977101.42434219 a_{0} a_{1} + 25.1929719439467 a_{0} a_{2} + 6437.54456798434 a_{0} a_{3} + 102200.865875862 a_{0} - 0.193044196606419 a_{1}^{2} - 0.131787348965792 a_{1} a_{2} + 9.97435010080963 \\cdot 10^{-5} a_{1} a_{3} - 21300.5104371008 a_{1} + 7.79554539859033 \\cdot 10^{-5} a_{2} a_{3} + 12.5997834292715 a_{3}\\\\2579633.69882181 a_{0} a_{1} - 6684.83047256041 a_{0} a_{2} + 7394.41680584519 a_{0} a_{3} + 223014.860724803 a_{0} - 1620.60697902022 a_{1} a_{2} + 2.33708256563484 \\cdot 10^{-7} a_{1} a_{3} - 0.0347086525960727 a_{2}^{2} - 4.64139337828029 a_{2} a_{3} - 167.930822731296 a_{2} + 0.0263582378158978 a_{3}\\\\- 3058.2203505461 a_{0} a_{3} + 0.00418084737704278 a_{1}^{2} + 1620.60673238788 a_{1} a_{2} - 9.99772092646597 \\cdot 10^{-5} a_{1} a_{3} + 0.000361443214177541 a_{1} + 0.034536492452299 a_{2}^{2} + 4.64131542282631 a_{2} a_{3} + 140.104924531868 a_{2} - 12.6261416670874 a_{3}\\end{matrix}\\right]\n",
      "[{a_0: 0.0, a_1: 0.0, a_2: 0.0, a_3: 0.0}]\n",
      "\\left[\\begin{matrix}- 0.326751957790478 a_{0} a_{1} - 109.935878329197 a_{0} a_{2} - 1.07987560261157 a_{0} a_{3} - 3513479.0348086 a_{0} + 2.49222159648852 \\cdot 10^{-11} a_{1}^{2} + 9.83297606876485 \\cdot 10^{-7} a_{1} a_{2} + 0.00117264294527974 a_{1} + 0.00908571399732032 a_{2}^{2} + 28.9497958695428 a_{2}\\\\0.00423680537256674 a_{0} a_{1} + 1.61472645450832 a_{0} a_{2} + 0.0150752044603161 a_{0} a_{3} + 48539.7959217899 a_{0} - 1.44767774326627 \\cdot 10^{-7} a_{1}^{2} - 5.209816510158 \\cdot 10^{-5} a_{1} a_{2} - 4.77932315608441 \\cdot 10^{-7} a_{1} a_{3} - 1.55621644186966 a_{1} + 2.04635865164694 \\cdot 10^{-7} a_{2} a_{3} + 0.00065203092743756 a_{3}\\\\0.32251515241791 a_{0} a_{1} + 108.321151874689 a_{0} a_{2} + 638.859862588665 a_{0} a_{3} + 3464939.23888681 a_{0} - 7.06505091556803 \\cdot 10^{-7} a_{1} a_{2} + 5.65146132162301 \\cdot 10^{-5} a_{1} a_{3} - 0.00911832049892106 a_{2}^{2} + 0.834551801559424 a_{2} a_{3} - 29.9299698977844 a_{2} + 2659.13202046721 a_{3}\\\\- 637.795062190514 a_{0} a_{3} + 1.44742852110662 \\cdot 10^{-7} a_{1}^{2} + 5.18213725862586 \\cdot 10^{-5} a_{1} a_{2} - 5.60366809006216 \\cdot 10^{-5} a_{1} a_{3} + 1.55504379892438 a_{1} + 3.26065016007497 \\cdot 10^{-5} a_{2}^{2} - 0.834552006195289 a_{2} a_{3} + 0.98017402824173 a_{2} - 2659.13267249813 a_{3}\\end{matrix}\\right]\n",
      "[{a_0: 0.0, a_1: 0.0, a_2: 0.0, a_3: 0.0}]\n",
      "\\left[\\begin{matrix}0.133285529211473 a_{0} a_{1} - 6.59018862486238 a_{0} a_{2} - 0.0286867692594495 a_{0} a_{3} - 69.6351656644195 a_{0} + 1.33582564340405 a_{1}^{2} + 0.713892663201086 a_{1} a_{2} + 3442.00030436915 a_{1} + 0.000551727880709336 a_{2}^{2} + 2.66398841518919 a_{2}\\\\- 0.133285543266852 a_{0} a_{1} + 6.59026608616557 a_{0} a_{2} + 0.0287053308735602 a_{0} a_{3} + 69.6348673130636 a_{0} - 1.33582574034042 a_{1}^{2} - 0.713053517612434 a_{1} a_{2} + 0.000181915645076759 a_{1} a_{3} - 3442.00236202237 a_{1} + 9.75310156283575 \\cdot 10^{-5} a_{2} a_{3} + 0.470923266414482 a_{3}\\\\1.40553791715787 \\cdot 10^{-8} a_{0} a_{1} - 7.74613031949819 \\cdot 10^{-5} a_{0} a_{2} + 8.65309221496394 \\cdot 10^{-6} a_{0} a_{3} + 0.000298351355899498 a_{0} - 0.0920730093356484 a_{1} a_{2} + 8.34382941277709 \\cdot 10^{-5} a_{1} a_{3} - 182.890455245607 a_{2}^{2} - 0.796053523931682 a_{2} a_{3} - 1935.13742694456 a_{2} + 0.21499410136489 a_{3}\\\\- 2.72147063256777 \\cdot 10^{-5} a_{0} a_{3} + 9.69363656978422 \\cdot 10^{-8} a_{1}^{2} + 0.0912338637469962 a_{1} a_{2} - 0.00026535393920453 a_{1} a_{3} + 0.00205765321510515 a_{1} + 182.889903517727 a_{2}^{2} + 0.795955992916053 a_{2} a_{3} + 1932.47343852937 a_{2} - 0.685917367779374 a_{3}\\end{matrix}\\right]\n",
      "[{a_0: 0.0, a_1: 0.0, a_2: 0.0, a_3: 0.0}]\n",
      "\\left[\\begin{matrix}- 2294.40007719731 a_{0} a_{1} - 502418863.58803 a_{0} a_{2} - 226958954.731372 a_{0} a_{3} - 101270055.590243 a_{0} + 0.417013237363881 a_{1}^{2} + 2529367103.39661 a_{1} a_{2} + 36.9888072314579 a_{1} + 442526002111576.0 a_{2}^{2} + 224346771496.68 a_{2}\\\\2294.39326992205 a_{0} a_{1} + 535515597.881537 a_{0} a_{2} + 232898468.530714 a_{0} a_{3} + 101269755.131961 a_{0} - 442.804729780094 a_{1}^{2} - 103326819.697695 a_{1} a_{2} + 410174506.474661 a_{1} a_{3} - 19526065.8352173 a_{1} + 79420557592032.4 a_{2} a_{3} + 40263725975.9171 a_{3}\\\\0.00680727526182006 a_{0} a_{1} - 33096734.2935087 a_{0} a_{2} + 20610125.2321713 a_{0} a_{3} + 300.458281632495 a_{0} - 2529428877.16694 a_{1} a_{2} + 1574924678.25935 a_{1} a_{3} - 442557449321264.0 a_{2}^{2} + 275535929178682.0 a_{2} a_{3} - 230293659388.141 a_{2} + 139694810880.473 a_{3}\\\\- 26549639.0315144 a_{0} a_{3} + 442.38771654273 a_{1}^{2} + 103388593.468027 a_{1} a_{2} - 1985099184.73401 a_{1} a_{3} + 19526028.8464101 a_{1} + 31447209688.4262 a_{2}^{2} - 354956486770715.0 a_{2} a_{3} + 5946887891.46126 a_{2} - 179958536856.39 a_{3}\\end{matrix}\\right]\n",
      "[{a_0: 0.0, a_1: 0.0, a_2: 0.0, a_3: 0.0}]\n",
      "\\left[\\begin{matrix}- 8329940.2606649 a_{0} a_{1} + 101.937425132014 a_{0} a_{2} - 608.058276628869 a_{0} a_{3} - 371111227.895213 a_{0} + 48.3106488482848 a_{1}^{2} + 1713.72104235325 a_{1} a_{2} + 42096.6788145794 a_{1} + 2943.3572270381 a_{2}^{2} + 1417103.90174979 a_{2}\\\\73975.7534012659 a_{0} a_{1} + 7.91270695155323 a_{0} a_{2} + 5.41617877952769 a_{0} a_{3} + 3297031.80842206 a_{0} - 1220.44574238134 a_{1}^{2} - 87.5610908046716 a_{1} a_{2} - 0.0625277401751662 a_{1} a_{3} - 94316.8557246995 a_{1} + 0.0416883794483279 a_{2} a_{3} + 20.0712182099963 a_{3}\\\\8255964.50726364 a_{0} a_{1} - 109.850132083567 a_{0} a_{2} + 721.818849849304 a_{0} a_{3} + 367814196.086791 a_{0} - 1650.61187291766 a_{1} a_{2} + 195.240180220091 a_{1} a_{3} - 2943.35982805965 a_{2}^{2} + 353.356643879751 a_{2} a_{3} - 1418187.6839301 a_{2} + 170127.360206581 a_{3}\\\\- 119.176751999963 a_{0} a_{3} + 1172.13509353306 a_{1}^{2} + 24.4519213690834 a_{1} a_{2} - 195.177652479918 a_{1} a_{3} + 52220.1769101199 a_{1} + 0.00260102155222428 a_{2}^{2} - 353.398332259203 a_{2} a_{3} + 1083.78218030574 a_{2} - 170147.431424792 a_{3}\\end{matrix}\\right]\n",
      "[{a_0: 0.0, a_1: 0.0, a_2: 0.0, a_3: 0.0}]\n",
      "\\left[\\begin{matrix}- 46022309178228.8 a_{0} a_{1} - 5943515012792.76 a_{0} a_{2} - 74944437948.1318 a_{0} a_{3} - 11948245244.2205 a_{0} + 84919.4012736268 a_{1}^{2} + 560301.340184901 a_{1} a_{2} + 61152479195.5281 a_{1} + 190.986542700721 a_{2}^{2} + 20845754.1916991 a_{2}\\\\45197326895904.4 a_{0} a_{1} + 5836973368483.85 a_{0} a_{2} + 73634463685.1872 a_{0} a_{3} + 11734064618.683 a_{0} - 275887012890.386 a_{1}^{2} - 35629747937.9537 a_{1} a_{2} - 449098223.864228 a_{1} a_{3} - 61224104533.522 a_{1} + 1096085.91286439 a_{2} a_{3} + 119635327125.427 a_{3}\\\\824982282324.359 a_{0} a_{1} + 106541644308.907 a_{0} a_{2} + 1343718924.0871 a_{0} a_{3} + 214180625.537472 a_{0} - 6783359.54043314 a_{1} a_{2} + 1428.22056570675 a_{1} a_{3} - 876218.569553041 a_{2}^{2} - 1623.25833646239 a_{2} a_{3} - 20847515.2695071 a_{2} + 1028495574.87556 a_{3}\\\\- 33744661.1425578 a_{0} a_{3} + 275886927970.984 a_{1}^{2} + 35635970996.1539 a_{1} a_{2} + 449096795.643663 a_{1} a_{3} + 71625337.9938705 a_{1} + 876027.583010749 a_{2}^{2} - 1094462.65452792 a_{2} a_{3} + 1761.07780828661 a_{2} - 120663822700.303 a_{3}\\end{matrix}\\right]\n"
     ]
    },
    {
     "ename": "KeyboardInterrupt",
     "evalue": "",
     "output_type": "error",
     "traceback": [
      "\u001b[31m---------------------------------------------------------------------------\u001b[39m",
      "\u001b[31mKeyboardInterrupt\u001b[39m                         Traceback (most recent call last)",
      "\u001b[36mCell\u001b[39m\u001b[36m \u001b[39m\u001b[32mIn[49]\u001b[39m\u001b[32m, line 202\u001b[39m\n\u001b[32m    199\u001b[39m     filename = \u001b[33mf\u001b[39m\u001b[33m\"\u001b[39m\u001b[33mtest_\u001b[39m\u001b[38;5;132;01m{\u001b[39;00msimulation_size\u001b[38;5;132;01m}\u001b[39;00m\u001b[33m.csv\u001b[39m\u001b[33m\"\u001b[39m\n\u001b[32m    200\u001b[39m     np.savetxt(filename, final_array, delimiter=\u001b[33m\"\u001b[39m\u001b[33m,\u001b[39m\u001b[33m\"\u001b[39m, header=header_string, comments=\u001b[33m'\u001b[39m\u001b[33m'\u001b[39m)\n\u001b[32m--> \u001b[39m\u001b[32m202\u001b[39m \u001b[43msimulation\u001b[49m\u001b[43m(\u001b[49m\u001b[32;43m10\u001b[39;49m\u001b[43m)\u001b[49m\n\u001b[32m    204\u001b[39m \u001b[38;5;66;03m# n = 2\u001b[39;00m\n\u001b[32m    205\u001b[39m \u001b[38;5;66;03m# gen = all_parameter_generation(n, \"distributive\", \"gamma\", (1, 2), verbose = False)\u001b[39;00m\n\u001b[32m    206\u001b[39m \u001b[38;5;66;03m# alpha_matrix = gen.alpha_parameter_generation()\u001b[39;00m\n\u001b[32m   (...)\u001b[39m\u001b[32m    210\u001b[39m \u001b[38;5;66;03m# p_positive_rates, p_negative_rates = gen.p_parameter_generation()\u001b[39;00m\n\u001b[32m    211\u001b[39m \u001b[38;5;66;03m# polynomial_finder(n, a_tot_value, x_tot_value, y_tot_value, alpha_matrix, beta_matrix, k_positive_rates, k_negative_rates, p_positive_rates, p_negative_rates)\u001b[39;00m\n",
      "\u001b[36mCell\u001b[39m\u001b[36m \u001b[39m\u001b[32mIn[49]\u001b[39m\u001b[32m, line 180\u001b[39m, in \u001b[36msimulation\u001b[39m\u001b[34m(simulation_size)\u001b[39m\n\u001b[32m    177\u001b[39m p_positive_rates = p_positive_parameter_array[i]\n\u001b[32m    178\u001b[39m p_negative_rates = p_negative_parameter_array[i]\n\u001b[32m--> \u001b[39m\u001b[32m180\u001b[39m stable_fp_array = \u001b[43mstable_fp_checker\u001b[49m\u001b[43m(\u001b[49m\u001b[43ma_tot_value\u001b[49m\u001b[43m,\u001b[49m\u001b[43m \u001b[49m\u001b[43mx_tot_value\u001b[49m\u001b[43m,\u001b[49m\u001b[43m \u001b[49m\u001b[43my_tot_value\u001b[49m\u001b[43m,\u001b[49m\u001b[43m \u001b[49m\u001b[43malpha_matrix\u001b[49m\u001b[43m,\u001b[49m\u001b[43m \u001b[49m\u001b[43mbeta_matrix\u001b[49m\u001b[43m,\u001b[49m\u001b[43m \u001b[49m\u001b[43mk_positive_rates\u001b[49m\u001b[43m,\u001b[49m\u001b[43m \u001b[49m\u001b[43mk_negative_rates\u001b[49m\u001b[43m,\u001b[49m\u001b[43m \u001b[49m\u001b[43mp_positive_rates\u001b[49m\u001b[43m,\u001b[49m\u001b[43m \u001b[49m\u001b[43mp_negative_rates\u001b[49m\u001b[43m)\u001b[49m\n\u001b[32m    182\u001b[39m \u001b[38;5;66;03m# Flatten stable_fp_array to 1D if it is not empty, else fill with NaNs\u001b[39;00m\n\u001b[32m    183\u001b[39m \u001b[38;5;28;01mif\u001b[39;00m \u001b[38;5;28mlen\u001b[39m(stable_fp_array) > \u001b[32m0\u001b[39m:\n",
      "\u001b[36mCell\u001b[39m\u001b[36m \u001b[39m\u001b[32mIn[49]\u001b[39m\u001b[32m, line 89\u001b[39m, in \u001b[36mstable_fp_checker\u001b[39m\u001b[34m(a_tot_value, x_tot_value, y_tot_value, alpha_matrix, beta_matrix, k_positive_rates, k_negative_rates, p_positive_rates, p_negative_rates)\u001b[39m\n\u001b[32m     86\u001b[39m \u001b[38;5;28mprint\u001b[39m(sp.latex(polynomials))\n\u001b[32m     87\u001b[39m \u001b[38;5;66;03m# roots = sp.solve_triangulated(sp.expand(polynomials), *a_syms)\u001b[39;00m\n\u001b[32m---> \u001b[39m\u001b[32m89\u001b[39m groebner_basis = \u001b[43msp\u001b[49m\u001b[43m.\u001b[49m\u001b[43mgroebner\u001b[49m\u001b[43m(\u001b[49m\u001b[43msp\u001b[49m\u001b[43m.\u001b[49m\u001b[43mexpand\u001b[49m\u001b[43m(\u001b[49m\u001b[43mpolynomials\u001b[49m\u001b[43m)\u001b[49m\u001b[43m,\u001b[49m\u001b[43m \u001b[49m\u001b[43m*\u001b[49m\u001b[43ma_syms\u001b[49m\u001b[43m,\u001b[49m\u001b[43m \u001b[49m\u001b[43morder\u001b[49m\u001b[43m \u001b[49m\u001b[43m=\u001b[49m\u001b[43m \u001b[49m\u001b[33;43m'\u001b[39;49m\u001b[33;43mgrevlex\u001b[39;49m\u001b[33;43m'\u001b[39;49m\u001b[43m)\u001b[49m\n\u001b[32m     90\u001b[39m roots = sp.solve(groebner_basis, *a_syms, \u001b[38;5;28mdict\u001b[39m = \u001b[38;5;28;01mTrue\u001b[39;00m)\n\u001b[32m     91\u001b[39m \u001b[38;5;28mprint\u001b[39m(roots)\n",
      "\u001b[36mFile \u001b[39m\u001b[32m~/research/initial_code/.venv/lib/python3.13/site-packages/sympy/polys/polytools.py:7535\u001b[39m, in \u001b[36mgroebner\u001b[39m\u001b[34m(F, *gens, **args)\u001b[39m\n\u001b[32m   7484\u001b[39m \u001b[38;5;129m@public\u001b[39m\n\u001b[32m   7485\u001b[39m \u001b[38;5;28;01mdef\u001b[39;00m\u001b[38;5;250m \u001b[39m\u001b[34mgroebner\u001b[39m(F, *gens, **args):\n\u001b[32m   7486\u001b[39m \u001b[38;5;250m    \u001b[39m\u001b[33;03m\"\"\"\u001b[39;00m\n\u001b[32m   7487\u001b[39m \u001b[33;03m    Computes the reduced Groebner basis for a set of polynomials.\u001b[39;00m\n\u001b[32m   7488\u001b[39m \n\u001b[32m   (...)\u001b[39m\u001b[32m   7533\u001b[39m \n\u001b[32m   7534\u001b[39m \u001b[33;03m    \"\"\"\u001b[39;00m\n\u001b[32m-> \u001b[39m\u001b[32m7535\u001b[39m     \u001b[38;5;28;01mreturn\u001b[39;00m \u001b[43mGroebnerBasis\u001b[49m\u001b[43m(\u001b[49m\u001b[43mF\u001b[49m\u001b[43m,\u001b[49m\u001b[43m \u001b[49m\u001b[43m*\u001b[49m\u001b[43mgens\u001b[49m\u001b[43m,\u001b[49m\u001b[43m \u001b[49m\u001b[43m*\u001b[49m\u001b[43m*\u001b[49m\u001b[43margs\u001b[49m\u001b[43m)\u001b[49m\n",
      "\u001b[36mFile \u001b[39m\u001b[32m~/research/initial_code/.venv/lib/python3.13/site-packages/sympy/polys/polytools.py:7574\u001b[39m, in \u001b[36mGroebnerBasis.__new__\u001b[39m\u001b[34m(cls, F, *gens, **args)\u001b[39m\n\u001b[32m   7570\u001b[39m ring = PolyRing(opt.gens, opt.domain, opt.order)\n\u001b[32m   7572\u001b[39m polys = [ring.from_dict(poly.rep.to_dict()) \u001b[38;5;28;01mfor\u001b[39;00m poly \u001b[38;5;129;01min\u001b[39;00m polys \u001b[38;5;28;01mif\u001b[39;00m poly]\n\u001b[32m-> \u001b[39m\u001b[32m7574\u001b[39m G = \u001b[43m_groebner\u001b[49m\u001b[43m(\u001b[49m\u001b[43mpolys\u001b[49m\u001b[43m,\u001b[49m\u001b[43m \u001b[49m\u001b[43mring\u001b[49m\u001b[43m,\u001b[49m\u001b[43m \u001b[49m\u001b[43mmethod\u001b[49m\u001b[43m=\u001b[49m\u001b[43mopt\u001b[49m\u001b[43m.\u001b[49m\u001b[43mmethod\u001b[49m\u001b[43m)\u001b[49m\n\u001b[32m   7575\u001b[39m G = [Poly._from_dict(g, opt) \u001b[38;5;28;01mfor\u001b[39;00m g \u001b[38;5;129;01min\u001b[39;00m G]\n\u001b[32m   7577\u001b[39m \u001b[38;5;28;01mreturn\u001b[39;00m \u001b[38;5;28mcls\u001b[39m._new(G, opt)\n",
      "\u001b[36mFile \u001b[39m\u001b[32m~/research/initial_code/.venv/lib/python3.13/site-packages/sympy/polys/groebnertools.py:43\u001b[39m, in \u001b[36mgroebner\u001b[39m\u001b[34m(seq, ring, method)\u001b[39m\n\u001b[32m     40\u001b[39m     \u001b[38;5;28;01melse\u001b[39;00m:\n\u001b[32m     41\u001b[39m         seq = [ s.set_ring(ring) \u001b[38;5;28;01mfor\u001b[39;00m s \u001b[38;5;129;01min\u001b[39;00m seq ]\n\u001b[32m---> \u001b[39m\u001b[32m43\u001b[39m G = \u001b[43m_groebner\u001b[49m\u001b[43m(\u001b[49m\u001b[43mseq\u001b[49m\u001b[43m,\u001b[49m\u001b[43m \u001b[49m\u001b[43mring\u001b[49m\u001b[43m)\u001b[49m\n\u001b[32m     45\u001b[39m \u001b[38;5;28;01mif\u001b[39;00m orig \u001b[38;5;129;01mis\u001b[39;00m \u001b[38;5;129;01mnot\u001b[39;00m \u001b[38;5;28;01mNone\u001b[39;00m:\n\u001b[32m     46\u001b[39m     G = [ g.clear_denoms()[\u001b[32m1\u001b[39m].set_ring(orig) \u001b[38;5;28;01mfor\u001b[39;00m g \u001b[38;5;129;01min\u001b[39;00m G ]\n",
      "\u001b[36mFile \u001b[39m\u001b[32m~/research/initial_code/.venv/lib/python3.13/site-packages/sympy/polys/groebnertools.py:201\u001b[39m, in \u001b[36m_buchberger\u001b[39m\u001b[34m(f, ring)\u001b[39m\n\u001b[32m    199\u001b[39m \u001b[38;5;28;01mfor\u001b[39;00m i \u001b[38;5;129;01min\u001b[39;00m \u001b[38;5;28mrange\u001b[39m(\u001b[38;5;28mlen\u001b[39m(f)):\n\u001b[32m    200\u001b[39m     p = f[i]\n\u001b[32m--> \u001b[39m\u001b[32m201\u001b[39m     r = \u001b[43mp\u001b[49m\u001b[43m.\u001b[49m\u001b[43mrem\u001b[49m\u001b[43m(\u001b[49m\u001b[43mf\u001b[49m\u001b[43m[\u001b[49m\u001b[43m:\u001b[49m\u001b[43mi\u001b[49m\u001b[43m]\u001b[49m\u001b[43m)\u001b[49m\n\u001b[32m    203\u001b[39m     \u001b[38;5;28;01mif\u001b[39;00m r:\n\u001b[32m    204\u001b[39m         f1.append(r.monic())\n",
      "\u001b[36mFile \u001b[39m\u001b[32m~/research/initial_code/.venv/lib/python3.13/site-packages/sympy/polys/rings.py:1588\u001b[39m, in \u001b[36mPolyElement.rem\u001b[39m\u001b[34m(self, G)\u001b[39m\n\u001b[32m   1586\u001b[39m \u001b[38;5;28;01mwhile\u001b[39;00m f:\n\u001b[32m   1587\u001b[39m     \u001b[38;5;28;01mfor\u001b[39;00m g \u001b[38;5;129;01min\u001b[39;00m G:\n\u001b[32m-> \u001b[39m\u001b[32m1588\u001b[39m         tq = term_div(ltf, \u001b[43mg\u001b[49m\u001b[43m.\u001b[49m\u001b[43mLT\u001b[49m)\n\u001b[32m   1589\u001b[39m         \u001b[38;5;28;01mif\u001b[39;00m tq \u001b[38;5;129;01mis\u001b[39;00m \u001b[38;5;129;01mnot\u001b[39;00m \u001b[38;5;28;01mNone\u001b[39;00m:\n\u001b[32m   1590\u001b[39m             m, c = tq\n",
      "\u001b[36mFile \u001b[39m\u001b[32m~/research/initial_code/.venv/lib/python3.13/site-packages/sympy/polys/rings.py:1863\u001b[39m, in \u001b[36mPolyElement.LT\u001b[39m\u001b[34m(self)\u001b[39m\n\u001b[32m   1861\u001b[39m \u001b[38;5;129m@property\u001b[39m\n\u001b[32m   1862\u001b[39m \u001b[38;5;28;01mdef\u001b[39;00m\u001b[38;5;250m \u001b[39m\u001b[34mLT\u001b[39m(\u001b[38;5;28mself\u001b[39m):\n\u001b[32m-> \u001b[39m\u001b[32m1863\u001b[39m     expv = \u001b[38;5;28;43mself\u001b[39;49m\u001b[43m.\u001b[49m\u001b[43mleading_expv\u001b[49m\u001b[43m(\u001b[49m\u001b[43m)\u001b[49m\n\u001b[32m   1864\u001b[39m     \u001b[38;5;28;01mif\u001b[39;00m expv \u001b[38;5;129;01mis\u001b[39;00m \u001b[38;5;28;01mNone\u001b[39;00m:\n\u001b[32m   1865\u001b[39m         \u001b[38;5;28;01mreturn\u001b[39;00m (\u001b[38;5;28mself\u001b[39m.ring.zero_monom, \u001b[38;5;28mself\u001b[39m.ring.domain.zero)\n",
      "\u001b[36mFile \u001b[39m\u001b[32m~/research/initial_code/.venv/lib/python3.13/site-packages/sympy/polys/rings.py:1780\u001b[39m, in \u001b[36mPolyElement.leading_expv\u001b[39m\u001b[34m(self)\u001b[39m\n\u001b[32m   1765\u001b[39m \u001b[38;5;250m\u001b[39m\u001b[33;03m\"\"\"Leading monomial tuple according to the monomial ordering.\u001b[39;00m\n\u001b[32m   1766\u001b[39m \n\u001b[32m   1767\u001b[39m \u001b[33;03mExamples\u001b[39;00m\n\u001b[32m   (...)\u001b[39m\u001b[32m   1777\u001b[39m \n\u001b[32m   1778\u001b[39m \u001b[33;03m\"\"\"\u001b[39;00m\n\u001b[32m   1779\u001b[39m \u001b[38;5;28;01mif\u001b[39;00m \u001b[38;5;28mself\u001b[39m:\n\u001b[32m-> \u001b[39m\u001b[32m1780\u001b[39m     \u001b[38;5;28;01mreturn\u001b[39;00m \u001b[38;5;28;43mself\u001b[39;49m\u001b[43m.\u001b[49m\u001b[43mring\u001b[49m\u001b[43m.\u001b[49m\u001b[43mleading_expv\u001b[49m\u001b[43m(\u001b[49m\u001b[38;5;28;43mself\u001b[39;49m\u001b[43m)\u001b[49m\n\u001b[32m   1781\u001b[39m \u001b[38;5;28;01melse\u001b[39;00m:\n\u001b[32m   1782\u001b[39m     \u001b[38;5;28;01mreturn\u001b[39;00m \u001b[38;5;28;01mNone\u001b[39;00m\n",
      "\u001b[36mFile \u001b[39m\u001b[32m~/research/initial_code/.venv/lib/python3.13/site-packages/sympy/polys/rings.py:256\u001b[39m, in \u001b[36mPolyRing.__new__.<locals>.<lambda>\u001b[39m\u001b[34m(f)\u001b[39m\n\u001b[32m    254\u001b[39m     obj.leading_expv = \u001b[38;5;28mmax\u001b[39m\n\u001b[32m    255\u001b[39m \u001b[38;5;28;01melse\u001b[39;00m:\n\u001b[32m--> \u001b[39m\u001b[32m256\u001b[39m     obj.leading_expv = \u001b[38;5;28;01mlambda\u001b[39;00m f: \u001b[38;5;28;43mmax\u001b[39;49m\u001b[43m(\u001b[49m\u001b[43mf\u001b[49m\u001b[43m,\u001b[49m\u001b[43m \u001b[49m\u001b[43mkey\u001b[49m\u001b[43m=\u001b[49m\u001b[43morder\u001b[49m\u001b[43m)\u001b[49m\n\u001b[32m    258\u001b[39m \u001b[38;5;28;01mfor\u001b[39;00m symbol, generator \u001b[38;5;129;01min\u001b[39;00m \u001b[38;5;28mzip\u001b[39m(obj.symbols, obj.gens):\n\u001b[32m    259\u001b[39m     \u001b[38;5;28;01mif\u001b[39;00m \u001b[38;5;28misinstance\u001b[39m(symbol, Symbol):\n",
      "\u001b[36mFile \u001b[39m\u001b[32m~/research/initial_code/.venv/lib/python3.13/site-packages/sympy/polys/orderings.py:61\u001b[39m, in \u001b[36mReversedGradedLexOrder.__call__\u001b[39m\u001b[34m(self, monomial)\u001b[39m\n\u001b[32m     60\u001b[39m \u001b[38;5;28;01mdef\u001b[39;00m\u001b[38;5;250m \u001b[39m\u001b[34m__call__\u001b[39m(\u001b[38;5;28mself\u001b[39m, monomial):\n\u001b[32m---> \u001b[39m\u001b[32m61\u001b[39m     \u001b[38;5;28;01mreturn\u001b[39;00m (\u001b[38;5;28msum\u001b[39m(monomial), \u001b[38;5;28mtuple\u001b[39m(\u001b[38;5;28mreversed\u001b[39m([-m \u001b[38;5;28;01mfor\u001b[39;00m m \u001b[38;5;129;01min\u001b[39;00m monomial])))\n",
      "\u001b[31mKeyboardInterrupt\u001b[39m: "
     ]
    }
   ],
   "source": [
    "from numpy import linalg as LA\n",
    "import numpy as np\n",
    "\n",
    "def stability_calculator(a_fixed_points, p, L1, L2, W1, W2):\n",
    "    n = len(a_fixed_points)\n",
    "    # computing jacobian\n",
    "    ones_vec = np.ones(2**n - 1)\n",
    "    p = x_tot_value / y_tot_value\n",
    "    denom1 = 1 + (ones_vec * W1 * a_fixed_points)[0]\n",
    "    denom2 = 1 + (ones_vec * W2 * a_fixed_points)[0]\n",
    "    term1 = L1 / denom1 - ((L1 * a_fixed_points * ones_vec * W1) / denom1**2)\n",
    "    term2 = L2 / denom2 - ((L2 * a_fixed_points * ones_vec * W2) / denom2**2)\n",
    "    J = p * term1 - term2\n",
    "\n",
    "    # checking stability\n",
    "    eigenvalues = LA(J)\n",
    "    real_parts = np.real(eigenvalues)\n",
    "    if all(real_parts[i] < 0 for i in real_parts):\n",
    "        return a_fixed_points, True\n",
    "    else: \n",
    "        return a_fixed_points, False\n",
    "\n",
    "def polynomial_finder(n, a_tot_value, x_tot_value, y_tot_value, alpha_matrix, beta_matrix, k_positive_rates, k_negative_rates, p_positive_rates, p_negative_rates):\n",
    "\n",
    "    N = 2**n\n",
    "    \n",
    "    x_tot = sp.Float(x_tot_value); y_tot = sp.Float(y_tot_value); a_tot = sp.Float(a_tot_value)\n",
    "\n",
    "    ones_vec = np.ones(N - 1)\n",
    "\n",
    "    Kp = np.diag(np.append(k_positive_rates, 0))\n",
    "    Km = np.append(np.diag(k_negative_rates), np.zeros((1, len(k_negative_rates))), axis=0)\n",
    "\n",
    "    # Pm = np.vstack([np.zeros((1, len(p_negative_rates))), np.diag(p_negative_rates)])\n",
    "    Pp = np.diag(np.insert(p_positive_rates, 0, 0))\n",
    "    Pm = np.vstack([np.zeros((1, len(p_negative_rates))), np.diag(p_negative_rates)])    # print(\"a\", a)\n",
    "\n",
    "    adjusted_alpha_mat = np.delete(alpha_matrix, -1, axis = 0)\n",
    "    adjusted_beta_mat = np.delete(beta_matrix, 0, axis = 0)\n",
    "\n",
    "    Da = np.diag(alpha_matrix[:-1, 1:] @ ones_vec)\n",
    "    Db = np.diag(beta_matrix[1:, :-1] @ ones_vec)\n",
    "\n",
    "    U = np.diag(k_negative_rates)\n",
    "    I = np.diag(p_negative_rates)\n",
    "    Q = Kp[:-1, :]\n",
    "    D = np.delete(Pp, 0, axis=0)\n",
    "\n",
    "    M = U + Da\n",
    "    N = I + Db\n",
    "    G = Km + adjusted_alpha_mat.T\n",
    "    H = Pm + adjusted_beta_mat.T\n",
    "    M_inv = np.linalg.inv(M); N_inv = np.linalg.inv(N)\n",
    "\n",
    "    L1 = G @ M_inv @ Q - Kp; L2 = H @ N_inv @ D - Pp\n",
    "    W1 = M_inv @ Q; W2 = N_inv @ D\n",
    "\n",
    "    ####### RESCALING #######\n",
    "    k_neg_0 = k_negative_rates[0]\n",
    "    # t --> t * k0 * y_tot / a_tot\n",
    "    L1 = L1 * k_neg_0 / a_tot; L2 = L2 * k_neg_0 / a_tot\n",
    "    W1 = W1 / a_tot; W2 = W2 / a_tot\n",
    "    \n",
    "    #######\n",
    "    # p = x_tot / y_tot\n",
    "    \n",
    "    # a_dot = x_tot * L1 * (1 / (1 + (ones_vec * W1 * a)[0])) * a + y_tot * L2 * (1 / (1 + (ones_vec * W2 * a)[0])) * a\n",
    "\n",
    "    return L1, L2, W1, W2\n",
    "\n",
    "def stable_fp_checker(a_tot_value, x_tot_value, y_tot_value, alpha_matrix, beta_matrix, k_positive_rates, k_negative_rates, p_positive_rates, p_negative_rates):\n",
    "    \n",
    "    a_syms = sp.symbols([f\"{prefix}a_{i}\" for i in range(N)])\n",
    "\n",
    "    a = sp.Matrix(N, 1, lambda i,j: a_syms[i])\n",
    "\n",
    "    L1, L2, W1, W2 = polynomial_finder(2, a_tot_value, x_tot_value, y_tot_value, alpha_matrix, beta_matrix, k_positive_rates, k_negative_rates, p_positive_rates, p_negative_rates)\n",
    "    ones_vec_sym = sp.ones(1, N-1)\n",
    "    L1_sym = sp.Matrix(L1); L2_sym = sp.Matrix(L2)\n",
    "    W1_sym = sp.Matrix(W1); W2_sym = sp.Matrix(W2)\n",
    "    x_tot = sp.Float(x_tot_value); y_tot = sp.Float(y_tot_value)\n",
    "    p = x_tot / y_tot\n",
    "    polynomials = sp.expand(p * ((1 + (ones_vec_sym * W2_sym * a)[0])) * L1_sym * a + ((1 + (ones_vec_sym * W1_sym * a)[0])) * L2_sym * a)\n",
    "\n",
    "    polynomials\n",
    "    print(sp.latex(polynomials))\n",
    "    # roots = sp.solve_triangulated(sp.expand(polynomials), *a_syms)\n",
    "    \n",
    "    groebner_basis = sp.groebner(sp.expand(polynomials), *a_syms, order = 'grevlex')\n",
    "    roots = sp.solve(groebner_basis, *a_syms, dict = True)\n",
    "    print(roots)\n",
    "    root_array = np.empty((0, 4), dtype=float) \n",
    "\n",
    "    for i in range(len(roots)):\n",
    "        if len(roots) != 4:\n",
    "            break\n",
    "        # print([roots[i][a_syms[0]], roots[i][a_syms[1]], roots[i][a_syms[2]], roots[i][a_syms[3]]])\n",
    "        # print(roots[i])\n",
    "        # root_array = np.append(root_array, np.array([[roots[i][a_syms[0]], roots[i][a_syms[1]], roots[i][a_syms[2]]]]), axis = 0)\n",
    "\n",
    "        root_array = np.append(root_array, np.array([[roots[i][a_syms[0]], roots[i][a_syms[1]], roots[i][a_syms[2]], roots[i][a_syms[3]]]]), axis = 0)\n",
    "\n",
    "    # print(root_array)\n",
    "    stable_fp_array = []\n",
    "    # conservation_check = lambda root_array: np.sum(root_array)\n",
    "    for i in range(len(root_array)):\n",
    "        if np.all(root_array[i] > 0):\n",
    "            print(\"Positivity confirmed\")\n",
    "            continue\n",
    "        if np.sum(root_array[i]) - 1 <= 1e-5: \n",
    "            print(\"Conservation confirmed\")\n",
    "            continue\n",
    "        if stability_calculator(root_array[i], x_tot_value / y_tot_value, L1, L2, W1, W2):\n",
    "            print(\"Stability confirmed\")\n",
    "            stable_fp_array.append(root_array[i])\n",
    "\n",
    "    return stable_fp_array\n",
    "\n",
    "def log_uniform_sample(a: float, b: float, n: int, base: float = np.e) -> np.ndarray:\n",
    "    \"\"\"\n",
    "    Sample n points uniformly in logarithmic space from range (a, b).\n",
    "\n",
    "    Args:\n",
    "        a (float): Lower bound (must be > 0).\n",
    "        b (float): Upper bound (must be > a).\n",
    "        n (int): Number of samples to draw.\n",
    "        base (float): Logarithmic base (default: natural log).\n",
    "\n",
    "    Returns:\n",
    "        np.ndarray: Array of shape (n,) with log-uniformly sampled values.\n",
    "    \"\"\"\n",
    "    if a <= 0 or b <= 0:\n",
    "        raise ValueError(\"a and b must be positive.\")\n",
    "    if a >= b:\n",
    "        raise ValueError(\"a must be smaller than b.\")\n",
    "\n",
    "    log_a = np.log(a) / np.log(base)\n",
    "    log_b = np.log(b) / np.log(base)\n",
    "    log_samples = np.random.uniform(log_a, log_b, n)\n",
    "    samples = base ** log_samples\n",
    "    return samples\n",
    "\n",
    "def simulation(simulation_size):\n",
    "    a_tot_value = 25\n",
    "    x_tot_value_parameter_array = np.array([log_uniform_sample(1e-4, 1e-1, n=1, base=np.e) for _ in range(simulation_size)])\n",
    "    y_tot_value_parameter_array = np.array([log_uniform_sample(1e-4, 1e-1, n=1, base=np.e) for _ in range(simulation_size)])\n",
    "    alpha_matrix_parameter_array = np.array([log_uniform_sample(1e-1, 1e7, n=4, base=np.e) for _ in range(simulation_size)])\n",
    "    beta_matrix_parameter_array = np.array([log_uniform_sample(1e-1, 1e7, n=4, base=np.e) for _ in range(simulation_size)])\n",
    "    k_positive_parameter_array = np.array([log_uniform_sample(1e-1, 1e7, n=3, base=np.e) for _ in range(simulation_size)])\n",
    "    k_negative_parameter_array = np.array([log_uniform_sample(1e-1, 1e7, n=3, base=np.e) for _ in range(simulation_size)])\n",
    "    p_positive_parameter_array = np.array([log_uniform_sample(1e-1, 1e7, n=3, base=np.e) for _ in range(simulation_size)])\n",
    "    p_negative_parameter_array = np.array([log_uniform_sample(1e-1, 1e7, n=3, base=np.e) for _ in range(simulation_size)])\n",
    "\n",
    "    final_array = np.empty((0, 24), dtype=float) \n",
    "\n",
    "    for i in range(simulation_size):\n",
    "    \n",
    "        x_tot_value = x_tot_value_parameter_array[i][0]\n",
    "        y_tot_value = y_tot_value_parameter_array[i][0]\n",
    "\n",
    "        alpha_matrix = np.array([\n",
    "            [0, alpha_matrix_parameter_array[i][0], alpha_matrix_parameter_array[i][1], 0],\n",
    "            [0, 0, 0, alpha_matrix_parameter_array[i][2]],\n",
    "            [0, 0, 0, alpha_matrix_parameter_array[i][3]],\n",
    "            [0, 0, 0, 0]\n",
    "        ])\n",
    "\n",
    "        beta_matrix = np.array([\n",
    "            [0, 0, 0, 0],\n",
    "            [beta_matrix_parameter_array[i][0], 0, 0, 0],\n",
    "            [beta_matrix_parameter_array[i][1], 0, 0, 0],\n",
    "            [0, beta_matrix_parameter_array[i][2], beta_matrix_parameter_array[i][3], 0]\n",
    "        ])\n",
    "\n",
    "        k_positive_rates = k_positive_parameter_array[i]\n",
    "        k_negative_rates = k_negative_parameter_array[i]\n",
    "        p_positive_rates = p_positive_parameter_array[i]\n",
    "        p_negative_rates = p_negative_parameter_array[i]\n",
    "\n",
    "        stable_fp_array = stable_fp_checker(a_tot_value, x_tot_value, y_tot_value, alpha_matrix, beta_matrix, k_positive_rates, k_negative_rates, p_positive_rates, p_negative_rates)\n",
    "        \n",
    "        # Flatten stable_fp_array to 1D if it is not empty, else fill with NaNs\n",
    "        if len(stable_fp_array) > 0:\n",
    "            stable_fp_flat = np.ravel(stable_fp_array)\n",
    "        else:\n",
    "            stable_fp_flat = np.full(4, np.nan)  # Adjust size if needed\n",
    "\n",
    "        array = np.concatenate([stable_fp_flat, \n",
    "                                np.ravel(alpha_matrix_parameter_array[i]), \n",
    "                                np.ravel(beta_matrix_parameter_array[i]), \n",
    "                                np.ravel(k_positive_parameter_array[i]), \n",
    "                                np.ravel(k_negative_parameter_array[i]), \n",
    "                                np.ravel(p_positive_parameter_array[i]), \n",
    "                                np.ravel(p_negative_parameter_array[i])])\n",
    "        \n",
    "        final_array = np.append(final_array, [array], axis = 0)\n",
    "    \n",
    "    header_string = \"a_0_stable_fp, a_1_stable_fp, a_2_stable_fp, x_tot, y_tot, alpha_matrix_parameters, beta_matrix_parameters, k_+_parameters, k_-_parameters, p_+_parameters, p_-_parameters\"\n",
    "    filename = f\"test_{simulation_size}.csv\"\n",
    "    np.savetxt(filename, final_array, delimiter=\",\", header=header_string, comments='')\n",
    "\n",
    "simulation(10)\n",
    "\n",
    "# n = 2\n",
    "# gen = all_parameter_generation(n, \"distributive\", \"gamma\", (1, 2), verbose = False)\n",
    "# alpha_matrix = gen.alpha_parameter_generation()\n",
    "# beta_matrix = gen.beta_parameter_generation()\n",
    "# x_tot_value = 0.1; y_tot_value = 0.1; a_tot_value = 20\n",
    "# k_positive_rates, k_negative_rates = gen.k_parameter_generation()\n",
    "# p_positive_rates, p_negative_rates = gen.p_parameter_generation()\n",
    "# polynomial_finder(n, a_tot_value, x_tot_value, y_tot_value, alpha_matrix, beta_matrix, k_positive_rates, k_negative_rates, p_positive_rates, p_negative_rates)"
   ]
  },
  {
   "cell_type": "code",
   "execution_count": 47,
   "id": "29e38992",
   "metadata": {},
   "outputs": [
    {
     "ename": "ValueError",
     "evalue": "not enough values to unpack (expected 6, got 4)",
     "output_type": "error",
     "traceback": [
      "\u001b[31m---------------------------------------------------------------------------\u001b[39m",
      "\u001b[31mValueError\u001b[39m                                Traceback (most recent call last)",
      "\u001b[36mCell\u001b[39m\u001b[36m \u001b[39m\u001b[32mIn[47]\u001b[39m\u001b[32m, line 98\u001b[39m\n\u001b[32m     94\u001b[39m         \u001b[38;5;28;01mpass\u001b[39;00m\n\u001b[32m     96\u001b[39m     \u001b[38;5;28;01mreturn\u001b[39;00m stable_fp_array\n\u001b[32m---> \u001b[39m\u001b[32m98\u001b[39m \u001b[43msimulation\u001b[49m\u001b[43m(\u001b[49m\u001b[32;43m10\u001b[39;49m\u001b[43m)\u001b[49m\n",
      "\u001b[36mCell\u001b[39m\u001b[36m \u001b[39m\u001b[32mIn[39]\u001b[39m\u001b[32m, line 186\u001b[39m, in \u001b[36msimulation\u001b[39m\u001b[34m(simulation_size)\u001b[39m\n\u001b[32m    183\u001b[39m p_positive_rates = p_positive_parameter_array[i]\n\u001b[32m    184\u001b[39m p_negative_rates = p_negative_parameter_array[i]\n\u001b[32m--> \u001b[39m\u001b[32m186\u001b[39m stable_fp_array = \u001b[43mstable_fp_checker\u001b[49m\u001b[43m(\u001b[49m\u001b[43ma_tot_value\u001b[49m\u001b[43m,\u001b[49m\u001b[43m \u001b[49m\u001b[43mx_tot_value\u001b[49m\u001b[43m,\u001b[49m\u001b[43m \u001b[49m\u001b[43my_tot_value\u001b[49m\u001b[43m,\u001b[49m\u001b[43m \u001b[49m\u001b[43malpha_matrix\u001b[49m\u001b[43m,\u001b[49m\u001b[43m \u001b[49m\u001b[43mbeta_matrix\u001b[49m\u001b[43m,\u001b[49m\u001b[43m \u001b[49m\u001b[43mk_positive_rates\u001b[49m\u001b[43m,\u001b[49m\u001b[43m \u001b[49m\u001b[43mk_negative_rates\u001b[49m\u001b[43m,\u001b[49m\u001b[43m \u001b[49m\u001b[43mp_positive_rates\u001b[49m\u001b[43m,\u001b[49m\u001b[43m \u001b[49m\u001b[43mp_negative_rates\u001b[49m\u001b[43m)\u001b[49m\n\u001b[32m    188\u001b[39m \u001b[38;5;66;03m# Flatten stable_fp_array to 1D if it is not empty, else fill with NaNs\u001b[39;00m\n\u001b[32m    189\u001b[39m \u001b[38;5;28;01mif\u001b[39;00m \u001b[38;5;28mlen\u001b[39m(stable_fp_array) > \u001b[32m0\u001b[39m:\n",
      "\u001b[36mCell\u001b[39m\u001b[36m \u001b[39m\u001b[32mIn[47]\u001b[39m\u001b[32m, line 51\u001b[39m, in \u001b[36mstable_fp_checker\u001b[39m\u001b[34m(a_tot_value, x_tot_value, y_tot_value, alpha_matrix, beta_matrix, k_positive_rates, k_negative_rates, p_positive_rates, p_negative_rates, n)\u001b[39m\n\u001b[32m     45\u001b[39m \u001b[38;5;28;01mdef\u001b[39;00m\u001b[38;5;250m \u001b[39m\u001b[34mstable_fp_checker\u001b[39m(a_tot_value, x_tot_value, y_tot_value,\n\u001b[32m     46\u001b[39m                       alpha_matrix, beta_matrix,\n\u001b[32m     47\u001b[39m                       k_positive_rates, k_negative_rates,\n\u001b[32m     48\u001b[39m                       p_positive_rates, p_negative_rates,\n\u001b[32m     49\u001b[39m                       n=\u001b[32m2\u001b[39m):\n\u001b[32m     50\u001b[39m     \u001b[38;5;66;03m# compute polynomials and matrices\u001b[39;00m\n\u001b[32m---> \u001b[39m\u001b[32m51\u001b[39m     polynomials, L1, L2, W1, W2, a_syms = polynomial_finder(\n\u001b[32m     52\u001b[39m         n, a_tot_value, x_tot_value, y_tot_value,\n\u001b[32m     53\u001b[39m         alpha_matrix, beta_matrix,\n\u001b[32m     54\u001b[39m         k_positive_rates, k_negative_rates,\n\u001b[32m     55\u001b[39m         p_positive_rates, p_negative_rates\n\u001b[32m     56\u001b[39m     )\n\u001b[32m     58\u001b[39m     N = \u001b[32m2\u001b[39m**n\n\u001b[32m     59\u001b[39m     \u001b[38;5;66;03m# Build numeric function from sympy expression.\u001b[39;00m\n\u001b[32m     60\u001b[39m     \u001b[38;5;66;03m# Make sure a_syms is a tuple/list of sympy symbols\u001b[39;00m\n",
      "\u001b[31mValueError\u001b[39m: not enough values to unpack (expected 6, got 4)"
     ]
    }
   ],
   "source": [
    "import numpy as np\n",
    "import sympy as sp\n",
    "from sympy import lambdify\n",
    "from scipy.optimize import root\n",
    "\n",
    "# corrected stability calculator: expects numeric J (numpy array) or sympy matrix convertible to numeric\n",
    "def stability_calculator_numeric(a_fp, p, L1, L2, W1, W2):\n",
    "    # a_fp is numeric 1D array (length N)\n",
    "    # Convert L1,L2,W1,W2 (sympy) to numpy arrays if needed\n",
    "    # We'll evaluate J numerically following your original formula\n",
    "    a_fp = np.asarray(a_fp, dtype=float).reshape((-1,1))  # column vector\n",
    "    # convert sympy matrices to numpy arrays if necessary\n",
    "    def to_np(mat):\n",
    "        if isinstance(mat, sp.Matrix):\n",
    "            return np.array(mat.evalf(), dtype=float)\n",
    "        else:\n",
    "            return np.asarray(mat, dtype=float)\n",
    "    L1_np = to_np(L1)\n",
    "    L2_np = to_np(L2)\n",
    "    W1_np = to_np(W1)\n",
    "    W2_np = to_np(W2)\n",
    "\n",
    "    ones_vec = np.ones((1, a_fp.shape[0]))\n",
    "    denom1 = 1.0 + (ones_vec @ (W1_np @ a_fp))[0,0]\n",
    "    denom2 = 1.0 + (ones_vec @ (W2_np @ a_fp))[0,0]\n",
    "\n",
    "    # term1 and term2 must be matrices of shape N x N\n",
    "    # We replicate your symbolic structure numerically:\n",
    "    # term1 = L1/denom1 - (L1 * a * ones_vec * W1) / denom1**2\n",
    "    # implement as: L1_np / denom1 - (L1_np @ (a_fp @ (ones_vec @ W1_np))) / denom1**2\n",
    "    # but careful with shapes; compute outer products explicitly\n",
    "    a_times_onesW1 = a_fp @ (ones_vec @ W1_np)   # (N x 1) @ (1 x N) -> N x N\n",
    "    a_times_onesW2 = a_fp @ (ones_vec @ W2_np)\n",
    "\n",
    "    term1 = L1_np / denom1 - (L1_np * a_times_onesW1) / (denom1**2)\n",
    "    term2 = L2_np / denom2 - (L2_np * a_times_onesW2) / (denom2**2)\n",
    "\n",
    "    J = p * term1 - term2   # numeric Jacobian matrix\n",
    "    # compute eigenvalues\n",
    "    eigs = np.linalg.eigvals(J)\n",
    "    real_parts = np.real(eigs)\n",
    "    is_stable = np.all(real_parts < 0)\n",
    "    return is_stable, eigs, J\n",
    "\n",
    "def stable_fp_checker(a_tot_value, x_tot_value, y_tot_value,\n",
    "                      alpha_matrix, beta_matrix,\n",
    "                      k_positive_rates, k_negative_rates,\n",
    "                      p_positive_rates, p_negative_rates,\n",
    "                      n=2):\n",
    "    # compute polynomials and matrices\n",
    "    polynomials, L1, L2, W1, W2, a_syms = polynomial_finder(\n",
    "        n, a_tot_value, x_tot_value, y_tot_value,\n",
    "        alpha_matrix, beta_matrix,\n",
    "        k_positive_rates, k_negative_rates,\n",
    "        p_positive_rates, p_negative_rates\n",
    "    )\n",
    "\n",
    "    N = 2**n\n",
    "    # Build numeric function from sympy expression.\n",
    "    # Make sure a_syms is a tuple/list of sympy symbols\n",
    "    a_syms_tuple = tuple(a_syms)\n",
    "    f_sym = sp.simplify(polynomials)  # should be sympy Matrix or vector of size N\n",
    "    # lambdify to a numpy-callable function expecting a tuple of length N\n",
    "    numeric_f = lambdify(a_syms_tuple, f_sym, modules=\"numpy\")\n",
    "\n",
    "    # wrapper for scipy.root: it must accept a 1-D array and return 1-D residuals\n",
    "    def residuals(x):\n",
    "        # x is 1d numpy array of length N\n",
    "        # numeric_f(*x) returns an array / matrix shaped (N,1) or (N,)\n",
    "        out = numeric_f(*tuple(x))\n",
    "        out_np = np.asarray(out, dtype=float).reshape(-1)\n",
    "        return out_np\n",
    "\n",
    "    # reasonable initial guess: try small positive numbers\n",
    "    x0 = np.full(N, max(1.0, a_tot_value / N))   # can adjust initial seed\n",
    "    root_result = root(residuals, x0, method='hybr')  # or other method\n",
    "\n",
    "    stable_fp_array = []\n",
    "    if not root_result.success:\n",
    "        # no root found numerically\n",
    "        return stable_fp_array\n",
    "\n",
    "    root_vec = root_result.x\n",
    "    # enforce positivity and conservation (adapt your checks)\n",
    "    if np.all(root_vec >= 0) and abs(np.sum(root_vec) - a_tot_value) <= 1e-6:\n",
    "        # check stability numerically\n",
    "        p_ratio = float(x_tot_value) / float(y_tot_value)\n",
    "        is_stable, eigs, J = stability_calculator_numeric(root_vec, p_ratio, L1, L2, W1, W2)\n",
    "        if is_stable:\n",
    "            stable_fp_array.append(root_vec)\n",
    "    else:\n",
    "        # if conservation not enforced in your polynomial system (depends on how polynomials defined),\n",
    "        # you might want to check other candidate roots or relax conservation check\n",
    "        pass\n",
    "\n",
    "    return stable_fp_array\n",
    "\n",
    "simulation(10)\n"
   ]
  },
  {
   "cell_type": "code",
   "execution_count": null,
   "id": "135997d6",
   "metadata": {},
   "outputs": [],
   "source": []
  },
  {
   "cell_type": "code",
   "execution_count": null,
   "id": "62f71ffc",
   "metadata": {},
   "outputs": [],
   "source": []
  },
  {
   "cell_type": "code",
   "execution_count": null,
   "id": "a7b84bfa",
   "metadata": {},
   "outputs": [],
   "source": []
  },
  {
   "cell_type": "code",
   "execution_count": null,
   "id": "a6461abb",
   "metadata": {},
   "outputs": [
    {
     "data": {
      "text/latex": [
       "$\\displaystyle \\operatorname{GroebnerBasis}\\left(\\left( 1.0 a_{0}, \\  1.0 a_{1}\\right), \\left( a_{0}, \\  a_{1}\\right)\\right)$"
      ],
      "text/plain": [
       "GroebnerBasis([1.0*a_0, 1.0*a_1], a_0, a_1, domain='RR', order='lex')"
      ]
     },
     "execution_count": 266,
     "metadata": {},
     "output_type": "execute_result"
    }
   ],
   "source": [
    "groebner_basis = sp.groebner(polynomials, *a_syms)\n",
    "groebner_basis"
   ]
  },
  {
   "cell_type": "code",
   "execution_count": null,
   "id": "9959d602",
   "metadata": {},
   "outputs": [
    {
     "data": {
      "text/plain": [
       "[{a_0: 0.0, a_1: 0.0}]"
      ]
     },
     "execution_count": 264,
     "metadata": {},
     "output_type": "execute_result"
    }
   ],
   "source": [
    "roots = sp.solve(groebner_basis, *a_syms, dict = True, simplify=False)\n",
    "roots"
   ]
  },
  {
   "cell_type": "code",
   "execution_count": 69,
   "id": "182b1598",
   "metadata": {},
   "outputs": [
    {
     "name": "stdout",
     "output_type": "stream",
     "text": [
      "[]\n",
      "[[10 20 30]\n",
      " [40 50 60]]\n",
      "[10 20 30]\n",
      "Positivity confirmed\n",
      "[40 50 60]\n",
      "Positivity confirmed\n"
     ]
    }
   ],
   "source": [
    "import numpy as np\n",
    "\n",
    "# Initialize an empty 2D array with 0 rows and 3 columns\n",
    "empty_array = np.empty((0, 3), dtype=int) \n",
    "print(empty_array)\n",
    "# Create the array to append\n",
    "new_row = np.array([[10, 20, 30]])\n",
    "\n",
    "# Append the new row\n",
    "empty_array = np.append(empty_array, new_row, axis=0)\n",
    "\n",
    "# Append another row\n",
    "another_row = np.array([[40, 50, 60]])\n",
    "empty_array = np.append(empty_array, another_row, axis=0)\n",
    "\n",
    "print(empty_array)\n",
    "\n",
    "for i in range(len(empty_array)):\n",
    "    print(empty_array[i])\n",
    "    if np.all(empty_array[i] > 0):\n",
    "        print(\"Positivity confirmed\")"
   ]
  },
  {
   "cell_type": "code",
   "execution_count": null,
   "id": "42f04e25",
   "metadata": {},
   "outputs": [
    {
     "name": "stdout",
     "output_type": "stream",
     "text": [
      "[[5.78304517e+01 1.82956144e+02 2.71619238e+07]\n",
      " [2.04273050e+00 1.16511733e+06 1.36519063e+05]\n",
      " [1.68285696e+06 2.83459746e+03 3.62775105e+06]\n",
      " [6.67450880e+02 9.40138456e+03 5.84308078e+01]\n",
      " [1.21057522e+00 1.74155583e+01 5.89683717e+03]\n",
      " [2.57308998e+05 1.95258514e+05 2.50466426e+01]\n",
      " [2.30474971e+01 3.41773373e+05 1.25218651e+06]\n",
      " [5.55052535e+04 1.92117067e+02 3.31439272e+07]\n",
      " [8.00624336e+01 2.00289200e+02 5.03063927e+01]\n",
      " [3.78813091e+06 7.92873229e+02 1.01604200e+05]]\n"
     ]
    }
   ],
   "source": [
    "import numpy as np\n",
    "\n",
    "def sample_log_uniform(n, a, b, size=1, rng=None):\n",
    "    \"\"\"\n",
    "    Sample points uniformly in log-space from an n-dimensional hypercube.\n",
    "\n",
    "    Parameters\n",
    "    ----------\n",
    "    n : int\n",
    "        Number of dimensions (hypercube dimensionality).\n",
    "    a, b : float or array-like of length n\n",
    "        Lower and upper bounds for each coordinate. Must be > 0.\n",
    "        If scalar, the same range (a,b) is used for all dimensions.\n",
    "    size : int\n",
    "        Number of samples to draw (returns array of shape (size, n)).\n",
    "    rng : None or np.random.Generator\n",
    "        Optional numpy random Generator for reproducible draws.\n",
    "\n",
    "    Returns\n",
    "    -------\n",
    "    samples : ndarray, shape (size, n)\n",
    "        Samples drawn so that log(samples) is uniformly distributed\n",
    "        in the n-dimensional box [log(a), log(b)]^n.\n",
    "    \"\"\"\n",
    "    if rng is None:\n",
    "        rng = np.random.default_rng()\n",
    "\n",
    "    a = np.asarray(a)\n",
    "    b = np.asarray(b)\n",
    "\n",
    "    # allow scalar bounds or per-dimension bounds\n",
    "    if a.shape == () and b.shape == ():\n",
    "        log_a = np.log(a)\n",
    "        log_b = np.log(b)\n",
    "        low = log_a\n",
    "        high = log_b\n",
    "    else:\n",
    "        a = a.reshape(-1)\n",
    "        b = b.reshape(-1)\n",
    "        if a.size != n or b.size != n:\n",
    "            raise ValueError(\"If a or b are arrays they must have length n.\")\n",
    "        low = np.log(a)\n",
    "        high = np.log(b)\n",
    "\n",
    "    if np.any(high <= low):\n",
    "        raise ValueError(\"Require b > a (elementwise) and both > 0.\")\n",
    "\n",
    "    # draw uniformly in log-space then exponentiate\n",
    "    u = rng.uniform(low=low, high=high, size=(size, n))\n",
    "    return np.exp(u)\n",
    "\n",
    "# Example 3: reproducible draws\n",
    "rng = np.random.default_rng(42)\n",
    "samples = sample_log_uniform(n=3, a=10e-1, b=10e7, size=10, rng=None)\n",
    "print(samples)"
   ]
  },
  {
   "cell_type": "code",
   "execution_count": null,
   "id": "6f70580a",
   "metadata": {},
   "outputs": [],
   "source": []
  }
 ],
 "metadata": {
  "kernelspec": {
   "display_name": ".venv",
   "language": "python",
   "name": "python3"
  },
  "language_info": {
   "codemirror_mode": {
    "name": "ipython",
    "version": 3
   },
   "file_extension": ".py",
   "mimetype": "text/x-python",
   "name": "python",
   "nbconvert_exporter": "python",
   "pygments_lexer": "ipython3",
   "version": "3.13.7"
  }
 },
 "nbformat": 4,
 "nbformat_minor": 5
}
