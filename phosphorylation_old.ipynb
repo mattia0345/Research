{
 "cells": [
  {
   "cell_type": "code",
   "execution_count": 309,
   "id": "3d33dd7b",
   "metadata": {},
   "outputs": [
    {
     "name": "stdout",
     "output_type": "stream",
     "text": [
      "b_array:  [1. 1.]\n",
      "c_array:  [1. 1.]\n",
      "b_array:  [0.98267949 1.        ]\n",
      "c_array:  [1.         0.98267949]\n",
      "b_array:  [0.979996 1.      ]\n",
      "c_array:  [1.       0.979996]\n",
      "b_array:  [0.97089436 1.        ]\n",
      "c_array:  [1.         0.97044418]\n",
      "b_array:  [0.92558609 1.        ]\n",
      "c_array:  [1.         0.92302519]\n",
      "b_array:  [0.9171913 1.       ]\n",
      "c_array:  [1.        0.9146917]\n",
      "b_array:  [0.9080032 1.       ]\n",
      "c_array:  [1.         0.90459474]\n",
      "b_array:  [0.9092017 1.       ]\n",
      "c_array:  [1.         0.90481933]\n",
      "b_array:  [0.82256609 1.        ]\n",
      "c_array:  [1.         0.80956344]\n",
      "b_array:  [0.79869418 1.        ]\n",
      "c_array:  [1.         0.77321719]\n",
      "b_array:  [0.61096155 1.        ]\n",
      "c_array:  [1.         0.58290661]\n",
      "b_array:  [0.46287089 1.        ]\n",
      "c_array:  [1.         0.53121907]\n",
      "b_array:  [0.42479091 1.        ]\n",
      "c_array:  [1.         0.49950333]\n",
      "b_array:  [0.62399028 1.        ]\n",
      "c_array:  [1.         0.53451945]\n",
      "b_array:  [0.58764867 1.        ]\n",
      "c_array:  [1.         0.48054525]\n",
      "b_array:  [0.57470526 1.        ]\n",
      "c_array:  [1.         0.45968958]\n",
      "b_array:  [0.49505564 1.        ]\n",
      "c_array:  [1.         0.35121709]\n",
      "b_array:  [0.45536896 1.        ]\n",
      "c_array:  [1.         0.32284012]\n",
      "b_array:  [0.43958745 1.        ]\n",
      "c_array:  [1.         0.30451777]\n",
      "b_array:  [0.48436074 1.        ]\n",
      "c_array:  [1.         0.32262578]\n",
      "b_array:  [0.4571978 1.       ]\n",
      "c_array:  [1.         0.28237996]\n",
      "b_array:  [0.44657288 1.        ]\n",
      "c_array:  [1.         0.26790505]\n",
      "b_array:  [0.38551704 1.        ]\n",
      "c_array:  [1.         0.18928061]\n",
      "b_array:  [0.36021487 1.        ]\n",
      "c_array:  [1.         0.16374927]\n",
      "b_array:  [0.34708567 1.        ]\n",
      "c_array:  [1.         0.15138856]\n",
      "b_array:  [0.37315672 1.        ]\n",
      "c_array:  [1.         0.17291726]\n",
      "b_array:  [0.35060974 1.        ]\n",
      "c_array:  [1.         0.14679803]\n",
      "b_array:  [0.34125231 1.        ]\n",
      "c_array:  [1.        0.1381769]\n",
      "b_array:  [0.29144704 1.        ]\n",
      "c_array:  [1.         0.08808405]\n",
      "b_array:  [0.27628188 1.        ]\n",
      "c_array:  [1.         0.06718427]\n",
      "b_array:  [0.26578652 1.        ]\n",
      "c_array:  [1.         0.05978991]\n",
      "b_array:  [0.27791043 1.        ]\n",
      "c_array:  [1.         0.08126574]\n",
      "b_array:  [0.25784098 1.        ]\n",
      "c_array:  [1.         0.06606894]\n",
      "b_array:  [0.24953949 1.        ]\n",
      "c_array:  [1.         0.06166759]\n",
      "b_array:  [0.20670796 1.        ]\n",
      "c_array:  [1.         0.03258463]\n",
      "b_array:  [0.19575667 1.        ]\n",
      "c_array:  [1.         0.01572033]\n",
      "b_array:  [0.18727366 1.        ]\n",
      "c_array:  [1.         0.01153996]\n",
      "b_array:  [0.19419888 1.        ]\n",
      "c_array:  [1.         0.03192766]\n",
      "b_array:  [0.1788084 1.       ]\n",
      "c_array:  [1.         0.02532675]\n",
      "b_array:  [0.17251372 1.        ]\n",
      "c_array:  [1.         0.02356159]\n",
      "b_array:  [0.14031026 1.        ]\n",
      "c_array:  [1.         0.01079872]\n",
      "b_array:  [0.13259167 1.        ]\n",
      "c_array:  [1.         0.00206479]\n",
      "b_array:  [0.12654772 1.        ]\n",
      "c_array:  [1.00000000e+00 1.80077872e-04]\n",
      "b_array:  [0.1308075 1.       ]\n",
      "c_array:  [1.         0.01137385]\n",
      "b_array:  [0.12035314 1.        ]\n",
      "c_array:  [1.         0.00899819]\n",
      "b_array:  [0.11607557 1.        ]\n",
      "c_array:  [1.         0.00836859]\n",
      "b_array:  [0.09428628 1.        ]\n",
      "c_array:  [1.         0.00376798]\n",
      "b_array:  [0.08924747 1.        ]\n",
      "c_array:  [1.00000000e+00 5.65544829e-04]\n",
      "b_array:  [0.08523765 1.        ]\n",
      "c_array:  [ 1.00000000e+00 -1.17131112e-04]\n",
      "b_array:  [0.08776625 1.        ]\n",
      "c_array:  [1.         0.00400948]\n",
      "b_array:  [0.08067764 1.        ]\n",
      "c_array:  [1.         0.00316244]\n",
      "b_array:  [0.07778086 1.        ]\n",
      "c_array:  [1.         0.00294024]\n",
      "b_array:  [0.06304799 1.        ]\n",
      "c_array:  [1.         0.00129682]\n",
      "b_array:  [0.05968835 1.        ]\n",
      "c_array:  [1.00000000e+00 1.30957418e-04]\n",
      "b_array:  [0.05700762 1.        ]\n",
      "c_array:  [ 1.00000000e+00 -1.14345161e-04]\n",
      "b_array:  [0.05862394 1.        ]\n",
      "c_array:  [1.         0.00139685]\n",
      "b_array:  [0.05376048 1.        ]\n",
      "c_array:  [1.         0.00109362]\n",
      "b_array:  [0.051784 1.      ]\n",
      "c_array:  [1.         0.00101605]\n",
      "b_array:  [0.04172054 1.        ]\n",
      "c_array:  [1.00000000e+00 4.24734266e-04]\n",
      "b_array:  [0.03941125 1.        ]\n",
      "c_array:  [ 1.00000000e+00 -1.42679066e-05]\n",
      "b_array:  [0.03759989 1.        ]\n",
      "c_array:  [ 1.00000000e+00 -1.03983981e-04]\n",
      "b_array:  [0.03872644 1.        ]\n",
      "c_array:  [1.00000000e+00 4.72867686e-04]\n",
      "b_array:  [0.03531047 1.        ]\n",
      "c_array:  [1.00000000e+00 3.63703162e-04]\n",
      "b_array:  [0.0339421 1.       ]\n",
      "c_array:  [1.00000000e+00 3.37472393e-04]\n",
      "b_array:  [0.02693721 1.        ]\n",
      "c_array:  [1.00000000e+00 1.21462462e-04]\n",
      "b_array:  [0.02527091 1.        ]\n",
      "c_array:  [ 1.00000000e+00 -5.62488587e-05]\n",
      "b_array:  [0.02403196 1.        ]\n",
      "c_array:  [ 1.00000000e+00 -9.06771488e-05]\n",
      "b_array:  [0.02491887 1.        ]\n",
      "c_array:  [1.00000000e+00 1.49621659e-04]\n",
      "b_array:  [0.0224545 1.       ]\n",
      "c_array:  [1.00000000e+00 1.10894043e-04]\n",
      "b_array:  [0.02149696 1.        ]\n",
      "c_array:  [1.00000000e+00 1.02807391e-04]\n",
      "b_array:  [0.01652507 1.        ]\n",
      "c_array:  [1.00000000e+00 2.30119519e-05]\n",
      "b_array:  [0.01523302 1.        ]\n",
      "c_array:  [ 1.00000000e+00 -5.62083484e-05]\n",
      "b_array:  [0.01438022 1.        ]\n",
      "c_array:  [ 1.00000000e+00 -7.08309704e-05]\n",
      "b_array:  [0.01520075 1.        ]\n",
      "c_array:  [1.00000000e+00 4.13647937e-05]\n",
      "b_array:  [0.01341877 1.        ]\n",
      "c_array:  [1.00000000e+00 2.86765692e-05]\n",
      "b_array:  [0.01276357 1.        ]\n",
      "c_array:  [1.0000000e+00 2.6710937e-05]\n",
      "b_array:  [0.00924555 1.        ]\n",
      "c_array:  [ 1.00000000e+00 -2.12875585e-06]\n",
      "b_array:  [0.00815079 1.        ]\n",
      "c_array:  [ 1.00000000e+00 -3.93135751e-05]\n",
      "b_array:  [0.00756505 1.        ]\n",
      "c_array:  [ 1.00000000e+00 -4.65237179e-05]\n",
      "b_array:  [0.00846581 1.        ]\n",
      "c_array:  [1.00000000e+00 9.21048123e-06]\n",
      "b_array:  [0.00726932 1.        ]\n",
      "c_array:  [1.00000000e+00 5.81399481e-06]\n",
      "b_array:  [0.00686506 1.        ]\n",
      "c_array:  [1.00000000e+00 5.52481316e-06]\n",
      "b_array:  [0.00449824 1.        ]\n",
      "c_array:  [ 1.00000000e+00 -3.59298282e-06]\n",
      "b_array:  [0.00340679 1.        ]\n",
      "c_array:  [ 1.00000000e+00 -1.86154544e-05]\n",
      "b_array:  [0.00287643 1.        ]\n",
      "c_array:  [ 1.00000000e+00 -2.20772074e-05]\n",
      "b_array:  [0.00423768 1.        ]\n",
      "c_array:  [1.00000000e+00 1.66488897e-06]\n",
      "b_array:  [0.00753185 1.        ]\n",
      "c_array:  [1.0000000e+00 6.5592471e-06]\n",
      "b_array:  [0.00718307 1.        ]\n",
      "c_array:  [1.00000000e+00 6.09218156e-06]\n",
      "b_array:  [0.00530364 1.        ]\n",
      "c_array:  [1.00000000e+00 3.17310445e-07]\n",
      "b_array:  [0.00468864 1.        ]\n",
      "c_array:  [ 1.00000000e+00 -6.45681875e-06]\n",
      "b_array:  [0.00433015 1.        ]\n",
      "c_array:  [ 1.00000000e+00 -7.72658801e-06]\n",
      "b_array:  [0.0048939 1.       ]\n",
      "c_array:  [1.00000000e+00 2.22635858e-06]\n",
      "b_array:  [0.00434872 1.        ]\n",
      "c_array:  [1.00000000e+00 1.58550196e-06]\n",
      "b_array:  [0.00414958 1.        ]\n",
      "c_array:  [1.00000000e+00 1.47260283e-06]\n",
      "b_array:  [0.00301123 1.        ]\n",
      "c_array:  [1.00000000e+00 7.67003173e-08]\n",
      "b_array:  [0.00250221 1.        ]\n",
      "c_array:  [ 1.00000000e+00 -1.56074297e-06]\n",
      "b_array:  [0.00220301 1.        ]\n",
      "c_array:  [ 1.00000000e+00 -1.86767174e-06]\n",
      "b_array:  [0.00284283 1.        ]\n",
      "c_array:  [1.00000000e+00 5.38155654e-07]\n",
      "b_array:  [0.00445035 1.        ]\n",
      "c_array:  [1.00000000e+00 1.70497253e-06]\n",
      "b_array:  [0.0042772 1.       ]\n",
      "c_array:  [1.00000000e+00 1.58164455e-06]\n",
      "b_array:  [0.00334467 1.        ]\n",
      "c_array:  [1.00000000e+00 5.45735231e-07]\n",
      "b_array:  [0.00303151 1.        ]\n",
      "c_array:  [ 1.00000000e+00 -3.27054817e-07]\n",
      "b_array:  [0.0028294 1.       ]\n",
      "c_array:  [ 1.00000000e+00 -4.94494555e-07]\n",
      "b_array:  [0.00312906 1.        ]\n",
      "c_array:  [1.00000000e+00 6.93094349e-07]\n",
      "b_array:  [0.00284547 1.        ]\n",
      "c_array:  [1.00000000e+00 5.30780099e-07]\n",
      "b_array:  [0.00273476 1.        ]\n",
      "c_array:  [1.00000000e+00 4.92386495e-07]\n",
      "b_array:  [0.00213854 1.        ]\n",
      "c_array:  [1.00000000e+00 1.69894467e-07]\n",
      "b_array:  [0.00193838 1.        ]\n",
      "c_array:  [ 1.00000000e+00 -1.01816413e-07]\n",
      "b_array:  [0.00180918 1.        ]\n",
      "c_array:  [ 1.00000000e+00 -1.53942579e-07]\n",
      "b_array:  [0.00200066 1.        ]\n",
      "c_array:  [1.00000000e+00 2.15769275e-07]\n",
      "b_array:  [0.00180944 1.        ]\n",
      "c_array:  [1.00000000e+00 1.62480833e-07]\n",
      "b_array:  [0.00173593 1.        ]\n",
      "c_array:  [1.00000000e+00 1.50642313e-07]\n",
      "b_array:  [0.00133509 1.        ]\n",
      "c_array:  [1.00000000e+00 4.28950263e-08]\n",
      "b_array:  [0.00119114 1.        ]\n",
      "c_array:  [ 1.00000000e+00 -5.62120516e-08]\n",
      "b_array:  [0.00110114 1.        ]\n",
      "c_array:  [ 1.00000000e+00 -7.47176927e-08]\n",
      "b_array:  [0.00124946 1.        ]\n",
      "c_array:  [1.00000000e+00 6.31372966e-08]\n",
      "b_array:  [0.00112749 1.        ]\n",
      "c_array:  [1.0000000e+00 4.7293169e-08]\n",
      "b_array:  [0.00108129 1.        ]\n",
      "c_array:  [1.00000000e+00 4.38441495e-08]\n",
      "b_array:  [8.22463945e-04 1.00000000e+00]\n",
      "c_array:  [1.00000000e+00 1.16135825e-08]\n",
      "b_array:  [7.16307197e-04 1.00000000e+00]\n",
      "c_array:  [ 1.0000000e+00 -1.8817454e-08]\n",
      "b_array:  [6.52104078e-04 1.00000000e+00]\n",
      "c_array:  [ 1.00000000e+00 -2.44699956e-08]\n",
      "b_array:  [7.75060839e-04 1.00000000e+00]\n",
      "c_array:  [1.0000000e+00 1.8125016e-08]\n",
      "b_array:  [7.01232897e-04 1.00000000e+00]\n",
      "c_array:  [1.00000000e+00 1.37304263e-08]\n",
      "b_array:  [6.73473722e-04 1.00000000e+00]\n",
      "c_array:  [1.00000000e+00 1.27318322e-08]\n",
      "b_array:  [5.13269575e-04 1.00000000e+00]\n",
      "c_array:  [1.00000000e+00 3.90387363e-09]\n",
      "b_array:  [4.38940362e-04 1.00000000e+00]\n",
      "c_array:  [ 1.00000000e+00 -3.97381546e-09]\n",
      "b_array:  [3.95260146e-04 1.00000000e+00]\n",
      "c_array:  [ 1.00000000e+00 -5.45615016e-09]\n",
      "b_array:  [4.88369368e-04 1.00000000e+00]\n",
      "c_array:  [1.00000000e+00 5.42039213e-09]\n",
      "b_array:  [4.43170191e-04 1.00000000e+00]\n",
      "c_array:  [1.00000000e+00 4.15194703e-09]\n",
      "b_array:  [4.2618144e-04 1.0000000e+00]\n",
      "c_array:  [1.00000000e+00 3.85166196e-09]\n",
      "b_array:  [3.26948894e-04 1.00000000e+00]\n",
      "c_array:  [1.00000000e+00 1.33201802e-09]\n",
      "b_array:  [2.78973016e-04 1.00000000e+00]\n",
      "c_array:  [ 1.00000000e+00 -7.88247198e-10]\n",
      "b_array:  [2.51255117e-04 1.00000000e+00]\n",
      "c_array:  [ 1.00000000e+00 -1.19520438e-09]\n",
      "b_array:  [3.12347491e-04 1.00000000e+00]\n",
      "c_array:  [1.00000000e+00 1.68887203e-09]\n",
      "b_array:  [2.82929206e-04 1.00000000e+00]\n",
      "c_array:  [1.00000000e+00 1.28660147e-09]\n",
      "b_array:  [2.7193326e-04 1.0000000e+00]\n",
      "c_array:  [1.00000000e+00 1.19325962e-09]\n",
      "b_array:  [2.07289357e-04 1.00000000e+00]\n",
      "c_array:  [1.00000000e+00 3.89872871e-10]\n",
      "b_array:  [1.75239093e-04 1.00000000e+00]\n",
      "c_array:  [ 1.000000e+00 -3.062926e-10]\n",
      "b_array:  [1.56762882e-04 1.00000000e+00]\n",
      "c_array:  [ 1.00000000e+00 -4.38489708e-10]\n",
      "b_array:  [1.98320504e-04 1.00000000e+00]\n",
      "c_array:  [1.0000000e+00 5.1563353e-10]\n",
      "b_array:  [1.78403069e-04 1.00000000e+00]\n",
      "c_array:  [1.00000000e+00 3.85156712e-10]\n",
      "b_array:  [1.71168359e-04 1.00000000e+00]\n",
      "c_array:  [1.00000000e+00 3.57061398e-10]\n",
      "b_array:  [1.2676579e-04 1.0000000e+00]\n",
      "c_array:  [1.00000000e+00 9.07659689e-11]\n",
      "b_array:  [1.01248174e-04 1.00000000e+00]\n",
      "c_array:  [ 1.00000000e+00 -1.64089172e-10]\n",
      "b_array:  [8.66947146e-05 1.00000000e+00]\n",
      "c_array:  [ 1.00000000e+00 -2.11324822e-10]\n",
      "b_array:  [1.22839648e-04 1.00000000e+00]\n",
      "c_array:  [1.00000000e+00 1.46546602e-10]\n",
      "b_array:  [1.09694042e-04 1.00000000e+00]\n",
      "c_array:  [1.00000000e+00 1.07950241e-10]\n",
      "b_array:  [1.05220252e-04 1.00000000e+00]\n",
      "c_array:  [1.00000000e+00 1.00087938e-10]\n",
      "b_array:  [7.39366012e-05 1.00000000e+00]\n",
      "c_array:  [1.00000000e+00 1.99381223e-11]\n",
      "b_array:  [4.91543489e-05 1.00000000e+00]\n",
      "c_array:  [ 1.00000000e+00 -6.18858401e-11]\n",
      "b_array:  [3.52308302e-05 1.00000000e+00]\n",
      "c_array:  [ 1.0000000e+00 -7.6968801e-11]\n",
      "b_array:  [7.52034038e-05 1.00000000e+00]\n",
      "c_array:  [1.00000000e+00 3.96541063e-11]\n",
      "b_array:  [6.68196019e-05 1.00000000e+00]\n",
      "c_array:  [1.00000000e+00 2.94533014e-11]\n",
      "b_array:  [6.43078819e-05 1.00000000e+00]\n",
      "c_array:  [1.00000000e+00 2.73050137e-11]\n",
      "b_array:  [4.16604759e-05 1.00000000e+00]\n",
      "c_array:  [1.00000000e+00 6.34298112e-12]\n",
      "b_array:  [1.60746738e-05 1.00000000e+00]\n",
      "c_array:  [ 1.00000000e+00 -1.42616523e-11]\n",
      "b_array:  [2.33528349e-06 1.00000000e+00]\n",
      "c_array:  [ 1.00000000e+00 -1.80681447e-11]\n",
      "b_array:  [4.68867929e-05 1.00000000e+00]\n",
      "c_array:  [1.00000000e+00 1.10461843e-11]\n",
      "b_array:  [4.14854241e-05 1.00000000e+00]\n",
      "c_array:  [1.00000000e+00 8.36215429e-12]\n",
      "b_array:  [4.0099971e-05 1.0000000e+00]\n",
      "c_array:  [1.00000000e+00 7.75383329e-12]\n",
      "b_array:  [2.39678928e-05 1.00000000e+00]\n",
      "c_array:  [1.00000000e+00 2.35811345e-12]\n",
      "b_array:  [1.86557615e-06 1.00000000e+00]\n",
      "c_array:  [ 1.00000000e+00 -2.47390959e-12]\n",
      "b_array:  [-9.15037891e-06  1.00000000e+00]\n",
      "c_array:  [ 1.00000000e+00 -3.38224278e-12]\n",
      "b_array:  [2.97948652e-05 1.00000000e+00]\n",
      "c_array:  [1.00000000e+00 3.29508487e-12]\n",
      "b_array:  [2.62649399e-05 1.00000000e+00]\n",
      "c_array:  [1.00000000e+00 2.50932155e-12]\n",
      "b_array:  [2.54348391e-05 1.00000000e+00]\n",
      "c_array:  [1.00000000e+00 2.32723931e-12]\n",
      "b_array:  [1.44479918e-05 1.00000000e+00]\n",
      "c_array:  [1.00000000e+00 7.57390283e-13]\n",
      "b_array:  [-1.6800917e-06  1.0000000e+00]\n",
      "c_array:  [ 1.00000000e+00 -6.05557779e-13]\n",
      "b_array:  [-9.49939796e-06  1.00000000e+00]\n",
      "c_array:  [ 1.0000000e+00 -8.6420537e-13]\n",
      "b_array:  [1.9010229e-05 1.0000000e+00]\n",
      "c_array:  [1.00000000e+00 1.00468084e-12]\n",
      "b_array:  [1.65912422e-05 1.00000000e+00]\n",
      "c_array:  [1.00000000e+00 7.53834904e-13]\n",
      "b_array:  [1.60869263e-05 1.00000000e+00]\n",
      "c_array:  [1.00000000e+00 6.98871272e-13]\n",
      "b_array:  [7.97458048e-06 1.00000000e+00]\n",
      "c_array:  [1.00000000e+00 1.89592948e-13]\n",
      "b_array:  [-5.25882102e-06  1.00000000e+00]\n",
      "c_array:  [ 1.00000000e+00 -2.87283773e-13]\n",
      "b_array:  [-1.19709827e-05  1.00000000e+00]\n",
      "c_array:  [ 1.00000000e+00 -3.75997584e-13]\n",
      "b_array:  [1.21383408e-05 1.00000000e+00]\n",
      "c_array:  [1.0000000e+00 2.9018025e-13]\n",
      "b_array:  [1.03118692e-05 1.00000000e+00]\n",
      "c_array:  [1.00000000e+00 2.13351175e-13]\n",
      "b_array:  [1.00734703e-05 1.00000000e+00]\n",
      "c_array:  [1.00000000e+00 1.97820845e-13]\n",
      "b_array:  [2.66281792e-06 1.00000000e+00]\n",
      "c_array:  [1.00000000e+00 3.78823525e-14]\n",
      "b_array:  [-1.20788448e-05  1.00000000e+00]\n",
      "c_array:  [ 1.00000000e+00 -1.26777068e-13]\n",
      "b_array:  [-2.00358726e-05  1.00000000e+00]\n",
      "c_array:  [ 1.00000000e+00 -1.57126451e-13]\n",
      "b_array:  [8.06105585e-06 1.00000000e+00]\n",
      "c_array:  [1.00000000e+00 7.80071132e-14]\n",
      "b_array:  [6.44243515e-06 1.00000000e+00]\n",
      "c_array:  [1.0000000e+00 5.7303003e-14]\n",
      "b_array:  [6.44419972e-06 1.00000000e+00]\n",
      "c_array:  [1.00000000e+00 5.31329829e-14]\n",
      "b_array:  [-1.84639908e-06  1.00000000e+00]\n",
      "c_array:  [1.00000000e+00 9.98215476e-15]\n",
      "b_array:  [-2.12547066e-05  1.00000000e+00]\n",
      "c_array:  [ 1.00000000e+00 -3.46164456e-14]\n",
      "b_array:  [-3.17177873e-05  1.00000000e+00]\n",
      "c_array:  [ 1.00000000e+00 -4.28367078e-14]\n",
      "b_array:  [5.87238949e-06 1.00000000e+00]\n",
      "c_array:  [1.0000000e+00 2.0906091e-14]\n",
      "b_array:  [4.28755582e-06 1.00000000e+00]\n",
      "c_array:  [1.00000000e+00 1.56761397e-14]\n",
      "b_array:  [4.41977531e-06 1.00000000e+00]\n",
      "c_array:  [1.00000000e+00 1.45330527e-14]\n",
      "b_array:  [-4.24468314e-06  1.00000000e+00]\n",
      "c_array:  [1.00000000e+00 3.90703105e-15]\n",
      "b_array:  [-2.54360871e-05  1.00000000e+00]\n",
      "c_array:  [ 1.00000000e+00 -6.07464631e-15]\n",
      "b_array:  [-3.59806182e-05  1.00000000e+00]\n",
      "c_array:  [ 1.00000000e+00 -7.93043712e-15]\n",
      "b_array:  [4.23266492e-06 1.00000000e+00]\n",
      "c_array:  [1.00000000e+00 6.02417302e-15]\n",
      "b_array:  [2.93122944e-06 1.00000000e+00]\n",
      "c_array:  [1.00000000e+00 4.59235187e-15]\n",
      "b_array:  [3.05548305e-06 1.00000000e+00]\n",
      "c_array:  [1.0000000e+00 4.2592948e-15]\n",
      "b_array:  [-3.81548427e-06  1.00000000e+00]\n",
      "c_array:  [1.00000000e+00 1.40168938e-15]\n",
      "b_array:  [-2.04960214e-05  1.00000000e+00]\n",
      "c_array:  [ 1.00000000e+00 -1.06576965e-15]\n",
      "b_array:  [-2.82391333e-05  1.00000000e+00]\n",
      "c_array:  [ 1.00000000e+00 -1.53489096e-15]\n",
      "b_array:  [2.79292642e-06 1.00000000e+00]\n",
      "c_array:  [1.00000000e+00 1.84381336e-15]\n",
      "b_array:  [1.88333848e-06 1.00000000e+00]\n",
      "c_array:  [1.00000000e+00 1.39677909e-15]\n",
      "b_array:  [1.9881378e-06 1.0000000e+00]\n",
      "c_array:  [1.00000000e+00 1.29519382e-15]\n",
      "b_array:  [-3.03268116e-06  1.00000000e+00]\n",
      "c_array:  [1.00000000e+00 3.97191859e-16]\n",
      "b_array:  [-1.54581926e-05  1.00000000e+00]\n",
      "c_array:  [ 1.00000000e+00 -4.04097408e-16]\n",
      "b_array:  [-2.13793419e-05  1.00000000e+00]\n",
      "c_array:  [ 1.00000000e+00 -5.54877594e-16]\n",
      "b_array:  [1.94090339e-06 1.00000000e+00]\n",
      "c_array:  [1.00000000e+00 5.51427131e-16]\n",
      "b_array:  [1.20299889e-06 1.00000000e+00]\n",
      "c_array:  [1.00000000e+00 4.08181381e-16]\n",
      "b_array:  [1.33364412e-06 1.00000000e+00]\n",
      "c_array:  [1.00000000e+00 3.78421268e-16]\n",
      "b_array:  [-3.38381466e-06  1.00000000e+00]\n",
      "c_array:  [1.00000000e+00 8.28050093e-17]\n",
      "b_array:  [-1.57206114e-05  1.00000000e+00]\n",
      "c_array:  [ 1.00000000e+00 -2.12392075e-16]\n",
      "b_array:  [-2.21649724e-05  1.00000000e+00]\n",
      "c_array:  [ 1.00000000e+00 -2.66857856e-16]\n",
      "b_array:  [1.72433798e-06 1.00000000e+00]\n",
      "c_array:  [1.00000000e+00 1.51773434e-16]\n",
      "b_array:  [8.74899731e-07 1.00000000e+00]\n",
      "c_array:  [1.00000000e+00 1.10845553e-16]\n",
      "b_array:  [1.08220303e-06 1.00000000e+00]\n",
      "c_array:  [1.00000000e+00 1.02798001e-16]\n",
      "b_array:  [-5.03343791e-06  1.00000000e+00]\n",
      "c_array:  [1.00000000e+00 1.68316591e-17]\n",
      "b_array:  [-2.16845203e-05  1.00000000e+00]\n",
      "c_array:  [ 1.00000000e+00 -7.42900266e-17]\n",
      "b_array:  [-3.08250568e-05  1.00000000e+00]\n",
      "c_array:  [ 1.00000000e+00 -9.10980116e-17]\n",
      "b_array:  [2.0313941e-06 1.0000000e+00]\n",
      "c_array:  [1.00000000e+00 3.98734524e-17]\n",
      "b_array:  [8.65632634e-07 1.00000000e+00]\n",
      "c_array:  [1.00000000e+00 2.95508736e-17]\n",
      "b_array:  [1.14815121e-06 1.00000000e+00]\n",
      "c_array:  [1.00000000e+00 2.73959727e-17]\n",
      "b_array:  [-6.86377093e-06  1.00000000e+00]\n",
      "c_array:  [1.00000000e+00 6.12537773e-18]\n",
      "b_array:  [-2.84346122e-05  1.00000000e+00]\n",
      "c_array:  [ 1.00000000e+00 -1.49980276e-17]\n",
      "b_array:  [-3.96407394e-05  1.00000000e+00]\n",
      "c_array:  [ 1.00000000e+00 -1.88969373e-17]\n",
      "b_array:  [2.15925947e-06 1.00000000e+00]\n",
      "c_array:  [1.00000000e+00 1.10210829e-17]\n",
      "b_array:  [9.18975156e-07 1.00000000e+00]\n",
      "c_array:  [1.0000000e+00 8.3698337e-18]\n",
      "b_array:  [1.16523848e-06 1.00000000e+00]\n",
      "c_array:  [1.00000000e+00 7.76172141e-18]\n",
      "b_array:  [-6.32121028e-06  1.00000000e+00]\n",
      "c_array:  [1.00000000e+00 2.44984652e-18]\n",
      "b_array:  [-2.57227481e-05  1.00000000e+00]\n",
      "c_array:  [ 1.00000000e+00 -2.22916079e-18]\n",
      "b_array:  [-3.48459803e-05  1.00000000e+00]\n",
      "c_array:  [ 1.00000000e+00 -3.11298333e-18]\n",
      "b_array:  [1.58656093e-06 1.00000000e+00]\n",
      "c_array:  [1.00000000e+00 3.32635884e-18]\n",
      "b_array:  [6.79069659e-07 1.00000000e+00]\n",
      "c_array:  [1.00000000e+00 2.54017208e-18]\n",
      "b_array:  [8.49508214e-07 1.00000000e+00]\n",
      "c_array:  [1.00000000e+00 2.35612134e-18]\n",
      "b_array:  [-4.4589513e-06  1.0000000e+00]\n",
      "c_array:  [1.00000000e+00 7.89784446e-19]\n",
      "b_array:  [-1.80817003e-05  1.00000000e+00]\n",
      "c_array:  [ 1.00000000e+00 -5.50195691e-19]\n",
      "b_array:  [-2.43350373e-05  1.00000000e+00]\n",
      "c_array:  [ 1.00000000e+00 -8.05794301e-19]\n",
      "b_array:  [1.06334929e-06 1.00000000e+00]\n",
      "c_array:  [1.00000000e+00 1.02469339e-18]\n",
      "b_array:  [4.14071387e-07 1.00000000e+00]\n",
      "c_array:  [1.00000000e+00 7.67210279e-19]\n",
      "b_array:  [5.64528365e-07 1.00000000e+00]\n",
      "c_array:  [1.00000000e+00 7.11256103e-19]\n",
      "b_array:  [-3.7023847e-06  1.0000000e+00]\n",
      "c_array:  [1.00000000e+00 1.87206638e-19]\n",
      "b_array:  [-1.50547454e-05  1.00000000e+00]\n",
      "c_array:  [ 1.00000000e+00 -3.08648516e-19]\n",
      "b_array:  [-2.07182875e-05  1.00000000e+00]\n",
      "c_array:  [ 1.00000000e+00 -4.00719024e-19]\n",
      "b_array:  [9.98770339e-07 1.00000000e+00]\n",
      "c_array:  [1.00000000e+00 2.93695289e-19]\n",
      "b_array:  [3.2824053e-07 1.0000000e+00]\n",
      "c_array:  [1.00000000e+00 2.14639835e-19]\n",
      "b_array:  [5.20717201e-07 1.00000000e+00]\n",
      "c_array:  [1.00000000e+00 1.99051836e-19]\n",
      "b_array:  [-4.53511257e-06  1.00000000e+00]\n",
      "c_array:  [1.00000000e+00 3.31519247e-20]\n",
      "b_array:  [-1.8519863e-05  1.0000000e+00]\n",
      "c_array:  [ 1.00000000e+00 -1.42192213e-19]\n",
      "b_array:  [-2.61759413e-05  1.00000000e+00]\n",
      "c_array:  [ 1.00000000e+00 -1.74530682e-19]\n",
      "b_array:  [1.42860159e-06 1.00000000e+00]\n",
      "c_array:  [1.00000000e+00 7.73352227e-20]\n",
      "b_array:  [4.47150126e-07 1.00000000e+00]\n",
      "c_array:  [1.00000000e+00 5.66318799e-20]\n",
      "b_array:  [7.28000255e-07 1.00000000e+00]\n",
      "c_array:  [1.00000000e+00 5.25154909e-20]\n",
      "b_array:  [-6.6200863e-06  1.0000000e+00]\n",
      "c_array:  [1.00000000e+00 9.18622737e-21]\n",
      "b_array:  [-2.69115009e-05  1.00000000e+00]\n",
      "c_array:  [ 1.00000000e+00 -3.62147983e-20]\n",
      "b_array:  [-3.79385904e-05  1.00000000e+00]\n",
      "c_array:  [ 1.00000000e+00 -4.45850735e-20]\n",
      "b_array:  [2.01506161e-06 1.00000000e+00]\n",
      "c_array:  [1.00000000e+00 2.05038852e-20]\n",
      "b_array:  [7.18729558e-07 1.00000000e+00]\n",
      "c_array:  [1.00000000e+00 1.54227754e-20]\n",
      "b_array:  [1.01555625e-06 1.00000000e+00]\n",
      "c_array:  [1.00000000e+00 1.42987758e-20]\n",
      "b_array:  [-7.3477732e-06  1.0000000e+00]\n",
      "c_array:  [1.00000000e+00 4.01202658e-21]\n",
      "b_array:  [-2.9498211e-05  1.0000000e+00]\n",
      "c_array:  [ 1.00000000e+00 -5.50279424e-21]\n",
      "b_array:  [-4.03409121e-05  1.00000000e+00]\n",
      "c_array:  [ 1.00000000e+00 -7.27725573e-21]\n",
      "b_array:  [1.7897494e-06 1.0000000e+00]\n",
      "c_array:  [1.00000000e+00 5.97545164e-21]\n",
      "b_array:  [7.00739963e-07 1.00000000e+00]\n",
      "c_array:  [1.00000000e+00 4.57842226e-21]\n",
      "b_array:  [9.05470006e-07 1.00000000e+00]\n",
      "c_array:  [1.00000000e+00 4.24735301e-21]\n",
      "b_array:  [-5.39014089e-06  1.00000000e+00]\n",
      "c_array:  [1.00000000e+00 1.47304705e-21]\n",
      "b_array:  [-2.15070648e-05  1.00000000e+00]\n",
      "c_array:  [ 1.00000000e+00 -8.57890525e-22]\n",
      "b_array:  [-2.87944436e-05  1.00000000e+00]\n",
      "c_array:  [ 1.00000000e+00 -1.30555685e-21]\n",
      "b_array:  [1.13225964e-06 1.00000000e+00]\n",
      "c_array:  [1.00000000e+00 1.86380185e-21]\n",
      "b_array:  [4.20473838e-07 1.00000000e+00]\n",
      "c_array:  [1.00000000e+00 1.41357865e-21]\n",
      "b_array:  [5.70550734e-07 1.00000000e+00]\n",
      "c_array:  [1.00000000e+00 1.31081834e-21]\n",
      "b_array:  [-3.80474933e-06  1.00000000e+00]\n",
      "c_array:  [1.00000000e+00 4.07533524e-22]\n",
      "b_array:  [-1.52251609e-05  1.00000000e+00]\n",
      "c_array:  [ 1.00000000e+00 -3.93600326e-22]\n",
      "b_array:  [-2.06244732e-05  1.00000000e+00]\n",
      "c_array:  [ 1.00000000e+00 -5.44615519e-22]\n",
      "b_array:  [8.65209461e-07 1.00000000e+00]\n",
      "c_array:  [1.00000000e+00 5.59809463e-22]\n",
      "b_array:  [5.04721808e-07 1.00000000e+00]\n",
      "c_array:  [1.00000000e+00 4.70277494e-22]\n",
      "b_array:  [4.94162568e-07 1.00000000e+00]\n",
      "c_array:  [1.00000000e+00 4.41620509e-22]\n",
      "b_array:  [-6.33048409e-07  1.00000000e+00]\n",
      "c_array:  [1.00000000e+00 2.70432525e-22]\n",
      "b_array:  [-2.77076479e-06  1.00000000e+00]\n",
      "c_array:  [1.00000000e+00 1.92764427e-22]\n",
      "b_array:  [-3.34730016e-06  1.00000000e+00]\n",
      "c_array:  [1.0000000e+00 1.6785483e-22]\n",
      "b_array:  [1.53538543e-07 1.00000000e+00]\n",
      "c_array:  [1.00000000e+00 2.51684728e-22]\n"
     ]
    },
    {
     "name": "stderr",
     "output_type": "stream",
     "text": [
      "/var/folders/2h/xz8d592j62n7f363_sbw7ly00000gn/T/ipykernel_19751/928954295.py:232: MatplotlibDeprecationWarning: The get_cmap function was deprecated in Matplotlib 3.7 and will be removed in 3.11. Use ``matplotlib.colormaps[name]`` or ``matplotlib.colormaps.get_cmap()`` or ``pyplot.get_cmap()`` instead.\n",
      "  cmap = cm.get_cmap('tab10')  # choose 'tab10' or 'tab20'\n"
     ]
    },
    {
     "data": {
      "image/png": "[encoded data removed]",
      "text/plain": [
       "<Figure size 800x600 with 1 Axes>"
      ]
     },
     "metadata": {},
     "output_type": "display_data"
    }
   ],
   "source": [
    "import numpy as np\n",
    "import sympy as sp\n",
    "from typing import List, Tuple, Dict, Any, Set\n",
    "import matplotlib.cm as cm\n",
    "import matplotlib.pyplot as plt\n",
    "from scipy.integrate import solve_ivp\n",
    "class all_parameter_generation:\n",
    "    \"\"\"\n",
    "    Generate state transitions and random parameters (a, b, c, enzyme) for an n-site phosphorylation model.\n",
    "\n",
    "    Args:\n",
    "        n: number of sites (int)\n",
    "        distribution: distribution name (\"gamma\" supported)\n",
    "        params: parameters for the distribution (for gamma: [shape, scale])\n",
    "        verbose: if True, prints transitions and matrices\n",
    "    \"\"\"\n",
    "    def __init__(self, n: int, distribution: str = \"gamma\", params: List[float] = [1.0, 1.0],\n",
    "                 verbose: bool = False):\n",
    "        self.n = n\n",
    "        self.num_states = 2 ** n\n",
    "        self.distribution = distribution\n",
    "        self.params = params\n",
    "        self.verbose = verbose\n",
    "        self.rng = np.random.default_rng()\n",
    "\n",
    "    @staticmethod\n",
    "    def padded_binary(i: int, n: int) -> str:\n",
    "        return bin(i)[2:].zfill(n)\n",
    "\n",
    "    @staticmethod\n",
    "    def binary_string_to_array(string: str) -> np.ndarray:\n",
    "        return np.array([int(i) for i in string], dtype=int)\n",
    "\n",
    "    def calculate_valid_transitions(self) -> Tuple[List[List[Any]], List[List[Any]]]:\n",
    "        \"\"\"\n",
    "        Returns:\n",
    "            valid_E_reactions: list of [state_i_str, state_j_str, i, j, \"E\"]\n",
    "            valid_F_reactions: list of [state_i_str, state_j_str, i, j, \"F\"]\n",
    "        \"\"\"\n",
    "        all_states = [self.padded_binary(i, self.n) for i in range(self.num_states)]\n",
    "\n",
    "        valid_difference_vectors: Set[Tuple[int, ...]] = set()\n",
    "        valid_E_reactions: List[List[Any]] = []\n",
    "        valid_F_reactions: List[List[Any]] = []\n",
    "\n",
    "        for i in range(self.num_states):\n",
    "            arr_i = self.binary_string_to_array(all_states[i])\n",
    "            for j in range(self.num_states):\n",
    "                if i == j:\n",
    "                    continue\n",
    "                arr_j = self.binary_string_to_array(all_states[j])\n",
    "                diff = arr_j - arr_i\n",
    "                if np.sum(np.abs(diff)) == 1:\n",
    "                    # +1 -> phosphorylation (E), -1 -> dephosphorylation (F)\n",
    "                    element = \"E\" if np.any(diff == 1) else \"F\"\n",
    "                    if element == \"E\":\n",
    "                        if self.verbose:\n",
    "                            print(f\"{all_states[i]} --> {all_states[j]} (E), {i}, {j}\")\n",
    "                        valid_E_reactions.append([all_states[i], all_states[j], i, j, element])\n",
    "                    else:\n",
    "                        if self.verbose:\n",
    "                            print(f\"{all_states[i]} --> {all_states[j]} (F), {i}, {j}\")\n",
    "                        valid_F_reactions.append([all_states[i], all_states[j], i, j, element])\n",
    "                    valid_difference_vectors.add(tuple(diff))\n",
    "\n",
    "        return valid_E_reactions, valid_F_reactions\n",
    "\n",
    "    def alpha_parameter_generation(self) -> Tuple[np.ndarray, np.ndarray, np.ndarray, np.ndarray,\n",
    "                                            Dict[int, List[int]], Dict[int, List[int]],\n",
    "                                            Dict[int, List[int]], Dict[int, List[int]]]:\n",
    "        \n",
    "        valid_E_reactions, valid_F_reactions = self.calculate_valid_transitions()\n",
    "\n",
    "        shape, scale = self.params\n",
    "        # matrices are num_states x num_states\n",
    "\n",
    "        alpha_out_matrix = np.zeros((self.num_states, self.num_states))\n",
    "        alpha_in_matrix = np.zeros((self.num_states, self.num_states))\n",
    "\n",
    "        alpha_out: Dict[int, List[int]] = {}\n",
    "        alpha_in: Dict[int, List[int]] = {}\n",
    "        for _, _, i, j, _ in valid_E_reactions:\n",
    "            alpha_out.setdefault(i, []).append(j)\n",
    "            alpha_in.setdefault(j, []).append(i)\n",
    "            alpha_out_matrix[i, j] = self.rng.gamma(shape, scale)\n",
    "            alpha_in_matrix[j, i] = self.rng.gamma(shape, scale)\n",
    "\n",
    "        return alpha_out_matrix, alpha_in_matrix, alpha_out, alpha_in\n",
    "        # return (c_E_out_matrix, c_F_out_matrix, c_E_in_matrix, c_F_in_matrix,\n",
    "        #         cE_out, cF_out, cE_in, cF_in)\n",
    "\n",
    "    def beta_parameter_generation(self) -> Tuple[np.ndarray, np.ndarray, np.ndarray, np.ndarray,\n",
    "                                            Dict[int, List[int]], Dict[int, List[int]],\n",
    "                                            Dict[int, List[int]], Dict[int, List[int]]]:\n",
    "        \n",
    "        valid_E_reactions, valid_F_reactions = self.calculate_valid_transitions()\n",
    "\n",
    "        shape, scale = self.params\n",
    "\n",
    "        beta_out_matrix = np.zeros((self.num_states, self.num_states))\n",
    "        beta_in_matrix = np.zeros((self.num_states, self.num_states))\n",
    "\n",
    "        beta_out: Dict[int, List[int]] = {}\n",
    "        beta_in: Dict[int, List[int]] = {}\n",
    "        for _, _, i, j, _ in valid_F_reactions:\n",
    "            beta_out.setdefault(i, []).append(j)\n",
    "            beta_in.setdefault(j, []).append(i)\n",
    "            beta_out_matrix[i, j] = self.rng.gamma(shape, scale)\n",
    "            beta_in_matrix[j, i] = self.rng.gamma(shape, scale)\n",
    "\n",
    "        return beta_out_matrix, beta_in_matrix, beta_out, beta_in\n",
    "\n",
    "    def k_parameter_generation(self) -> Tuple[np.ndarray, np.ndarray]:\n",
    "        if self.distribution != \"gamma\":\n",
    "            raise NotImplementedError(\"Only 'gamma' distribution implemented for a_parameter_generation\")\n",
    "        shape, scale = self.params\n",
    "        k_positive_rates = self.rng.gamma(shape, scale, self.num_states)\n",
    "        k_negative_rates = self.rng.gamma(shape, scale, self.num_states)\n",
    "        return k_positive_rates, k_negative_rates\n",
    "\n",
    "    def p_parameter_generation(self) -> Tuple[np.ndarray, np.ndarray]:\n",
    "        \n",
    "        if self.distribution != \"gamma\":\n",
    "            raise NotImplementedError(\"Only 'gamma' distribution implemented for b_parameter_generation\")\n",
    "        shape, scale = self.params\n",
    "        p_positive_rates = self.rng.gamma(shape, scale, self.num_states)\n",
    "        p_negative_rates = self.rng.gamma(shape, scale, self.num_states)\n",
    "        return p_positive_rates, p_negative_rates\n",
    "\n",
    "\n",
    "import numpy as np\n",
    "from typing import List\n",
    "\n",
    "\n",
    "def generate_phosphorylation_ODES(t, state_array, n, alpha_in_matrix, alpha_in, beta_in_matrix, beta_in, k_positive_rates, k_negative_rates, p_positive_rates, p_negative_rates):\n",
    "\n",
    "    a_array = state_array[0: 2**n] # A = S\n",
    "    b_array = state_array[2**n: 2 * 2**n]\n",
    "    c_array = state_array[2 * 2**n: 3 * 2**n]\n",
    "    print(\"b_array: \", b_array)\n",
    "    print(\"c_array: \", c_array)\n",
    "    x_array = state_array[-2] # X = E, kinase\n",
    "    y_array = state_array[-1] # Y = F, phosphotase\n",
    "\n",
    "    a_dot = np.zeros_like(a_array, dtype=float)\n",
    "    b_dot = np.zeros_like(b_array, dtype=float)\n",
    "    c_dot = np.zeros_like(c_array, dtype=float)\n",
    "\n",
    "    for i in range(len(a_dot)):\n",
    "        E_term = 0\n",
    "        E_term += k_negative_rates[i] * b_array[i] - k_positive_rates[i] * x_array * a_array[i]\n",
    "        if 0 <= i < len(range(len(a_dot))):\n",
    "            a_dot[i] = k_negative_rates[i] * b_array[i] - k_positive_rates[i] * x_array * a_array[i]\n",
    "        else:\n",
    "            E_term += 0\n",
    "\n",
    "        F_term = 0\n",
    "        if 0 < i < len(range(len(a_dot))):\n",
    "            F_term += p_negative_rates[i] * c_array[i] - p_positive_rates[i] * y_array * a_array[i]\n",
    "\n",
    "        sum_cE = sum(alpha_in_matrix[k, i] * b_array[k] for k in alpha_in.get(i, [])) if i in alpha_in else 0\n",
    "        sum_cF = sum(beta_in_matrix[k, i] * c_array[k] for k in beta_in.get(i, [])) if i in beta_in else 0\n",
    "\n",
    "        a_dot[i] = E_term + F_term + sum_cE + sum_cF\n",
    "\n",
    "    for i in range(0, len(b_dot) - 1):\n",
    "        sum_b = np.sum(alpha_in_matrix[i, :])\n",
    "        b_dot[i] = k_positive_rates[i] * x_array * a_array[i] - k_negative_rates[i] * b_array[i] - sum_b * b_array[i]\n",
    "\n",
    "    for i in range(1, len(c_dot)):\n",
    "        sum_c = np.sum(beta_in_matrix[i, :])\n",
    "        c_dot[i] = p_positive_rates[i] * y_array * a_array[i] - p_negative_rates[i] * c_array[i] - sum_c * c_array[i]\n",
    "\n",
    "    x_dot = sum(-k_positive_rates[j] * x_array * a_array[j] + (k_negative_rates[j] + np.sum(alpha_in_matrix[j, :])) * b_array[j] for j in range(len(b_array))); \n",
    "    y_dot = sum(-p_positive_rates[j] * y_array * a_array[j] + (p_negative_rates[j] + np.sum(beta_in_matrix[j, :])) * c_array[j] for j in range(len(c_array))); \n",
    "\n",
    "    # if (np.sum(a_dot) + np.sum(b_dot) + np.sum(c_dot)) <= 1e-5:\n",
    "    #     print(\"Conservation of a is respected.\")\n",
    "\n",
    "    # if (np.sum(b_dot) + x_dot) <= 1e-5:\n",
    "    #     print(\"Conservation of b is respected.\")\n",
    "\n",
    "    # if (np.sum(c_dot) + y_dot) <= 1e-5:\n",
    "    #     print(\"Conservation of c is respected.\")\n",
    "\n",
    "    # print()\n",
    "    # print(\"a_dot_array: \", a_dot)\n",
    "    # print(\"b_dot_array: \", b_dot)\n",
    "    # print(\"c_dot_array: \", c_dot)\n",
    "    # print(\"x_dot_array: \", x_dot)\n",
    "    # print(\"y_dot_array: \", y_dot)\n",
    "    # print()\n",
    "\n",
    "    \n",
    "    final_state_array = np.concatenate((a_dot, b_dot, c_dot))\n",
    "    return final_state_array\n",
    "\n",
    "n = 1\n",
    "gen = all_parameter_generation(n, distribution = \"gamma\", params=(1, 1), verbose=False)\n",
    "\n",
    "alpha_out_matrix, alpha_in_matrix, alpha_out, alpha_in = gen.alpha_parameter_generation()\n",
    "beta_out_matrix, beta_in_matrix, beta_out, beta_in = gen.beta_parameter_generation()\n",
    "\n",
    "k_positive_rates, k_negative_rates = gen.k_parameter_generation()\n",
    "p_positive_rates, p_negative_rates = gen.p_parameter_generation()\n",
    "distribution_params = [1.0, 1.0]\n",
    "\n",
    "######################\n",
    "k_positive_rates_custom = [1, 1] # a_E\n",
    "k_negative_rates_custom = [1, 1] # a_E\n",
    "p_positive_rates_custom = [1, 1]   # b_E\n",
    "p_negative_rates_custom = [1, 1]   # b_E\n",
    "alpha_out_matrix_custom = np.array([[0, 1], [0, 0]])\n",
    "alpha_out_custom = alpha_out \n",
    "beta_out_matrix_custom = np.array([[0, 0], [1, 0]])\n",
    "beta_out_custom = beta_out \n",
    "\n",
    "\n",
    "######################\n",
    "params = (n, alpha_out_matrix_custom, alpha_out_custom, beta_out_matrix_custom, beta_out_custom, k_positive_rates_custom, k_negative_rates_custom, p_positive_rates_custom, p_negative_rates_custom)\n",
    "\n",
    "# params = (n, \"gamma\", 1, 1, alpha_out_matrix, alpha_in_matrix, alpha_out, alpha_in, beta_out_matrix, beta_in_matrix, beta_out, beta_in, k_positive_rates, k_negative_rates, p_positive_rates, p_negative_rates)\n",
    "initial_states_array = np.random.randint(1, 2, 3 * (2**n))\n",
    "\n",
    "# state_array = generate_phosphorylation_ODES(1, initial_states_array, params_list)\n",
    "# print(state_array)\n",
    "\n",
    "t_span = (0, 50); t_array = np.linspace(t_span[0], t_span[1], 500)\n",
    "sol = solve_ivp(generate_phosphorylation_ODES, t_span = t_span, t_eval = t_array, y0=np.asarray(initial_states_array, dtype=float), args = params)\n",
    "# num_phos = sol.shape[1]\n",
    "\n",
    "cmap = cm.get_cmap('tab10')  # choose 'tab10' or 'tab20'\n",
    "\n",
    "def color_for_species(idx):\n",
    "    return cmap(idx % cmap.N)\n",
    "plt.figure(figsize = (8, 6))\n",
    "plt.ylabel(\"Concentration\")\n",
    "plt.xlabel(\"Time (s)\")\n",
    "plt.minorticks_on()\n",
    "plt.tight_layout()\n",
    "num_phos = len(sol.y)\n",
    "for i in range(num_phos):\n",
    "    color = color_for_species(i)\n",
    "    if i == 0 or i == 1:\n",
    "        label = f\"$A_{i}$\"\n",
    "        plt.plot(sol.t, sol.y[i], color=color, label=label)\n",
    "    if i == 2:\n",
    "        label = f\"$B_{0}$\"\n",
    "        plt.plot(sol.t, sol.y[i], color=color, label=label)\n",
    "    if i == 3:\n",
    "        label = f\"$C_{1}$\"\n",
    "        plt.plot(sol.t, sol.y[i], color=color, label=label)\n",
    "    if i == 4:\n",
    "        label = f\"$X$\"\n",
    "        plt.plot(sol.t, sol.y[i], color=color, label=label)\n",
    "    if i == 5:\n",
    "        label = f\"$Y$\"\n",
    "        plt.plot(sol.t, sol.y[i], color=color, label=label)\n",
    "    # else: \n",
    "    #     plt.plot(sol.t, sol.y[i], color=color, label = f\"Species {i}\")\n",
    "plt.legend()\n",
    "plt.show()"
   ]
  },
  {
   "cell_type": "code",
   "execution_count": 272,
   "id": "366586c3",
   "metadata": {},
   "outputs": [],
   "source": [
    "def padded_binary(i: int, n: int) -> str:\n",
    "    return bin(i)[2:].zfill(n)\n",
    "\n",
    "# Replace this method in your class\n",
    "@staticmethod\n",
    "def binary_string_to_array(string: str) -> np.ndarray:\n",
    "    # use a comprehension so we don't rely on the builtin `list` name being callable\n",
    "    return np.array([int(ch) for ch in string], dtype=int)\n",
    "\n",
    "def calculate_valid_transitions(n: int):\n",
    "    num_states = 2**n\n",
    "    all_states = [padded_binary(i, n) for i in range(num_states)]\n",
    "    \n",
    "    # print(f\"Total number of states: {num_states}\")\n",
    "    # print(\"Valid single-step transitions:\")\n",
    "\n",
    "    valid_difference_vectors = set()\n",
    "    \n",
    "    valid_X_reactions = [] # distributively\n",
    "    valid_Y_reactions = [] # distributively\n",
    "\n",
    "    for i in range(num_states):\n",
    "        for j in range(num_states):\n",
    "            # Do not consider transitions from a state to itself\n",
    "            if i == j:\n",
    "                continue\n",
    "\n",
    "            if np.sum(np.abs(binary_string_to_array(all_states[j]) - binary_string_to_array(all_states[i]))) == 1:\n",
    "                # Determine if it's a phosphorylation or dephosphorylation event\n",
    "                # A +1 indicates phosphorylation, a -1 indicates dephosphorylation\n",
    "                element = \"X\" if np.any(binary_string_to_array(all_states[j]) - binary_string_to_array(all_states[i]) == 1) else \"Y\"\n",
    "                \n",
    "                if element == \"X\":\n",
    "                    print(f\"{all_states[i]} --> {all_states[j]} ({element}), {i}, {j}\")\n",
    "                    valid_X_reactions.append([all_states[i], all_states[j], i, j, element])\n",
    "                if element == \"Y\":\n",
    "                    print(f\"{all_states[i]} --> {all_states[j]} ({element}), {i}, {j}\")\n",
    "                    valid_Y_reactions.append([all_states[i], all_states[j], i, j, element])\n",
    "\n",
    "                valid_difference_vectors.add(tuple(binary_string_to_array(all_states[j]) - binary_string_to_array(all_states[i])))\n",
    "\n",
    "    return valid_X_reactions, valid_Y_reactions"
   ]
  },
  {
   "cell_type": "code",
   "execution_count": 301,
   "id": "00211ff3",
   "metadata": {},
   "outputs": [
    {
     "name": "stdout",
     "output_type": "stream",
     "text": [
      "00 --> 01 (X), 0, 1\n",
      "00 --> 10 (X), 0, 2\n",
      "01 --> 00 (Y), 1, 0\n",
      "01 --> 11 (X), 1, 3\n",
      "10 --> 00 (Y), 2, 0\n",
      "10 --> 11 (X), 2, 3\n",
      "11 --> 01 (Y), 3, 1\n",
      "11 --> 10 (Y), 3, 2\n"
     ]
    }
   ],
   "source": [
    "n = 2\n",
    "valid_X_reactions, valid_Y_reactions = calculate_valid_transitions(n)"
   ]
  },
  {
   "cell_type": "code",
   "execution_count": null,
   "id": "8d6bcce7",
   "metadata": {},
   "outputs": [
    {
     "name": "stdout",
     "output_type": "stream",
     "text": [
      "[[0. 1. 1. 0.]\n",
      " [0. 0. 0. 1.]\n",
      " [0. 0. 0. 1.]\n",
      " [0. 0. 0. 0.]]\n"
     ]
    }
   ],
   "source": [
    "alpha_matrix = np.zeros((2**n, 2**n))\n",
    "for _, _, i, j, _ in valid_X_reactions:\n",
    "    # alpha_out.setdefault(i, []).append(j)\n",
    "    # alpha_in.setdefault(j, []).append(i)\n",
    "    alpha_matrix[i][j] = 1\n",
    "\n",
    "print(alpha_matrix)"
   ]
  },
  {
   "cell_type": "code",
   "execution_count": 303,
   "id": "00608456",
   "metadata": {},
   "outputs": [
    {
     "name": "stdout",
     "output_type": "stream",
     "text": [
      "[[0. 0. 0. 0.]\n",
      " [1. 0. 0. 0.]\n",
      " [1. 0. 0. 0.]\n",
      " [0. 1. 1. 0.]]\n"
     ]
    }
   ],
   "source": [
    "beta_matrix = np.zeros((2**n, 2**n))\n",
    "for _, _, i, j, _ in valid_Y_reactions:\n",
    "    # alpha_out.setdefault(i, []).append(j)\n",
    "    # alpha_in.setdefault(j, []).append(i)\n",
    "    beta_matrix[i][j] = 1\n",
    "\n",
    "print(beta_matrix)"
   ]
  },
  {
   "cell_type": "code",
   "execution_count": null,
   "id": "b501f8c9",
   "metadata": {},
   "outputs": [
    {
     "name": "stdout",
     "output_type": "stream",
     "text": [
      "2.0\n",
      "1.0\n",
      "1.0\n",
      "0.0\n"
     ]
    }
   ],
   "source": [
    "for i in range(0, 4):\n",
    "    print(np.sum(X_matrix[i, :])) \n",
    "    # = X_matrix[0, 1] + X_matrix[0, 2]\n",
    "    # = X_matrix[1, 3]\n",
    "    # = X_matrix[2, 3]\n",
    "    # = 0\n"
   ]
  },
  {
   "cell_type": "code",
   "execution_count": 187,
   "id": "5be6feae",
   "metadata": {},
   "outputs": [
    {
     "name": "stdout",
     "output_type": "stream",
     "text": [
      "0.0\n",
      "1.0\n",
      "1.0\n",
      "2.0\n"
     ]
    }
   ],
   "source": [
    "for i in range(0, 4):\n",
    "    print(np.sum(X_matrix[:, i]))"
   ]
  },
  {
   "cell_type": "code",
   "execution_count": 193,
   "id": "61971401",
   "metadata": {},
   "outputs": [
    {
     "name": "stdout",
     "output_type": "stream",
     "text": [
      "[ 2  3  5  6  8 10]\n",
      "[2 3 5 6 8]\n"
     ]
    }
   ],
   "source": [
    "test = np.array([2, 3, 5, 6, 8, 10])\n",
    "print(test)\n",
    "test_new = np.delete(test, len(test) - 1)\n",
    "print(test_new)\n"
   ]
  },
  {
   "cell_type": "code",
   "execution_count": 195,
   "id": "97320ff0",
   "metadata": {},
   "outputs": [
    {
     "name": "stdout",
     "output_type": "stream",
     "text": [
      "[1. 1.]\n"
     ]
    }
   ],
   "source": [
    "print(np.ones(2))"
   ]
  },
  {
   "cell_type": "code",
   "execution_count": 293,
   "id": "1fe77233",
   "metadata": {},
   "outputs": [
    {
     "name": "stdout",
     "output_type": "stream",
     "text": [
      "initial_state_array:  [1. 1. 1. 1. 2. 2. 2. 2. 3. 3. 3. 3. 1. 1.] , len: 14\n",
      "\n",
      "a_array:  [1. 1. 1. 1.] , len: 4\n",
      "b_array:  [2. 2. 2. 2.] , len: 4\n",
      "c_array:  [3. 3. 3. 3.] , len: 4\n",
      "x_array:  1.0\n",
      "y_array:  1.0\n"
     ]
    }
   ],
   "source": [
    "n = 2\n",
    "initial_states_array = np.concatenate((np.ones(2**n), np.full(2**n, 2), np.full(2**n, 3), np.ones(2)))\n",
    "print(\"initial_state_array: \",initial_states_array, \", len:\", len(initial_states_array))\n",
    "print()\n",
    "a_array = initial_states_array[0: 2**n]\n",
    "b_array = initial_states_array[2**n: 2 * 2**n] # B = XA = ES\n",
    "c_array = initial_states_array[2 * 2**n: -2] # C = YA = FS\n",
    "# x_array = initial_states_array[-2] # X = E, kinase\n",
    "# y_array = initial_states_array[-1] # Y = F, phosphotase\n",
    "print(\"a_array: \", a_array, \", len:\", len(a_array))\n",
    "print(\"b_array: \", b_array, \", len:\", len(b_array))\n",
    "print(\"c_array: \", c_array, \", len:\", len(c_array))\n",
    "print(\"x_array: \", initial_states_array[-2])\n",
    "print(\"y_array: \", initial_states_array[-1])"
   ]
  },
  {
   "cell_type": "code",
   "execution_count": null,
   "id": "a023e6c3",
   "metadata": {},
   "outputs": [
    {
     "name": "stdout",
     "output_type": "stream",
     "text": [
      "[1 1 1 0]\n",
      "[0 1 1 1]\n"
     ]
    }
   ],
   "source": [
    "B_array = np.insert(np.full(2**n - 1, 1), 2**n - 1, 0)\n",
    "C_array = np.insert(np.full(2**n - 1, 1), 0, 0)\n",
    "\n",
    "print(B_array)\n",
    "print(C_array)\n",
    "# print(np.append(np.full(2**n - 1, 1), 0))"
   ]
  },
  {
   "cell_type": "code",
   "execution_count": null,
   "id": "4188b0ef",
   "metadata": {},
   "outputs": [],
   "source": []
  },
  {
   "cell_type": "code",
   "execution_count": 280,
   "id": "a068d42b",
   "metadata": {},
   "outputs": [
    {
     "data": {
      "text/latex": [
       "$\\displaystyle \\frac{Y {A}_{1}}{X}$"
      ],
      "text/plain": [
       "Y*A[1]/X"
      ]
     },
     "execution_count": 280,
     "metadata": {},
     "output_type": "execute_result"
    }
   ],
   "source": [
    "from sympy import solve\n",
    "# from sympy.abc import A0, A1, B0, C1, X, Y\n",
    "X = sp.Symbol('X'); Y = sp.Symbol('Y')\n",
    "A = sp.IndexedBase('A')\n",
    "B = sp.IndexedBase('B')\n",
    "C = sp.IndexedBase('C')\n",
    "solutions = solve([-X*A[0] + B[0] + C[1], -Y*A[1] + C[1] + B[0], X*A[0] - 2*B[0], Y*A[1] - 2*C[1], -X*A[0] + 2*B[0], -Y*A[1] + 2*C[1]], [A[0], A[1], B[0], C[1], X, Y], dict=True)\n",
    "solutions[0][A[0]]\n"
   ]
  },
  {
   "cell_type": "code",
   "execution_count": 281,
   "id": "92da032a",
   "metadata": {},
   "outputs": [
    {
     "data": {
      "text/latex": [
       "$\\displaystyle \\frac{Y {A}_{1}}{2}$"
      ],
      "text/plain": [
       "Y*A[1]/2"
      ]
     },
     "execution_count": 281,
     "metadata": {},
     "output_type": "execute_result"
    }
   ],
   "source": [
    "solutions[0][B[0]]"
   ]
  },
  {
   "cell_type": "code",
   "execution_count": 282,
   "id": "860b9be5",
   "metadata": {},
   "outputs": [
    {
     "data": {
      "text/latex": [
       "$\\displaystyle \\frac{Y {A}_{1}}{2}$"
      ],
      "text/plain": [
       "Y*A[1]/2"
      ]
     },
     "execution_count": 282,
     "metadata": {},
     "output_type": "execute_result"
    }
   ],
   "source": [
    "solutions[0][C[1]]"
   ]
  },
  {
   "cell_type": "code",
   "execution_count": 318,
   "id": "fa8e7591",
   "metadata": {},
   "outputs": [
    {
     "name": "stdout",
     "output_type": "stream",
     "text": [
      "0\n",
      "1\n",
      "2\n"
     ]
    }
   ],
   "source": [
    "n = 2\n",
    "for i in range(0, 2**n):\n",
    "    if 0 <= i < 2**n - 1:\n",
    "        print(i)\n"
   ]
  },
  {
   "cell_type": "code",
   "execution_count": 320,
   "id": "8e2e5e8b",
   "metadata": {},
   "outputs": [
    {
     "name": "stdout",
     "output_type": "stream",
     "text": [
      "1\n",
      "2\n",
      "3\n"
     ]
    }
   ],
   "source": [
    "for i in range(0, 2**n):\n",
    "    if 0 < i < 2**n:\n",
    "        print(i)"
   ]
  },
  {
   "cell_type": "code",
   "execution_count": 352,
   "id": "e91f95fd",
   "metadata": {},
   "outputs": [],
   "source": [
    "n = 1\n",
    "state_array = np.array([1, 1, 2, 2, 3, 3, 1, 1]) # A0, A1, B0, B1, C0, C1, X, Y\n",
    "\n",
    "a_array = state_array[0: 2**n]\n",
    "b_array = state_array[2**n: 2*2**n] # B = XA = ES\n",
    "c_array = state_array[2*2**n: 3 * 2**n] # C = YA = FS\n",
    "x_array = state_array[-2] # X = E, kinase\n",
    "y_array = state_array[-1] # Y = F, phosphotase"
   ]
  },
  {
   "cell_type": "code",
   "execution_count": 353,
   "id": "4e705abe",
   "metadata": {},
   "outputs": [
    {
     "name": "stdout",
     "output_type": "stream",
     "text": [
      "[1 1]\n",
      "[2 2]\n",
      "[3 3]\n"
     ]
    }
   ],
   "source": [
    "print(a_array)\n",
    "print(b_array)\n",
    "print(c_array)"
   ]
  },
  {
   "cell_type": "code",
   "execution_count": 374,
   "id": "11857624",
   "metadata": {},
   "outputs": [
    {
     "name": "stdout",
     "output_type": "stream",
     "text": [
      "00 --> 01 (X), 0, 1\n",
      "00 --> 10 (X), 0, 2\n",
      "01 --> 00 (Y), 1, 0\n",
      "01 --> 11 (X), 1, 3\n",
      "10 --> 00 (Y), 2, 0\n",
      "10 --> 11 (X), 2, 3\n",
      "11 --> 01 (Y), 3, 1\n",
      "11 --> 10 (Y), 3, 2\n",
      "[[0. 1. 1. 0.]\n",
      " [0. 0. 0. 1.]\n",
      " [0. 0. 0. 1.]\n",
      " [0. 0. 0. 0.]]\n",
      "[[0. 1. 1. 0.]\n",
      " [0. 0. 0. 0.]\n",
      " [0. 0. 0. 0.]\n",
      " [0. 0. 0. 0.]]\n",
      "[[2. 0. 0. 0.]\n",
      " [0. 0. 0. 0.]\n",
      " [0. 0. 0. 0.]\n",
      " [0. 0. 0. 0.]]\n"
     ]
    }
   ],
   "source": [
    "n = 2\n",
    "valid_X_reactions, valid_Y_reactions = calculate_valid_transitions(n)\n",
    "alpha_matrix = np.zeros((2**n, 2**n))\n",
    "for _, _, i, j, _ in valid_X_reactions:\n",
    "    # alpha_out.setdefault(i, []).append(j)\n",
    "    # alpha_in.setdefault(j, []).append(i)\n",
    "    alpha_matrix[i][j] = 1\n",
    "\n",
    "print(alpha_matrix)\n",
    "alpha_matrix.T[:, 2**n - 1] = 0\n",
    "alpha_matrix.T[2**n - 1, :] = 0\n",
    "print(alpha_matrix)\n",
    "D_Alpha = np.diag(np.sum(alpha_matrix, axis=1))\n",
    "print(D_Alpha)\n"
   ]
  },
  {
   "cell_type": "code",
   "execution_count": null,
   "id": "888c74a5",
   "metadata": {},
   "outputs": [],
   "source": []
  },
  {
   "cell_type": "code",
   "execution_count": 365,
   "id": "40b2951e",
   "metadata": {},
   "outputs": [
    {
     "name": "stdout",
     "output_type": "stream",
     "text": [
      "[1 2 3 0 0 6 7 8]\n"
     ]
    }
   ],
   "source": [
    "initial_states_array = np.array([1, 2, 3, 4, 5, 6, 7, 8]) # A0, A1, B0, B1, C0, C1, X, Y\n",
    "# however, need to force b_n = 0 and c_0 = 0\n",
    "initial_states_array[2**n + 1] = 0 # B1 = 0\n",
    "initial_states_array[2**n + 2] = 0 # C0 = 0\n",
    "print(initial_states_array)"
   ]
  },
  {
   "cell_type": "code",
   "execution_count": null,
   "id": "60dc845f",
   "metadata": {},
   "outputs": [
    {
     "name": "stdout",
     "output_type": "stream",
     "text": [
      "Original matrix:\n",
      "[[1 2 3]\n",
      " [4 5 6]\n",
      " [7 8 9]]\n",
      "\n",
      "Matrix after setting the second column to zero:\n",
      "[[0 0 0]\n",
      " [0 5 6]\n",
      " [0 8 9]]\n"
     ]
    }
   ],
   "source": [
    "import numpy as np\n",
    "\n",
    "# Create a sample NumPy matrix\n",
    "matrix = np.array([[0, 1, 3],\n",
    "                   [4, 5, 6],\n",
    "                   [7, 8, 9]])\n",
    "\n",
    "print(\"Original matrix:\")\n",
    "print(matrix)\n",
    "\n",
    "# Set the second column (index 1) to zero\n",
    "matrix[:, 0] = 0\n",
    "matrix[0, :] = 0\n",
    "\n",
    "print(\"\\nMatrix after setting the second column to zero:\")\n",
    "print(matrix)"
   ]
  },
  {
   "cell_type": "code",
   "execution_count": 395,
   "id": "a6b5c52d",
   "metadata": {},
   "outputs": [
    {
     "name": "stdout",
     "output_type": "stream",
     "text": [
      "00 --> 01 (X), 0 -> 1\n",
      "00 --> 10 (X), 0 -> 2\n",
      "01 --> 00 (Y), 1 -> 0\n",
      "01 --> 11 (X), 1 -> 3\n",
      "10 --> 00 (Y), 2 -> 0\n",
      "10 --> 11 (X), 2 -> 3\n",
      "11 --> 01 (Y), 3 -> 1\n",
      "11 --> 10 (Y), 3 -> 2\n"
     ]
    },
    {
     "data": {
      "text/plain": [
       "([['00', '01', 0, 1, 'X'],\n",
       "  ['00', '10', 0, 2, 'X'],\n",
       "  ['01', '11', 1, 3, 'X'],\n",
       "  ['10', '11', 2, 3, 'X']],\n",
       " [['01', '00', 1, 0, 'Y'],\n",
       "  ['10', '00', 2, 0, 'Y'],\n",
       "  ['11', '01', 3, 1, 'Y'],\n",
       "  ['11', '10', 3, 2, 'Y']])"
      ]
     },
     "execution_count": 395,
     "metadata": {},
     "output_type": "execute_result"
    }
   ],
   "source": [
    "def padded_binary(i: int, n: int) -> str:\n",
    "    return bin(i)[2:].zfill(n)\n",
    "\n",
    "# Replace this method in your class\n",
    "@staticmethod\n",
    "def binary_string_to_array(string: str) -> np.ndarray:\n",
    "    # use a comprehension so we don't rely on the builtin `list` name being callable\n",
    "    return np.array([int(ch) for ch in string], dtype=int)\n",
    "\n",
    "def calculate_valid_transitions(n: int):\n",
    "    num_states = 2**n\n",
    "    all_states = [padded_binary(i, n) for i in range(num_states)]\n",
    "    \n",
    "    # print(f\"Total number of states: {num_states}\")\n",
    "    # print(\"Valid single-step transitions:\")\n",
    "\n",
    "    valid_difference_vectors = set()\n",
    "    \n",
    "    valid_X_reactions = [] # distributively\n",
    "    valid_Y_reactions = [] # distributively\n",
    "\n",
    "    for i in range(num_states):\n",
    "        for j in range(num_states):\n",
    "            # Do not consider transitions from a state to itself\n",
    "            if i == j:\n",
    "                continue\n",
    "\n",
    "            if np.sum(np.abs(binary_string_to_array(all_states[j]) - binary_string_to_array(all_states[i]))) == 1:\n",
    "                # Determine if it's a phosphorylation or dephosphorylation event\n",
    "                # A +1 indicates phosphorylation, a -1 indicates dephosphorylation\n",
    "                element = \"X\" if np.any(binary_string_to_array(all_states[j]) - binary_string_to_array(all_states[i]) == 1) else \"Y\"\n",
    "                \n",
    "                if element == \"X\":\n",
    "                    print(f\"{all_states[i]} --> {all_states[j]} ({element}), {i} -> {j}\")\n",
    "                    valid_X_reactions.append([all_states[i], all_states[j], i, j, element])\n",
    "                if element == \"Y\":\n",
    "                    print(f\"{all_states[i]} --> {all_states[j]} ({element}), {i} -> {j}\")\n",
    "                    valid_Y_reactions.append([all_states[i], all_states[j], i, j, element])\n",
    "\n",
    "                valid_difference_vectors.add(tuple(binary_string_to_array(all_states[j]) - binary_string_to_array(all_states[i])))\n",
    "\n",
    "    return valid_X_reactions, valid_Y_reactions\n",
    "n = 2\n",
    "calculate_valid_transitions(2)"
   ]
  },
  {
   "cell_type": "code",
   "execution_count": null,
   "id": "36260d1e",
   "metadata": {},
   "outputs": [
    {
     "name": "stdout",
     "output_type": "stream",
     "text": [
      "Matrix([[b_0], [0]])\n",
      "Matrix([[0], [c_1]])\n",
      "0 --> 1 (X), 0 -> 1\n",
      "1 --> 0 (Y), 1 -> 0\n",
      "0 --> 1 (X), 0 -> 1\n",
      "1 --> 0 (Y), 1 -> 0\n",
      "Alpha matrix:\n",
      "⎡0  α₀ ₁⎤\n",
      "⎢       ⎥\n",
      "⎣0   0  ⎦\n",
      "Beta matrix:\n",
      "⎡ 0    0⎤\n",
      "⎢       ⎥\n",
      "⎣β₁ ₀  0⎦\n"
     ]
    },
    {
     "data": {
      "text/latex": [
       "$\\displaystyle - a_{1} k^{+}_{1} x - a_{1} p^{+}_{1} y + \\alpha_{0 1} b_{0} + c_{1} p^{-}_{1}$"
      ],
      "text/plain": [
       "-a_1*k^+_1*x - a_1*p^+_1*y + alpha_0_1*b_0 + c_1*p^-_1"
      ]
     },
     "execution_count": 401,
     "metadata": {},
     "output_type": "execute_result"
    }
   ],
   "source": [
    "import sympy as sp\n",
    "\n",
    "def build_phos_odes(n, prefix=\"\"):\n",
    "    \"\"\"\n",
    "    Build symbolic ODEs for the phosphorylation system for given n (N = 2**n).\n",
    "    Returns a dict with keys:\n",
    "      N, a, b, c, x, y,\n",
    "      Kp, Km, Pp, Pm, Alpha, Beta, DAlpha, DBeta,\n",
    "      adot, bdot, cdot, xdot, ydot,\n",
    "      ones (vector of ones)\n",
    "    \"\"\"\n",
    "    N = 2**n\n",
    "    a_syms = sp.symbols([f\"{prefix}a_{i}\" for i in range(N)])\n",
    "    b_syms = sp.symbols([f\"{prefix}b_{i}\" for i in range(N)])\n",
    "    c_syms = sp.symbols([f\"{prefix}c_{i}\" for i in range(N)])\n",
    "    x_sym, y_sym = sp.symbols(f\"{prefix}x {prefix}y\")\n",
    "\n",
    "    a = sp.Matrix(N, 1, lambda i,j: a_syms[i])\n",
    "    b = sp.Matrix(N, 1, lambda i,j: b_syms[i])\n",
    "    b[-1] = 0\n",
    "    print(b)\n",
    "    c = sp.Matrix(N, 1, lambda i,j: c_syms[i])\n",
    "    c[0] = 0\n",
    "\n",
    "    print(c)\n",
    "\n",
    "    x = x_sym\n",
    "    y = y_sym\n",
    "\n",
    "    kplus = sp.symbols([f\"{prefix}k^+_{i}\" for i in range(N)])\n",
    "    kminus = sp.symbols([f\"{prefix}k^-_{i}\" for i in range(N)])\n",
    "    pplus = sp.symbols([f\"{prefix}p^+_{i}\" for i in range(N)])\n",
    "    pminus = sp.symbols([f\"{prefix}p^-_{i}\" for i in range(N)])\n",
    "\n",
    "    Kp = sp.diag(*kplus)\n",
    "    Km = sp.diag(*kminus)\n",
    "    Pp = sp.diag(*pplus)\n",
    "    Pm = sp.diag(*pminus)\n",
    "\n",
    "    valid_X_reactions, valid_Y_reactions = calculate_valid_transitions(n)\n",
    "\n",
    "    # compute allowed transitions\n",
    "    valid_X, valid_Y = calculate_valid_transitions(n)\n",
    "    \n",
    "    # Build Alpha and Beta with symbols only at allowed (j,k)\n",
    "    Alpha = sp.zeros(N, N)\n",
    "    Beta  = sp.zeros(N, N)\n",
    "    # create symbols for allowed entries\n",
    "    for (_, _, j,k, _) in valid_X:\n",
    "        Alpha[j,k] = sp.symbols(f\"{prefix}alpha_{j}_{k}\")\n",
    "    for (_, _, j,k, _) in valid_Y:\n",
    "        Beta[j,k] = sp.symbols(f\"{prefix}beta_{j}_{k}\")\n",
    "      \n",
    "    # Set last column and row of Alpha to zero (no transitions from or to fully phosphorylated state)\n",
    "    # Alpha[:, N-1] = sp.zeros(N, 1)\n",
    "    # Alpha[N-1, :] = sp.zeros(1, N)\n",
    "    # # Set first column and row of Beta to zero (no transitions from or to fully de\n",
    "    # Beta[:, 0] = sp.zeros(N, 1)\n",
    "    # Beta[0, :] = sp.zeros(1, N)\n",
    "    print(\"Alpha matrix:\")\n",
    "    sp.pprint(Alpha)\n",
    "    print(\"Beta matrix:\")\n",
    "    sp.pprint(Beta)\n",
    "    ones = sp.Matrix([1]*N)\n",
    "    Alpha_row_sums = Alpha * ones\n",
    "    Beta_row_sums = Beta * ones\n",
    "    DAlpha = sp.diag(*[Alpha_row_sums[i,0] for i in range(N)])\n",
    "    DBeta  = sp.diag(*[Beta_row_sums[i,0]  for i in range(N)])\n",
    "\n",
    "    # a_adjusted_for_b_dot = a.copy(); a_adjusted_for_b_dot[-1] = 0\n",
    "    # a_adjusted_for_c_dot = a.copy(); a_adjusted_for_c_dot[0] = 0\n",
    "\n",
    "    # a_adjusted_for_x_dot = a.copy(); a_adjusted_for_x_dot[-1] = 0\n",
    "    # a_adjusted_for_y_dot = a.copy(); a_adjusted_for_y_dot[0] = 0\n",
    "\n",
    "    adot = Km * b + Pm * c + Alpha.T * b + Beta.T * c - x * (Kp * a) - y * (Pp * a)\n",
    "    bdot = x * (Kp * a) - Km * b - DAlpha * b\n",
    "    cdot = y * (Pp * a) - Pm * c - DBeta * c\n",
    "\n",
    "    kplus_vec = sp.Matrix(kplus)\n",
    "    pplus_vec = sp.Matrix(pplus)\n",
    "\n",
    "    xdot = - x * (kplus_vec.T * a)[0] + (ones.T * (Km + DAlpha) * b)[0]\n",
    "    ydot = - y * (pplus_vec.T * a)[0] + (ones.T * (Pm + DBeta) * c)[0]\n",
    "    \n",
    "    return {\n",
    "        \"N\": N,\n",
    "        \"a\": a, \"b\": b, \"c\": c, \"x\": x, \"y\": y,\n",
    "        \"Kp\": Kp, \"Km\": Km, \"Pp\": Pp, \"Pm\": Pm,\n",
    "        \"Alpha\": Alpha, \"Beta\": Beta,\n",
    "        \"DAlpha\": DAlpha, \"DBeta\": DBeta,\n",
    "        \"ones\": ones,\n",
    "        \"adot\": sp.simplify(adot), \"bdot\": sp.simplify(bdot), \"cdot\": sp.simplify(cdot),\n",
    "        \"xdot\": sp.simplify(xdot), \"ydot\": sp.simplify(ydot)\n",
    "    }\n",
    "\n",
    "# Example: build symbolic ODEs for n=2 (N=4)\n",
    "n = 1\n",
    "odes = build_phos_odes(n)\n",
    "odes[\"adot\"][1]\n",
    "# sp.pprint(odes[\"adot\"])\n",
    "# sp.pprint(odes[\"bdot\"])\n",
    "# sp.pprint(odes[\"cdot\"])\n",
    "# sp.pprint(odes[\"xdot\"])\n",
    "# sp.pprint(odes[\"ydot\"])\n"
   ]
  },
  {
   "cell_type": "code",
   "execution_count": 404,
   "id": "7247e439",
   "metadata": {},
   "outputs": [
    {
     "data": {
      "text/latex": [
       "$\\displaystyle a_{0} k^{+}_{0} x - \\alpha_{0 1} b_{0} - b_{0} k^{-}_{0}$"
      ],
      "text/plain": [
       "a_0*k^+_0*x - alpha_0_1*b_0 - b_0*k^-_0"
      ]
     },
     "execution_count": 404,
     "metadata": {},
     "output_type": "execute_result"
    }
   ],
   "source": [
    "odes[\"bdot\"][0]\n"
   ]
  },
  {
   "cell_type": "code",
   "execution_count": 403,
   "id": "b45c75d6",
   "metadata": {},
   "outputs": [
    {
     "data": {
      "text/latex": [
       "$\\displaystyle a_{1} k^{+}_{1} x$"
      ],
      "text/plain": [
       "a_1*k^+_1*x"
      ]
     },
     "execution_count": 403,
     "metadata": {},
     "output_type": "execute_result"
    }
   ],
   "source": [
    "odes[\"bdot\"][1]\n"
   ]
  },
  {
   "cell_type": "code",
   "execution_count": 406,
   "id": "664db7c1",
   "metadata": {},
   "outputs": [
    {
     "data": {
      "text/latex": [
       "$\\displaystyle a_{1} p^{+}_{1} y - \\beta_{1 0} c_{1} - c_{1} p^{-}_{1}$"
      ],
      "text/plain": [
       "a_1*p^+_1*y - beta_1_0*c_1 - c_1*p^-_1"
      ]
     },
     "execution_count": 406,
     "metadata": {},
     "output_type": "execute_result"
    }
   ],
   "source": [
    "odes[\"cdot\"][1]"
   ]
  },
  {
   "cell_type": "code",
   "execution_count": 407,
   "id": "ddfcd868",
   "metadata": {},
   "outputs": [
    {
     "data": {
      "text/latex": [
       "$\\displaystyle b_{0} \\left(\\alpha_{0 1} + k^{-}_{0}\\right) - x \\left(a_{0} k^{+}_{0} + a_{1} k^{+}_{1}\\right)$"
      ],
      "text/plain": [
       "b_0*(alpha_0_1 + k^-_0) - x*(a_0*k^+_0 + a_1*k^+_1)"
      ]
     },
     "execution_count": 407,
     "metadata": {},
     "output_type": "execute_result"
    }
   ],
   "source": [
    "odes[\"xdot\"]"
   ]
  },
  {
   "cell_type": "code",
   "execution_count": 408,
   "id": "dabfd716",
   "metadata": {},
   "outputs": [
    {
     "data": {
      "text/latex": [
       "$\\displaystyle c_{1} \\left(\\beta_{1 0} + p^{-}_{1}\\right) - y \\left(a_{0} p^{+}_{0} + a_{1} p^{+}_{1}\\right)$"
      ],
      "text/plain": [
       "c_1*(beta_1_0 + p^-_1) - y*(a_0*p^+_0 + a_1*p^+_1)"
      ]
     },
     "execution_count": 408,
     "metadata": {},
     "output_type": "execute_result"
    }
   ],
   "source": [
    "odes[\"ydot\"]"
   ]
  },
  {
   "cell_type": "markdown",
   "id": "d92bed8d",
   "metadata": {},
   "source": [
    "# MATTIA FIX:"
   ]
  },
  {
   "cell_type": "code",
   "execution_count": null,
   "id": "8b4796a3",
   "metadata": {},
   "outputs": [
    {
     "name": "stdout",
     "output_type": "stream",
     "text": [
      "Matrix([[b_0], [0]])\n",
      "Matrix([[0], [c_1]])\n",
      "0 --> 1 (X), 0 -> 1\n",
      "1 --> 0 (Y), 1 -> 0\n",
      "0 --> 1 (X), 0 -> 1\n",
      "1 --> 0 (Y), 1 -> 0\n",
      "Alpha matrix:\n",
      "⎡0  α₀ ₁⎤\n",
      "⎢       ⎥\n",
      "⎣0   0  ⎦\n",
      "Beta matrix:\n",
      "⎡ 0    0⎤\n",
      "⎢       ⎥\n",
      "⎣β₁ ₀  0⎦\n",
      "[[1. 0.]] [[1.]\n",
      " [0.]]\n",
      "(1, 2) (2, 1)\n"
     ]
    },
    {
     "data": {
      "text/latex": [
       "$\\displaystyle - a_{0} k^{+}_{0} x - a_{0} p^{+}_{0} y + b_{0} k^{-}_{0} + \\beta_{1 0} c_{1}$"
      ],
      "text/plain": [
       "-a_0*k^+_0*x - a_0*p^+_0*y + b_0*k^-_0 + beta_1_0*c_1"
      ]
     },
     "execution_count": 452,
     "metadata": {},
     "output_type": "execute_result"
    }
   ],
   "source": [
    "import sympy as sp\n",
    "\n",
    "def build_phos_odes(n, prefix=\"\"):\n",
    "    \"\"\"\n",
    "    Build symbolic ODEs for the phosphorylation system for given n (N = 2**n).\n",
    "    Returns a dict with keys:\n",
    "      N, a, b, c, x, y,\n",
    "      Kp, Km, Pp, Pm, Alpha, Beta, DAlpha, DBeta,\n",
    "      adot, bdot, cdot, xdot, ydot,\n",
    "      ones (vector of ones)\n",
    "    \"\"\"\n",
    "    N = 2**n\n",
    "    a_syms = sp.symbols([f\"{prefix}a_{i}\" for i in range(N)])\n",
    "    b_syms = sp.symbols([f\"{prefix}b_{i}\" for i in range(N)])\n",
    "    c_syms = sp.symbols([f\"{prefix}c_{i}\" for i in range(N)])\n",
    "    x_sym, y_sym = sp.symbols(f\"{prefix}x {prefix}y\")\n",
    "\n",
    "    a = sp.Matrix(N, 1, lambda i,j: a_syms[i])\n",
    "    b = sp.Matrix(N, 1, lambda i,j: b_syms[i])\n",
    "    # b[-1] = 0\n",
    "    # print(b)\n",
    "    c = sp.Matrix(N, 1, lambda i,j: c_syms[i])\n",
    "    # c[0] = 0\n",
    "    # print(c)\n",
    "\n",
    "    x = x_sym\n",
    "    y = y_sym\n",
    "\n",
    "    kplus = sp.symbols([f\"{prefix}k^+_{i}\" for i in range(N)])\n",
    "    kminus = sp.symbols([f\"{prefix}k^-_{i}\" for i in range(N)])\n",
    "    pplus = sp.symbols([f\"{prefix}p^+_{i}\" for i in range(N)])\n",
    "    pminus = sp.symbols([f\"{prefix}p^-_{i}\" for i in range(N)])\n",
    "\n",
    "    Kp = sp.diag(*kplus)\n",
    "    Km = sp.diag(*kminus)\n",
    "    Pp = sp.diag(*pplus)\n",
    "    Pm = sp.diag(*pminus)\n",
    "\n",
    "    # compute allowed transitions\n",
    "    valid_X_reactions, valid_Y_reactions = calculate_valid_transitions(n)\n",
    "    \n",
    "    # Build Alpha and Beta with symbols only at allowed (j,k)\n",
    "    Alpha = sp.zeros(N, N)\n",
    "    Beta  = sp.zeros(N, N)\n",
    "    # create symbols for allowed entries\n",
    "    for (_, _, j,k, _) in valid_X_reactions:\n",
    "        Alpha[j,k] = sp.symbols(f\"{prefix}alpha_{j}_{k}\")\n",
    "    for (_, _, j,k, _) in valid_Y_reactions:\n",
    "        Beta[j,k] = sp.symbols(f\"{prefix}beta_{j}_{k}\")\n",
    "    \n",
    "    Sb = np.hstack([np.eye(N-1), np.zeros((N-1,1))]); Lb = Sb.T\n",
    "    Sc = np.hstack([np.zeros((N-1,1)), np.eye(N-1)]); Lc = Sc.T\n",
    "\n",
    "    ones = sp.Matrix([1]*N)\n",
    "    Alpha_row_sums = Alpha * ones\n",
    "    Beta_row_sums = Beta * ones\n",
    "    DAlpha = sp.diag(*[Alpha_row_sums[i,0] for i in range(N)])\n",
    "    DBeta  = sp.diag(*[Beta_row_sums[i,0]  for i in range(N)])\n",
    "\n",
    "    a_adjusted_for_b_dot = a.copy(); a_adjusted_for_b_dot[-1] = 0\n",
    "    a_adjusted_for_c_dot = a.copy(); a_adjusted_for_c_dot[0] = 0\n",
    "\n",
    "    a_adjusted_for_x_dot = a.copy(); a_adjusted_for_x_dot[-1] = 0\n",
    "    a_adjusted_for_y_dot = a.copy(); a_adjusted_for_y_dot[0] = 0\n",
    "\n",
    "    adot = Km * b + Pm * c + Alpha.T * b + Beta.T * c - x * (Kp * a) - y * (Pp * a)\n",
    "    bdot = x * (Kp * a_adjusted_for_b_dot) - Km * b - DAlpha * b\n",
    "    cdot = y * (Pp * a_adjusted_for_c_dot) - Pm * c - DBeta * c\n",
    "\n",
    "    kplus_vec = sp.Matrix(kplus)\n",
    "    pplus_vec = sp.Matrix(pplus)\n",
    "\n",
    "    xdot = - x * (kplus_vec.T * a_adjusted_for_x_dot)[0] + (ones.T * (Km + DAlpha) * b)[0]\n",
    "    ydot = - y * (pplus_vec.T * a_adjusted_for_y_dot)[0] + (ones.T * (Pm + DBeta) * c)[0]\n",
    "    \n",
    "    return {\n",
    "        \"N\": N,\n",
    "        \"a\": a, \"b\": b, \"c\": c, \"x\": x, \"y\": y,\n",
    "        \"Kp\": Kp, \"Km\": Km, \"Pp\": Pp, \"Pm\": Pm,\n",
    "        \"Alpha\": Alpha, \"Beta\": Beta,\n",
    "        \"DAlpha\": DAlpha, \"DBeta\": DBeta,\n",
    "        \"ones\": ones,\n",
    "        \"adot\": sp.simplify(adot), \"bdot\": sp.simplify(bdot), \"cdot\": sp.simplify(cdot),\n",
    "        \"xdot\": sp.simplify(xdot), \"ydot\": sp.simplify(ydot)\n",
    "    }\n",
    "\n",
    "# Example: build symbolic ODEs for n=2 (N=4)\n",
    "n = 1\n",
    "odes = build_phos_odes(n)\n",
    "odes[\"adot\"][0]\n",
    "# sp.pprint(odes[\"adot\"])\n",
    "# sp.pprint(odes[\"bdot\"])\n",
    "# sp.pprint(odes[\"cdot\"])\n",
    "# sp.pprint(odes[\"xdot\"])\n",
    "# sp.pprint(odes[\"ydot\"])"
   ]
  },
  {
   "cell_type": "code",
   "execution_count": 423,
   "id": "8bba12f1",
   "metadata": {},
   "outputs": [
    {
     "data": {
      "text/latex": [
       "$\\displaystyle - a_{1} k^{+}_{1} x - a_{1} p^{+}_{1} y + \\alpha_{0 1} b_{0} + c_{1} p^{-}_{1}$"
      ],
      "text/plain": [
       "-a_1*k^+_1*x - a_1*p^+_1*y + alpha_0_1*b_0 + c_1*p^-_1"
      ]
     },
     "execution_count": 423,
     "metadata": {},
     "output_type": "execute_result"
    }
   ],
   "source": [
    "odes[\"adot\"][1]\n"
   ]
  },
  {
   "cell_type": "code",
   "execution_count": 470,
   "id": "fb7bd72d",
   "metadata": {},
   "outputs": [
    {
     "ename": "KeyError",
     "evalue": "'bdot'",
     "output_type": "error",
     "traceback": [
      "\u001b[31m---------------------------------------------------------------------------\u001b[39m",
      "\u001b[31mKeyError\u001b[39m                                  Traceback (most recent call last)",
      "\u001b[36mCell\u001b[39m\u001b[36m \u001b[39m\u001b[32mIn[470]\u001b[39m\u001b[32m, line 1\u001b[39m\n\u001b[32m----> \u001b[39m\u001b[32m1\u001b[39m \u001b[43modes\u001b[49m\u001b[43m[\u001b[49m\u001b[33;43m\"\u001b[39;49m\u001b[33;43mbdot\u001b[39;49m\u001b[33;43m\"\u001b[39;49m\u001b[43m]\u001b[49m[\u001b[32m0\u001b[39m]\n",
      "\u001b[31mKeyError\u001b[39m: 'bdot'"
     ]
    }
   ],
   "source": [
    "odes[\"bdot\"][0]"
   ]
  },
  {
   "cell_type": "code",
   "execution_count": 426,
   "id": "554e83b7",
   "metadata": {},
   "outputs": [
    {
     "data": {
      "text/latex": [
       "$\\displaystyle a_{1} p^{+}_{1} y - \\beta_{1 0} c_{1} - c_{1} p^{-}_{1}$"
      ],
      "text/plain": [
       "a_1*p^+_1*y - beta_1_0*c_1 - c_1*p^-_1"
      ]
     },
     "execution_count": 426,
     "metadata": {},
     "output_type": "execute_result"
    }
   ],
   "source": [
    "odes[\"cdot\"][1]"
   ]
  },
  {
   "cell_type": "code",
   "execution_count": 427,
   "id": "7568eb17",
   "metadata": {},
   "outputs": [
    {
     "data": {
      "text/latex": [
       "$\\displaystyle - a_{0} k^{+}_{0} x + b_{0} \\left(\\alpha_{0 1} + k^{-}_{0}\\right)$"
      ],
      "text/plain": [
       "-a_0*k^+_0*x + b_0*(alpha_0_1 + k^-_0)"
      ]
     },
     "execution_count": 427,
     "metadata": {},
     "output_type": "execute_result"
    }
   ],
   "source": [
    "odes[\"xdot\"]\n"
   ]
  },
  {
   "cell_type": "code",
   "execution_count": 428,
   "id": "4f07e87e",
   "metadata": {},
   "outputs": [
    {
     "data": {
      "text/latex": [
       "$\\displaystyle - a_{1} p^{+}_{1} y + c_{1} \\left(\\beta_{1 0} + p^{-}_{1}\\right)$"
      ],
      "text/plain": [
       "-a_1*p^+_1*y + c_1*(beta_1_0 + p^-_1)"
      ]
     },
     "execution_count": 428,
     "metadata": {},
     "output_type": "execute_result"
    }
   ],
   "source": [
    "odes[\"ydot\"]"
   ]
  },
  {
   "cell_type": "code",
   "execution_count": 450,
   "id": "622fa2ff",
   "metadata": {},
   "outputs": [
    {
     "data": {
      "text/plain": [
       "{x: -y, a[1]: a[0], b[0]: -y*a[0]/2, c[1]: y*a[0]/2}"
      ]
     },
     "execution_count": 450,
     "metadata": {},
     "output_type": "execute_result"
    }
   ],
   "source": [
    "from sympy import solve\n",
    "# from sympy.abc import A0, A1, B0, C1, X, Y\n",
    "x = sp.Symbol('x'); y = sp.Symbol('y')\n",
    "a = sp.IndexedBase('a')\n",
    "b = sp.IndexedBase('b')\n",
    "c = sp.IndexedBase('c')\n",
    "solutions = solve([-x*a[0] -y*a[0] + b[0] + c[1], -x*a[1] -y*a[1] + c[1] + b[0], x*a[0] - 2*b[0], y*a[1] - 2*c[1], -x*a[0] + 2*b[0], -y*a[1] + 2*c[1]], [a[0], a[1], b[0], c[1], x, y], dict=True)\n",
    "solutions[0]"
   ]
  },
  {
   "cell_type": "code",
   "execution_count": 447,
   "id": "143ae4ae",
   "metadata": {},
   "outputs": [
    {
     "data": {
      "text/latex": [
       "$\\displaystyle {a}_{0}$"
      ],
      "text/plain": [
       "a[0]"
      ]
     },
     "execution_count": 447,
     "metadata": {},
     "output_type": "execute_result"
    }
   ],
   "source": [
    "solutions[0][a[1]]"
   ]
  },
  {
   "cell_type": "code",
   "execution_count": 448,
   "id": "4b70421b",
   "metadata": {},
   "outputs": [
    {
     "data": {
      "text/latex": [
       "$\\displaystyle - \\frac{y {a}_{0}}{2}$"
      ],
      "text/plain": [
       "-y*a[0]/2"
      ]
     },
     "execution_count": 448,
     "metadata": {},
     "output_type": "execute_result"
    }
   ],
   "source": [
    "solutions[0][b[0]]"
   ]
  },
  {
   "cell_type": "code",
   "execution_count": 449,
   "id": "aba299c0",
   "metadata": {},
   "outputs": [
    {
     "data": {
      "text/latex": [
       "$\\displaystyle \\frac{y {a}_{0}}{2}$"
      ],
      "text/plain": [
       "y*a[0]/2"
      ]
     },
     "execution_count": 449,
     "metadata": {},
     "output_type": "execute_result"
    }
   ],
   "source": [
    "solutions[0][c[1]]"
   ]
  },
  {
   "cell_type": "code",
   "execution_count": 486,
   "id": "84965384",
   "metadata": {},
   "outputs": [
    {
     "data": {
      "text/latex": [
       "$\\displaystyle a_{0} k^{+}_{0} x - b_{0} \\left(\\alpha_{0 1} + k^{-}_{0}\\right)$"
      ],
      "text/plain": [
       "a_0*k^+_0*x - b_0*(alpha_0_1 + k^-_0)"
      ]
     },
     "execution_count": 486,
     "metadata": {},
     "output_type": "execute_result"
    }
   ],
   "source": [
    "import sympy as sp\n",
    "import numpy as np\n",
    "\n",
    "def padded_binary(i: int, n: int) -> str:\n",
    "    return bin(i)[2:].zfill(n)\n",
    "\n",
    "def binary_string_to_array(string: str) -> np.ndarray:\n",
    "    return np.array([int(ch) for ch in string], dtype=int)\n",
    "\n",
    "def calculate_valid_transitions(n: int):\n",
    "    num_states = 2**n\n",
    "    all_states = [padded_binary(i, n) for i in range(num_states)]\n",
    "    valid_X_reactions = []\n",
    "    valid_Y_reactions = []\n",
    "\n",
    "    for i in range(num_states):\n",
    "        for j in range(num_states):\n",
    "            if i == j:\n",
    "                continue\n",
    "            diff = binary_string_to_array(all_states[j]) - binary_string_to_array(all_states[i])\n",
    "            if np.sum(np.abs(diff)) == 1:\n",
    "                enzyme = \"X\" if np.any(diff == 1) else \"Y\"\n",
    "                if enzyme == \"X\":\n",
    "                    valid_X_reactions.append((all_states[i], all_states[j], i, j, enzyme))\n",
    "                else:\n",
    "                    valid_Y_reactions.append((all_states[i], all_states[j], i, j, enzyme))\n",
    "    return valid_X_reactions, valid_Y_reactions\n",
    "\n",
    "\n",
    "def build_phos_odes(n, prefix=\"\"):\n",
    "    N = 2**n\n",
    "    a_syms = sp.symbols([f\"{prefix}a_{i}\" for i in range(N)])\n",
    "    b_syms = sp.symbols([f\"{prefix}b_{i}\" for i in range(N)])\n",
    "    c_syms = sp.symbols([f\"{prefix}c_{i}\" for i in range(N)])\n",
    "    x_sym, y_sym = sp.symbols(f\"{prefix}x {prefix}y\")\n",
    "\n",
    "    a = sp.Matrix(a_syms)\n",
    "    b = sp.Matrix(b_syms)\n",
    "    c = sp.Matrix(c_syms)\n",
    "    x, y = x_sym, y_sym\n",
    "\n",
    "    kplus = sp.symbols([f\"{prefix}k^+_{i}\" for i in range(N)])\n",
    "    kminus = sp.symbols([f\"{prefix}k^-_{i}\" for i in range(N)])\n",
    "    pplus = sp.symbols([f\"{prefix}p^+_{i}\" for i in range(N)])\n",
    "    pminus = sp.symbols([f\"{prefix}p^-_{i}\" for i in range(N)])\n",
    "\n",
    "    Kp = sp.diag(*kplus)\n",
    "    Km = sp.diag(*kminus)\n",
    "    Pp = sp.diag(*pplus)\n",
    "    Pm = sp.diag(*pminus)\n",
    "\n",
    "    # --- valid transitions ---\n",
    "    valid_X_reactions, valid_Y_reactions = calculate_valid_transitions(n)\n",
    "\n",
    "    # --- Build Alpha, Beta ---\n",
    "    Alpha = sp.zeros(N, N)\n",
    "    Beta  = sp.zeros(N, N)\n",
    "    for (_, _, i, j, _) in valid_X_reactions:\n",
    "        Alpha[i, j] = sp.symbols(f\"{prefix}alpha_{i}_{j}\")\n",
    "    for (_, _, i, j, _) in valid_Y_reactions:\n",
    "        Beta[i, j] = sp.symbols(f\"{prefix}beta_{i}_{j}\")\n",
    "\n",
    "    ones = sp.Matrix([1]*N)\n",
    "    DAlpha = sp.diag(*list((Alpha * ones)))\n",
    "    DBeta  = sp.diag(*list((Beta * ones)))\n",
    "\n",
    "    # --- Selection & lift matrices (symbolic) ---\n",
    "    # Drop last b_N (index N-1), drop first c_0 (index 0)\n",
    "    Sb = sp.Matrix.hstack(sp.eye(N-1), sp.zeros(N-1, 1))   # (N-1)×N\n",
    "    Lb = Sb.T                                              # N×(N-1)\n",
    "    Sc = sp.Matrix.hstack(sp.zeros(N-1, 1), sp.eye(N-1))   # (N-1)×N\n",
    "    Lc = Sc.T                                              # N×(N-1)\n",
    "\n",
    "    # Reduced vectors\n",
    "    b_tilde = Sb * b\n",
    "    c_tilde = Sc * c\n",
    "\n",
    "    # Re-embed them where needed\n",
    "    b_full = Lb * b_tilde\n",
    "    c_full = Lc * c_tilde\n",
    "\n",
    "    # --- Symbolic ODEs using screened variables ---\n",
    "    adot = Km * b_full + Pm * c_full + Alpha.T * b_full + Beta.T * c_full \\\n",
    "            - x * (Kp * a) - y * (Pp * a)\n",
    "\n",
    "    # Reduced b/c equations\n",
    "    DAlpha_red = sp.diag(*list(Sb * (Alpha * ones)))\n",
    "    DBeta_red  = sp.diag(*list(Sc * (Beta * ones)))\n",
    "\n",
    "    bdot_tilde = x * (Sb * Kp * a) - (Sb * Km * Lb + DAlpha_red) * b_tilde\n",
    "    cdot_tilde = y * (Sc * Pp * a) - (Sc * Pm * Lc + DBeta_red) * c_tilde\n",
    "\n",
    "    # Enzyme ODEs\n",
    "    kplus_vec = sp.Matrix(kplus)\n",
    "    pplus_vec = sp.Matrix(pplus)\n",
    "\n",
    "    a_adjusted_for_x_dot = a.copy(); a_adjusted_for_x_dot[-1] = 0\n",
    "    a_adjusted_for_y_dot = a.copy(); a_adjusted_for_y_dot[0] = 0\n",
    "\n",
    "    xdot = -x * (kplus_vec.T * a)[0] + (ones.T * (Km + DAlpha) * b_full)[0]\n",
    "    ydot = -y * (pplus_vec.T * a)[0] + (ones.T * (Pm + DBeta) * c_full)[0]\n",
    "\n",
    "    return {\n",
    "        \"N\": N,\n",
    "        \"a\": a, \"b_tilde\": b_tilde, \"c_tilde\": c_tilde,\n",
    "        \"x\": x, \"y\": y,\n",
    "        \"Kp\": Kp, \"Km\": Km, \"Pp\": Pp, \"Pm\": Pm,\n",
    "        \"Alpha\": Alpha, \"Beta\": Beta,\n",
    "        \"DAlpha\": DAlpha, \"DBeta\": DBeta,\n",
    "        \"adot\": sp.simplify(adot),\n",
    "        \"bdot_tilde\": sp.simplify(bdot_tilde),\n",
    "        \"cdot_tilde\": sp.simplify(cdot_tilde),\n",
    "        \"xdot\": sp.simplify(xdot),\n",
    "        \"ydot\": sp.simplify(ydot),\n",
    "        \"Sb\": Sb, \"Lb\": Lb, \"Sc\": Sc, \"Lc\": Lc\n",
    "    }\n",
    "\n",
    "n = 1\n",
    "odes = build_phos_odes(n)\n",
    "# sp.pprint(odes[\"adot\"])\n",
    "# sp.pprint(odes[\"bdot_tilde\"])\n",
    "# sp.pprint(odes[\"cdot_tilde\"])\n",
    "# sp.pprint(odes[\"xdot\"])\n",
    "# sp.pprint(odes[\"ydot\"])\n",
    "odes[\"bdot_tilde\"][0]"
   ]
  },
  {
   "cell_type": "code",
   "execution_count": 487,
   "id": "ee26c74b",
   "metadata": {},
   "outputs": [
    {
     "data": {
      "text/latex": [
       "$\\displaystyle a_{1} p^{+}_{1} y - c_{1} \\left(\\beta_{1 0} + p^{-}_{1}\\right)$"
      ],
      "text/plain": [
       "a_1*p^+_1*y - c_1*(beta_1_0 + p^-_1)"
      ]
     },
     "execution_count": 487,
     "metadata": {},
     "output_type": "execute_result"
    }
   ],
   "source": [
    "odes[\"cdot_tilde\"][0]"
   ]
  },
  {
   "cell_type": "code",
   "execution_count": 488,
   "id": "e73c28c8",
   "metadata": {},
   "outputs": [
    {
     "data": {
      "text/latex": [
       "$\\displaystyle - a_{0} k^{+}_{0} x - a_{0} p^{+}_{0} y + b_{0} k^{-}_{0} + \\beta_{1 0} c_{1}$"
      ],
      "text/plain": [
       "-a_0*k^+_0*x - a_0*p^+_0*y + b_0*k^-_0 + beta_1_0*c_1"
      ]
     },
     "execution_count": 488,
     "metadata": {},
     "output_type": "execute_result"
    }
   ],
   "source": [
    "odes[\"adot\"][0]"
   ]
  },
  {
   "cell_type": "code",
   "execution_count": 489,
   "id": "0cb8eba6",
   "metadata": {},
   "outputs": [
    {
     "data": {
      "text/latex": [
       "$\\displaystyle - a_{1} k^{+}_{1} x - a_{1} p^{+}_{1} y + \\alpha_{0 1} b_{0} + c_{1} p^{-}_{1}$"
      ],
      "text/plain": [
       "-a_1*k^+_1*x - a_1*p^+_1*y + alpha_0_1*b_0 + c_1*p^-_1"
      ]
     },
     "execution_count": 489,
     "metadata": {},
     "output_type": "execute_result"
    }
   ],
   "source": [
    "odes[\"adot\"][1]"
   ]
  },
  {
   "cell_type": "code",
   "execution_count": 490,
   "id": "9a3ea68b",
   "metadata": {},
   "outputs": [
    {
     "data": {
      "text/latex": [
       "$\\displaystyle b_{0} \\left(\\alpha_{0 1} + k^{-}_{0}\\right) - x \\left(a_{0} k^{+}_{0} + a_{1} k^{+}_{1}\\right)$"
      ],
      "text/plain": [
       "b_0*(alpha_0_1 + k^-_0) - x*(a_0*k^+_0 + a_1*k^+_1)"
      ]
     },
     "execution_count": 490,
     "metadata": {},
     "output_type": "execute_result"
    }
   ],
   "source": [
    "odes[\"xdot\"]"
   ]
  },
  {
   "cell_type": "code",
   "execution_count": 491,
   "id": "8e34f198",
   "metadata": {},
   "outputs": [
    {
     "data": {
      "text/latex": [
       "$\\displaystyle c_{1} \\left(\\beta_{1 0} + p^{-}_{1}\\right) - y \\left(a_{0} p^{+}_{0} + a_{1} p^{+}_{1}\\right)$"
      ],
      "text/plain": [
       "c_1*(beta_1_0 + p^-_1) - y*(a_0*p^+_0 + a_1*p^+_1)"
      ]
     },
     "execution_count": 491,
     "metadata": {},
     "output_type": "execute_result"
    }
   ],
   "source": [
    "odes[\"ydot\"]"
   ]
  },
  {
   "cell_type": "code",
   "execution_count": null,
   "id": "2c8bd56f",
   "metadata": {},
   "outputs": [],
   "source": []
  },
  {
   "cell_type": "code",
   "execution_count": null,
   "id": "a400e47c",
   "metadata": {},
   "outputs": [
    {
     "data": {
      "text/plain": [
       "{x: -y, a[1]: a[0], b[0]: -y*a[0]/2, c[1]: y*a[0]/2}"
      ]
     },
     "execution_count": 493,
     "metadata": {},
     "output_type": "execute_result"
    }
   ],
   "source": [
    "from sympy import solve\n",
    "# from sympy.abc import A0, A1, B0, C1, X, Y\n",
    "x = sp.Symbol('x'); y = sp.Symbol('y')\n",
    "a = sp.IndexedBase('a')\n",
    "b = sp.IndexedBase('b')\n",
    "c = sp.IndexedBase('c')\n",
    "solutions = solve([-x*a[0] + b[0] + c[1], \n",
    "                   -y*a[1] + c[1] + b[0], \n",
    "                   x*a[0] - 2*b[0], \n",
    "                   y*a[1] - 2*c[1], \n",
    "                   -x*a[0] + 2*b[0], \n",
    "                   -y*a[1] + 2*c[1]], \n",
    "                   [a[0], a[1], b[0], c[1], x, y], dict=True)\n",
    "solutions[0]"
   ]
  },
  {
   "cell_type": "code",
   "execution_count": null,
   "id": "516fdf44",
   "metadata": {},
   "outputs": [],
   "source": []
  }
 ],
 "metadata": {
  "kernelspec": {
   "display_name": ".venv",
   "language": "python",
   "name": "python3"
  },
  "language_info": {
   "codemirror_mode": {
    "name": "ipython",
    "version": 3
   },
   "file_extension": ".py",
   "mimetype": "text/x-python",
   "name": "python",
   "nbconvert_exporter": "python",
   "pygments_lexer": "ipython3",
   "version": "3.13.7"
  }
 },
 "nbformat": 4,
 "nbformat_minor": 5
}
