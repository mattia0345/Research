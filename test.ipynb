{
 "cells": [
  {
   "cell_type": "code",
   "execution_count": 2,
   "id": "9f37e71e",
   "metadata": {},
   "outputs": [
    {
     "name": "stderr",
     "output_type": "stream",
     "text": [
      "WARNING: import of MainInclude.eval into Main conflicts with an existing identifier; ignored.\n",
      "WARNING: could not import MainInclude.include into Main\n",
      "WARNING: import of MainInclude.eval into Main conflicts with an existing identifier; ignored.\n",
      "WARNING: could not import MainInclude.include into Main\n"
     ]
    },
    {
     "name": "stdout",
     "output_type": "stream",
     "text": [
      "Tracking 4 paths...  50%|███████████████▌               |  ETA: 0:00:04\u001b[K\n",
      "                   # paths tracked: 2\u001b[K\n",
      "   # non-singular solutions (real): 2 (1)\u001b[K\n",
      "       # singular endpoints (real): 0 (0)\u001b[K\n",
      "\u001b[A       # total solutions (real): 2 (1)\u001b[K\n",
      "\n",
      "\n",
      "\n",
      "Tracking 4 paths... 100%|███████████████████████████████| Time: 0:00:03\u001b[K\n",
      "                   # paths tracked: 4\u001b[K\n",
      "   # non-singular solutions (real): 4 (2)\u001b[K\n",
      "       # singular endpoints (real): 0 (0)\u001b[K\n",
      "          # total solutions (real): 4 (2)\u001b[K\n"
     ]
    },
    {
     "ename": "JuliaError",
     "evalue": "Exception 'UndefVarError: `res` not defined in `Main`\nSuggestion: check for spelling errors or missing imports.' occurred while calling julia code:\nsolutions(res)",
     "output_type": "error",
     "traceback": [
      "\u001b[31m---------------------------------------------------------------------------\u001b[39m",
      "\u001b[31mJuliaError\u001b[39m                                Traceback (most recent call last)",
      "\u001b[36mCell\u001b[39m\u001b[36m \u001b[39m\u001b[32mIn[2]\u001b[39m\u001b[32m, line 19\u001b[39m\n\u001b[32m     16\u001b[39m res = Main.eval(\u001b[33m'\u001b[39m\u001b[33msolve(F)\u001b[39m\u001b[33m'\u001b[39m)\n\u001b[32m     18\u001b[39m \u001b[38;5;66;03m# get the solutions as a Julia array of vectors (works via HomotopyContinuation.solutions)\u001b[39;00m\n\u001b[32m---> \u001b[39m\u001b[32m19\u001b[39m solutions = \u001b[43mMain\u001b[49m\u001b[43m.\u001b[49m\u001b[43meval\u001b[49m\u001b[43m(\u001b[49m\u001b[33;43m'\u001b[39;49m\u001b[33;43msolutions(res)\u001b[39;49m\u001b[33;43m'\u001b[39;49m\u001b[43m)\u001b[49m\n\u001b[32m     21\u001b[39m \u001b[38;5;28mprint\u001b[39m(\u001b[33m\"\u001b[39m\u001b[33mRaw Julia solutions object:\u001b[39m\u001b[33m\"\u001b[39m, res)\n\u001b[32m     22\u001b[39m \u001b[38;5;28mprint\u001b[39m(\u001b[33m\"\u001b[39m\u001b[33mExtracted solutions (Julia -> Python):\u001b[39m\u001b[33m\"\u001b[39m, solutions)\n",
      "\u001b[36mFile \u001b[39m\u001b[32m~/research/initial_code/.venv/lib/python3.13/site-packages/julia/core.py:633\u001b[39m, in \u001b[36mJulia.eval\u001b[39m\u001b[34m(self, src)\u001b[39m\n\u001b[32m    631\u001b[39m \u001b[38;5;28;01mif\u001b[39;00m src \u001b[38;5;129;01mis\u001b[39;00m \u001b[38;5;28;01mNone\u001b[39;00m:\n\u001b[32m    632\u001b[39m     \u001b[38;5;28;01mreturn\u001b[39;00m \u001b[38;5;28;01mNone\u001b[39;00m\n\u001b[32m--> \u001b[39m\u001b[32m633\u001b[39m ans = \u001b[38;5;28;43mself\u001b[39;49m\u001b[43m.\u001b[49m\u001b[43m_call\u001b[49m\u001b[43m(\u001b[49m\u001b[43msrc\u001b[49m\u001b[43m)\u001b[49m\n\u001b[32m    634\u001b[39m \u001b[38;5;28;01mif\u001b[39;00m \u001b[38;5;129;01mnot\u001b[39;00m ans:\n\u001b[32m    635\u001b[39m     \u001b[38;5;28;01mreturn\u001b[39;00m \u001b[38;5;28;01mNone\u001b[39;00m\n",
      "\u001b[36mFile \u001b[39m\u001b[32m~/research/initial_code/.venv/lib/python3.13/site-packages/julia/core.py:561\u001b[39m, in \u001b[36mJulia._call\u001b[39m\u001b[34m(self, src)\u001b[39m\n\u001b[32m    559\u001b[39m \u001b[38;5;66;03m# logger.debug(\"_call(%s)\", src)\u001b[39;00m\n\u001b[32m    560\u001b[39m ans = \u001b[38;5;28mself\u001b[39m.api.jl_eval_string(src.encode(\u001b[33m'\u001b[39m\u001b[33mutf-8\u001b[39m\u001b[33m'\u001b[39m))\n\u001b[32m--> \u001b[39m\u001b[32m561\u001b[39m \u001b[38;5;28;43mself\u001b[39;49m\u001b[43m.\u001b[49m\u001b[43mcheck_exception\u001b[49m\u001b[43m(\u001b[49m\u001b[43msrc\u001b[49m\u001b[43m)\u001b[49m\n\u001b[32m    563\u001b[39m \u001b[38;5;28;01mreturn\u001b[39;00m ans\n",
      "\u001b[36mFile \u001b[39m\u001b[32m~/research/initial_code/.venv/lib/python3.13/site-packages/julia/core.py:615\u001b[39m, in \u001b[36mJulia.check_exception\u001b[39m\u001b[34m(self, src)\u001b[39m\n\u001b[32m    613\u001b[39m \u001b[38;5;28;01melse\u001b[39;00m:\n\u001b[32m    614\u001b[39m     exception = sprint(showerror, \u001b[38;5;28mself\u001b[39m._as_pyobj(res))\n\u001b[32m--> \u001b[39m\u001b[32m615\u001b[39m \u001b[38;5;28;01mraise\u001b[39;00m JuliaError(\u001b[33mu\u001b[39m\u001b[33m'\u001b[39m\u001b[33mException \u001b[39m\u001b[38;5;130;01m\\'\u001b[39;00m\u001b[38;5;132;01m{}\u001b[39;00m\u001b[38;5;130;01m\\'\u001b[39;00m\u001b[33m occurred while calling julia code:\u001b[39m\u001b[38;5;130;01m\\n\u001b[39;00m\u001b[38;5;132;01m{}\u001b[39;00m\u001b[33m'\u001b[39m\n\u001b[32m    616\u001b[39m                  .format(exception, src))\n",
      "\u001b[31mJuliaError\u001b[39m: Exception 'UndefVarError: `res` not defined in `Main`\nSuggestion: check for spelling errors or missing imports.' occurred while calling julia code:\nsolutions(res)"
     ]
    }
   ],
   "source": [
    "# solve_polys_with_homotopy.py\n",
    "from julia import Julia\n",
    "# compiled_modules=False often avoids some startup issues; try with/without if you get errors\n",
    "jl = Julia(compiled_modules=False)\n",
    "\n",
    "from julia import Main\n",
    "\n",
    "# load the package in the Julia side\n",
    "Main.eval(\"using HomotopyContinuation\")\n",
    "\n",
    "# define variables and system on the Julia side\n",
    "Main.eval('@polyvar x y')   # declares polynomial variables x,y\n",
    "Main.eval('F = [x^2 + y^2 - 1, x^2 - y - 0.5]')  # 2 polynomial equations\n",
    "\n",
    "# call solve and get the result (a Julia object)\n",
    "res = Main.eval('solve(F)')\n",
    "\n",
    "# get the solutions as a Julia array of vectors (works via HomotopyContinuation.solutions)\n",
    "solutions = Main.eval('solutions(res)')\n",
    "\n",
    "print(\"Raw Julia solutions object:\", res)\n",
    "print(\"Extracted solutions (Julia -> Python):\", solutions)\n",
    "\n",
    "# Optionally, get only the real solutions:\n",
    "real_sols = Main.eval('real_solutions(res)')   # returns array of real solution vectors\n",
    "print(\"Real solutions:\", real_sols)\n"
   ]
  },
  {
   "cell_type": "code",
   "execution_count": 5,
   "id": "f4e0dc96",
   "metadata": {},
   "outputs": [
    {
     "name": "stdout",
     "output_type": "stream",
     "text": [
      "All solutions: [array([-0.93060486+1.75162308e-46j,  0.3660254 +1.75162308e-46j]), array([ 1.54074396e-32+9.30604859e-01j, -1.36602540e+00+1.23259516e-32j]), array([0.93060486-1.31371731e-46j, 0.3660254 +1.75162308e-46j]), array([ 0.       -0.93060486j, -1.3660254+0.j        ])]\n",
      "Real solutions: [array([-0.93060486,  0.3660254 ]), array([0.93060486, 0.3660254 ])]\n",
      "[[-0.93060486  0.3660254 ]\n",
      " [ 0.93060486  0.3660254 ]]\n"
     ]
    },
    {
     "name": "stderr",
     "output_type": "stream",
     "text": [
      "WARNING: import of MainInclude.eval into Main conflicts with an existing identifier; ignored.\n",
      "WARNING: could not import MainInclude.include into Main\n"
     ]
    }
   ],
   "source": [
    "from julia import Julia\n",
    "jl = Julia(compiled_modules=False)\n",
    "\n",
    "from julia import Main\n",
    "\n",
    "# Define and solve system in one go\n",
    "Main.eval(\"\"\"\n",
    "using HomotopyContinuation\n",
    "@polyvar x y\n",
    "F = [x^2 + y^2 - 1, x^2 - y - 0.5]\n",
    "res = solve(F)\n",
    "sols = solutions(res)          # all solutions\n",
    "real_sols = real_solutions(res) # only real solutions\n",
    "\"\"\")\n",
    "\n",
    "# Extract solutions back to Python\n",
    "solutions = Main.sols\n",
    "real_solutions = Main.real_sols\n",
    "\n",
    "print(\"All solutions:\", solutions)\n",
    "print(\"Real solutions:\", real_solutions)\n",
    "import numpy as np\n",
    "solutions_np = np.array(real_solutions)\n",
    "print(solutions_np)\n"
   ]
  },
  {
   "cell_type": "code",
   "execution_count": null,
   "id": "d710f723",
   "metadata": {},
   "outputs": [],
   "source": []
  },
  {
   "cell_type": "code",
   "execution_count": null,
   "id": "2613af4a",
   "metadata": {},
   "outputs": [],
   "source": []
  },
  {
   "cell_type": "code",
   "execution_count": null,
   "id": "d038222f",
   "metadata": {},
   "outputs": [],
   "source": []
  },
  {
   "cell_type": "code",
   "execution_count": null,
   "id": "7c1a1880",
   "metadata": {},
   "outputs": [],
   "source": []
  },
  {
   "cell_type": "code",
   "execution_count": null,
   "id": "347cb1bb",
   "metadata": {},
   "outputs": [],
   "source": []
  },
  {
   "cell_type": "code",
   "execution_count": null,
   "id": "3a294a3a",
   "metadata": {},
   "outputs": [],
   "source": []
  },
  {
   "cell_type": "code",
   "execution_count": null,
   "id": "07f8d033",
   "metadata": {},
   "outputs": [],
   "source": []
  },
  {
   "cell_type": "code",
   "execution_count": 1,
   "id": "b8495639",
   "metadata": {},
   "outputs": [
    {
     "name": "stdout",
     "output_type": "stream",
     "text": [
      "python: /Users/mattia.altomare/research/initial_code/.venv/bin/python\n"
     ]
    },
    {
     "name": "stderr",
     "output_type": "stream",
     "text": [
      "Traceback (most recent call last):\n",
      "  File \"/var/folders/2h/xz8d592j62n7f363_sbw7ly00000gn/T/ipykernel_21435/3304635576.py\", line 4, in <module>\n",
      "    import pybertini\n",
      "ModuleNotFoundError: No module named 'pybertini'\n"
     ]
    }
   ],
   "source": [
    "import sys, traceback\n",
    "print(\"python:\", sys.executable)\n",
    "try:\n",
    "    import pybertini\n",
    "    print(\"pybertini imported OK —\", getattr(pybertini, \"__version__\", \"<no __version__>\"))\n",
    "    import bertini\n",
    "    print(\"bertini module file:\", getattr(bertini, \"__file__\", None))\n",
    "except Exception:\n",
    "    traceback.print_exc()\n",
    "\n"
   ]
  },
  {
   "cell_type": "code",
   "execution_count": 8,
   "id": "81ca8fbb",
   "metadata": {},
   "outputs": [
    {
     "ename": "ModuleNotFoundError",
     "evalue": "No module named 'pybertini'",
     "output_type": "error",
     "traceback": [
      "\u001b[31m---------------------------------------------------------------------------\u001b[39m",
      "\u001b[31mModuleNotFoundError\u001b[39m                       Traceback (most recent call last)",
      "\u001b[36mCell\u001b[39m\u001b[36m \u001b[39m\u001b[32mIn[8]\u001b[39m\u001b[32m, line 4\u001b[39m\n\u001b[32m      2\u001b[39m \u001b[38;5;28;01mimport\u001b[39;00m\u001b[38;5;250m \u001b[39m\u001b[34;01msys\u001b[39;00m\n\u001b[32m      3\u001b[39m \u001b[38;5;66;03m# !{sys.executable} -m pip install pybertini\u001b[39;00m\n\u001b[32m----> \u001b[39m\u001b[32m4\u001b[39m \u001b[38;5;28;01mimport\u001b[39;00m\u001b[38;5;250m \u001b[39m\u001b[34;01mpybertini\u001b[39;00m\n\u001b[32m      5\u001b[39m \u001b[38;5;28;01mfrom\u001b[39;00m\u001b[38;5;250m \u001b[39m\u001b[34;01mpybertini\u001b[39;00m\u001b[38;5;250m \u001b[39m\u001b[38;5;28;01mimport\u001b[39;00m *\n\u001b[32m      7\u001b[39m \u001b[38;5;66;03m# Define the polynomial system\u001b[39;00m\n",
      "\u001b[31mModuleNotFoundError\u001b[39m: No module named 'pybertini'"
     ]
    }
   ],
   "source": [
    "import numpy as np\n",
    "import sys\n",
    "# !{sys.executable} -m pip install pybertini\n",
    "import pybertini\n",
    "from pybertini import *\n",
    "\n",
    "# Define the polynomial system\n",
    "def system(x):\n",
    "    return np.array([\n",
    "        x[0]**2 + x[1]**2 - 1,  # Circle equation\n",
    "        x[0]**3 - x[1]           # Cubic equation\n",
    "    ])\n",
    "\n",
    "# Initial guess for the roots\n",
    "initial_guess = np.array([0.5, 0.5])\n",
    "\n",
    "# Solve the system\n",
    "solution = solve(system, initial_guess)\n",
    "\n",
    "# Extract and print the roots\n",
    "roots = solution.roots()\n",
    "print(\"Roots:\", roots)\n"
   ]
  },
  {
   "cell_type": "code",
   "execution_count": null,
   "id": "93570e86",
   "metadata": {},
   "outputs": [],
   "source": []
  }
 ],
 "metadata": {
  "kernelspec": {
   "display_name": ".venv",
   "language": "python",
   "name": "python3"
  },
  "language_info": {
   "codemirror_mode": {
    "name": "ipython",
    "version": 3
   },
   "file_extension": ".py",
   "mimetype": "text/x-python",
   "name": "python",
   "nbconvert_exporter": "python",
   "pygments_lexer": "ipython3",
   "version": "3.13.7"
  }
 },
 "nbformat": 4,
 "nbformat_minor": 5
}
