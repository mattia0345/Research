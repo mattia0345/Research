{
 "cells": [
  {
   "cell_type": "code",
   "execution_count": 129,
   "id": "81ca8fbb",
   "metadata": {},
   "outputs": [
    {
     "name": "stdout",
     "output_type": "stream",
     "text": [
      "The total propensity is: 4.4\n",
      "The time until the next reaction is: 0.36843616003368534\n",
      "The populations (N_a, N_b) is: (7, 3)\n",
      "The total propensity is: 4.1\n",
      "The time until the next reaction is: 0.19833751096350832\n",
      "The populations (N_a, N_b) is: (7, 2)\n",
      "The total propensity is: 3.9\n",
      "The time until the next reaction is: 0.12347340281594402\n",
      "The populations (N_a, N_b) is: (7, 2)\n",
      "The total propensity is: 3.9\n",
      "The time until the next reaction is: 0.1410654242018323\n",
      "The populations (N_a, N_b) is: (6, 3)\n",
      "The total propensity is: 3.6\n",
      "The time until the next reaction is: 0.23929544136942468\n",
      "The populations (N_a, N_b) is: (5, 4)\n",
      "The total propensity is: 3.3\n",
      "The time until the next reaction is: 0.18214075873171862\n",
      "The populations (N_a, N_b) is: (4, 5)\n",
      "The total propensity is: 3.0\n",
      "The time until the next reaction is: 0.8941721592977908\n",
      "The populations (N_a, N_b) is: (3, 6)\n",
      "The total propensity is: 2.7\n",
      "The time until the next reaction is: 0.05965761066064728\n",
      "The populations (N_a, N_b) is: (3, 5)\n",
      "The total propensity is: 2.5\n",
      "The time until the next reaction is: 0.27996179545152955\n",
      "The populations (N_a, N_b) is: (3, 5)\n",
      "The total propensity is: 2.5\n",
      "The time until the next reaction is: 0.4807932653780325\n",
      "The populations (N_a, N_b) is: (2, 6)\n",
      "The total propensity is: 2.2\n",
      "The time until the next reaction is: 0.06481008540338129\n",
      "The populations (N_a, N_b) is: (2, 6)\n",
      "The total propensity is: 2.2\n",
      "The time until the next reaction is: 0.1250336304802956\n",
      "The populations (N_a, N_b) is: (2, 5)\n",
      "The total propensity is: 2.0\n",
      "The time until the next reaction is: 0.29079809165993203\n",
      "The populations (N_a, N_b) is: (2, 5)\n",
      "The total propensity is: 2.0\n",
      "The time until the next reaction is: 0.06919626154033587\n",
      "The populations (N_a, N_b) is: (2, 4)\n",
      "The total propensity is: 1.8\n",
      "The time until the next reaction is: 0.020418434271269967\n",
      "The populations (N_a, N_b) is: (2, 4)\n",
      "The total propensity is: 1.8\n",
      "The time until the next reaction is: 0.0794781895839752\n",
      "The populations (N_a, N_b) is: (2, 3)\n",
      "The total propensity is: 1.6\n",
      "The time until the next reaction is: 0.4112849987155276\n",
      "The populations (N_a, N_b) is: (2, 2)\n",
      "The total propensity is: 1.4\n",
      "The time until the next reaction is: 2.141195607827161\n",
      "The populations (N_a, N_b) is: (2, 2)\n",
      "The total propensity is: 1.4\n",
      "The time until the next reaction is: 0.30195674407366474\n",
      "The populations (N_a, N_b) is: (2, 2)\n",
      "The total propensity is: 1.4\n",
      "The time until the next reaction is: 0.34869817189250446\n",
      "The populations (N_a, N_b) is: (1, 3)\n",
      "The total propensity is: 1.1\n",
      "The time until the next reaction is: 0.4178330311288856\n",
      "The populations (N_a, N_b) is: (0, 4)\n",
      "The total propensity is: 0.8\n",
      "The time until the next reaction is: 1.9597896998744673\n",
      "The populations (N_a, N_b) is: (0, 4)\n",
      "The total propensity is: 0.8\n",
      "The time until the next reaction is: 0.17424123748145107\n",
      "The populations (N_a, N_b) is: (0, 3)\n",
      "The total propensity is: 0.6000000000000001\n",
      "The time until the next reaction is: 0.6910104047299106\n",
      "The populations (N_a, N_b) is: (0, 2)\n",
      "The total propensity is: 0.4\n",
      "The time until the next reaction is: 2.6527498163277285\n",
      "The populations (N_a, N_b) is: (0, 1)\n",
      "The total propensity is: 0.2\n",
      "The time until the next reaction is: 0.9394322441137982\n",
      "The populations (N_a, N_b) is: (0, 1)\n",
      "The total propensity is: 0.2\n",
      "The time until the next reaction is: 2.7431589218821686\n",
      "The populations (N_a, N_b) is: (0, 0)\n"
     ]
    },
    {
     "data": {
      "image/png": "[encoded data removed]",
      "text/plain": [
       "<Figure size 640x480 with 1 Axes>"
      ]
     },
     "metadata": {},
     "output_type": "display_data"
    }
   ],
   "source": [
    "import numpy as np\n",
    "import matplotlib.pyplot as plt\n",
    "import random as random\n",
    "N_a_initial = 8\n",
    "N_b_initial = 2\n",
    "\n",
    "k_a = 0.5\n",
    "k_b = 0.2\n",
    "t = 0\n",
    "time = [t]\n",
    "N_a_state = [N_a_initial]\n",
    "N_b_state = [N_b_initial]\n",
    "\n",
    "def flip(p):\n",
    "    return True if random.random() < p else False\n",
    "\n",
    "while N_a_initial + N_b_initial > 0:\n",
    "\n",
    "    total_propensity = k_a*N_a_initial + k_b*N_b_initial\n",
    "    print(\"The total propensity is:\", total_propensity)\n",
    "    r1, r2 = np.random.uniform(0, 1, 2)\n",
    "    tau = np.log(1 / r1) / total_propensity\n",
    "    print(\"The time until the next reaction is:\", tau)\n",
    "    if r2 > r1: \n",
    "        # reaction A -> B has a chance to fire\n",
    "        p_a_to_b = (k_a * N_a_initial) / total_propensity\n",
    "        if flip(p_a_to_b) == True:\n",
    "            N_a_initial -= 1\n",
    "            N_b_initial += 1\n",
    "            # print(\"Reaction A -> B fired\")\n",
    "        else: \n",
    "            pass\n",
    "            # print(\"No reaction fired\")\n",
    "        # update populations\n",
    "\n",
    "    else:\n",
    "        # reaction B -> 0 has a chance to fire\n",
    "        p_b_to_0 = (k_b * N_b_initial) / total_propensity\n",
    "        if flip(p_b_to_0) == True:\n",
    "            N_b_initial -= 1\n",
    "            # print(\"Reaction B -> 0 fired\")    \n",
    "        else: \n",
    "            pass\n",
    "            # print(\"No reaction fired\")\n",
    "    print(\"The populations (N_a, N_b) is:\", (N_a_initial, N_b_initial))\n",
    "    t += tau\n",
    "    time.append(t)\n",
    "    N_a_state.append(N_a_initial)\n",
    "    N_b_state.append(N_b_initial)\n",
    "\n",
    "plt.plot(time, N_a_state, label='N_a')\n",
    "plt.plot(time, N_b_state, label='N_b')\n",
    "plt.xlabel('Reaction step')\n",
    "plt.ylabel('Population')\n",
    "plt.legend()\n",
    "plt.show()\n"
   ]
  },
  {
   "cell_type": "code",
   "execution_count": 130,
   "id": "01b3864a",
   "metadata": {},
   "outputs": [
    {
     "name": "stdout",
     "output_type": "stream",
     "text": [
      "The total propensity is: 2.6\n",
      "The populations (N_a, N_b) is: (5, 1)\n",
      "The total propensity is: 2.6\n",
      "The populations (N_a, N_b) is: (5, 1)\n",
      "The total propensity is: 2.6\n",
      "The populations (N_a, N_b) is: (5, 1)\n",
      "The total propensity is: 2.6\n",
      "The populations (N_a, N_b) is: (4, 2)\n",
      "The total propensity is: 2.16\n",
      "The populations (N_a, N_b) is: (3, 3)\n",
      "The total propensity is: 1.68\n",
      "The populations (N_a, N_b) is: (2, 4)\n",
      "The total propensity is: 1.16\n",
      "The populations (N_a, N_b) is: (1, 5)\n",
      "The total propensity is: 0.6\n",
      "The populations (N_a, N_b) is: (1, 5)\n",
      "The total propensity is: 0.6\n",
      "The populations (N_a, N_b) is: (1, 5)\n",
      "The total propensity is: 0.6\n",
      "The populations (N_a, N_b) is: (1, 5)\n",
      "The total propensity is: 0.6\n",
      "The populations (N_a, N_b) is: (1, 5)\n",
      "The total propensity is: 0.6\n",
      "The populations (N_a, N_b) is: (0, 6)\n"
     ]
    },
    {
     "data": {
      "image/png": "[encoded data removed]",
      "text/plain": [
       "<Figure size 640x480 with 1 Axes>"
      ]
     },
     "metadata": {},
     "output_type": "display_data"
    }
   ],
   "source": [
    "import numpy as np\n",
    "import matplotlib.pyplot as plt\n",
    "import random as random\n",
    "V = 10  # volume\n",
    "N_a_initial = 5\n",
    "N_b_initial = 1\n",
    "\n",
    "k_1 = 0.5\n",
    "k_2 = 0.2\n",
    "t = 0\n",
    "time = [t]\n",
    "N_a_state = [N_a_initial]\n",
    "N_b_state = [N_b_initial]\n",
    "\n",
    "def flip(p):\n",
    "    return True if random.random() < p else False\n",
    "\n",
    "while N_a_initial + N_b_initial > 0:\n",
    "    A_1 = k_1 * N_a_initial\n",
    "    A_2 = k_2 * N_a_initial * N_b_initial / V\n",
    "    total_propensity = A_1 + A_2\n",
    "    if total_propensity == 0:\n",
    "        break\n",
    "    print(\"The total propensity is:\", total_propensity)\n",
    "    r1, r2 = np.random.uniform(0, 1, 2)\n",
    "    tau = np.log(1 / r1) / total_propensity\n",
    "    # print(\"The time until the next reaction is:\", tau)\n",
    "    if r2 > r1: \n",
    "        p_a_to_b = A_1 / total_propensity\n",
    "        if flip(p_a_to_b) == True:\n",
    "            N_a_initial -= 1\n",
    "            N_b_initial += 1\n",
    "            # print(\"Reaction A -> B fired\")\n",
    "        else: \n",
    "            pass\n",
    "            # print(\"No reaction fired\")\n",
    "        # update populations\n",
    "\n",
    "        \n",
    "    else:\n",
    "        p_b_to_0 = A_2 / total_propensity\n",
    "        if flip(p_b_to_0) == True:\n",
    "            N_a_initial -= 1\n",
    "            N_b_initial += 1\n",
    "            # print(\"Reaction A + B -> 2B fired\")    \n",
    "        else: \n",
    "            pass\n",
    "            # print(\"No reaction fired\")\n",
    "    print(\"The populations (N_a, N_b) is:\", (N_a_initial, N_b_initial))\n",
    "    t += tau\n",
    "    time.append(t)\n",
    "    N_a_state.append(N_a_initial)\n",
    "    N_b_state.append(N_b_initial)\n",
    "\n",
    "plt.plot(time, N_a_state, label='N_a')\n",
    "plt.plot(time, N_b_state, label='N_b')\n",
    "plt.xlabel('Reaction step')\n",
    "plt.ylabel('Population')\n",
    "plt.legend()\n",
    "plt.show()\n"
   ]
  },
  {
   "cell_type": "code",
   "execution_count": 20,
   "id": "c0219001",
   "metadata": {},
   "outputs": [
    {
     "name": "stdout",
     "output_type": "stream",
     "text": [
      "[ 0.  1.  2.  3.  4.  5.  6.  7.  8.  9. 10.]\n"
     ]
    }
   ],
   "source": [
    "interactions_vector = np.linspace(0, 10, num=11)\n",
    "print(interactions_vector)\n"
   ]
  },
  {
   "cell_type": "code",
   "execution_count": 112,
   "id": "7bd7c64b",
   "metadata": {},
   "outputs": [
    {
     "name": "stdout",
     "output_type": "stream",
     "text": [
      "3.1\n",
      "[2.4, 0.6, 0.4]\n",
      "R2 fired\n"
     ]
    }
   ],
   "source": [
    "a1 = 2.4; a2 = 0.6; a3 = 0.4; a0 = a1 + a2 + a3\n",
    "a_list = [a1, a2, a3]\n",
    "u = a0 * np.random.uniform(0, 1)\n",
    "u = 3.1\n",
    "print(u)\n",
    "i = np.searchsorted(np.cumsum(a_list), u, side=\"right\")\n",
    "print(a_list)\n",
    "print(f\"R{i} fired\")\n",
    "\n",
    "    "
   ]
  },
  {
   "cell_type": "code",
   "execution_count": 122,
   "id": "c997747e",
   "metadata": {},
   "outputs": [
    {
     "name": "stdout",
     "output_type": "stream",
     "text": [
      "[-0.57735027 -0.57735027 -0.57735027]\n",
      "[ 0.00000000e+00  0.00000000e+00  0.00000000e+00  0.00000000e+00\n",
      " -1.11022302e-16  1.11022302e-16]\n"
     ]
    }
   ],
   "source": [
    "from scipy import linalg\n",
    "\n",
    "S_0 = np.array([[-1, 1, 0],  \n",
    "                [1, -1, 0],  \n",
    "                [-1, 1, 0],  \n",
    "                [1, -1, 0], \n",
    "                [0, -1, 1],  \n",
    "                [0, 1, -1]])\n",
    "ns = linalg.null_space(S_0)\n",
    "ns_vec = ns[:, 0]\n",
    "print(ns_vec)\n",
    "print(np.dot(S_0, ns_vec))"
   ]
  }
 ],
 "metadata": {
  "kernelspec": {
   "display_name": ".venv",
   "language": "python",
   "name": "python3"
  },
  "language_info": {
   "codemirror_mode": {
    "name": "ipython",
    "version": 3
   },
   "file_extension": ".py",
   "mimetype": "text/x-python",
   "name": "python",
   "nbconvert_exporter": "python",
   "pygments_lexer": "ipython3",
   "version": "3.13.7"
  }
 },
 "nbformat": 4,
 "nbformat_minor": 5
}
